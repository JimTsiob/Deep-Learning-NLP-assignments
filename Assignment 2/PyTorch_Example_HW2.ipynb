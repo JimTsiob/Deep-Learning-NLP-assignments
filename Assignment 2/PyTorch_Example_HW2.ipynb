{
  "cells": [
    {
      "cell_type": "markdown",
      "metadata": {
        "id": "lmMYUzfTNcKG"
      },
      "source": [
        "# GloVe Example"
      ]
    },
    {
      "cell_type": "markdown",
      "metadata": {
        "id": "nj6_lyUun7k4"
      },
      "source": [
        "## Download GloVe Embeddings"
      ]
    },
    {
      "cell_type": "code",
      "execution_count": 29,
      "metadata": {
        "colab": {
          "base_uri": "https://localhost:8080/"
        },
        "id": "hHATZ4a6ONE0",
        "outputId": "35890175-41b1-4ffe-894b-8a2d6241b455"
      },
      "outputs": [
        {
          "name": "stderr",
          "output_type": "stream",
          "text": [
            "'wget' is not recognized as an internal or external command,\n",
            "operable program or batch file.\n"
          ]
        }
      ],
      "source": [
        "!wget http://nlp.stanford.edu/data/glove.6B.zip"
      ]
    },
    {
      "cell_type": "code",
      "execution_count": 12,
      "metadata": {
        "colab": {
          "base_uri": "https://localhost:8080/"
        },
        "id": "ScTsMlAEOSwl",
        "outputId": "c3047e09-f05e-4fcb-a4e9-bfa6ae4c5d86"
      },
      "outputs": [
        {
          "name": "stderr",
          "output_type": "stream",
          "text": [
            "'unzip' is not recognized as an internal or external command,\n",
            "operable program or batch file.\n"
          ]
        }
      ],
      "source": [
        "!unzip glove*.zip"
      ]
    },
    {
      "cell_type": "markdown",
      "metadata": {
        "id": "py-j3cP6oDKI"
      },
      "source": [
        "## Transform GloVe embeddings to Word2Vec format"
      ]
    },
    {
      "cell_type": "code",
      "execution_count": 49,
      "metadata": {
        "colab": {
          "base_uri": "https://localhost:8080/"
        },
        "id": "tbrKc9rlNo_D",
        "outputId": "2e563cbe-d6b8-4f41-97db-f63e9e86c87f"
      },
      "outputs": [
        {
          "name": "stderr",
          "output_type": "stream",
          "text": [
            "C:\\Users\\mtsourma\\AppData\\Local\\Temp\\ipykernel_17244\\1543968405.py:7: DeprecationWarning: Call to deprecated `glove2word2vec` (KeyedVectors.load_word2vec_format(.., binary=False, no_header=True) loads GLoVE text vectors.).\n",
            "  glove2word2vec(glove_input_file, w2v_output_file) #convert GloVe vectors into the word2vec\n"
          ]
        },
        {
          "data": {
            "text/plain": [
              "(400000, 50)"
            ]
          },
          "execution_count": 49,
          "metadata": {},
          "output_type": "execute_result"
        }
      ],
      "source": [
        "from gensim.scripts.glove2word2vec import glove2word2vec\n",
        "import pandas as pd\n",
        "\n",
        "glove_input_file = 'glove.6B.50d.txt'\n",
        "w2v_output_file = 'glv_with_w2v_format.txt'\n",
        "\n",
        "glove2word2vec(glove_input_file, w2v_output_file) #convert GloVe vectors into the word2vec"
      ]
    },
    {
      "cell_type": "markdown",
      "metadata": {
        "id": "np58nMYNoMM9"
      },
      "source": [
        "Observe word and respective vector"
      ]
    },
    {
      "cell_type": "code",
      "execution_count": 50,
      "metadata": {
        "colab": {
          "base_uri": "https://localhost:8080/",
          "height": 708
        },
        "id": "pCzb77MmRsY9",
        "outputId": "1443ddf0-09bb-4f73-e96e-0bb37324ed94"
      },
      "outputs": [
        {
          "data": {
            "text/html": [
              "<div>\n",
              "<style scoped>\n",
              "    .dataframe tbody tr th:only-of-type {\n",
              "        vertical-align: middle;\n",
              "    }\n",
              "\n",
              "    .dataframe tbody tr th {\n",
              "        vertical-align: top;\n",
              "    }\n",
              "\n",
              "    .dataframe thead th {\n",
              "        text-align: right;\n",
              "    }\n",
              "</style>\n",
              "<table border=\"1\" class=\"dataframe\">\n",
              "  <thead>\n",
              "    <tr style=\"text-align: right;\">\n",
              "      <th></th>\n",
              "      <th>word</th>\n",
              "      <th>vector</th>\n",
              "    </tr>\n",
              "  </thead>\n",
              "  <tbody>\n",
              "    <tr>\n",
              "      <th>0</th>\n",
              "      <td>the</td>\n",
              "      <td>[0.418, 0.24968, -0.41242, 0.1217, 0.34527, -0...</td>\n",
              "    </tr>\n",
              "    <tr>\n",
              "      <th>1</th>\n",
              "      <td>,</td>\n",
              "      <td>[0.013441, 0.23682, -0.16899, 0.40951, 0.63812...</td>\n",
              "    </tr>\n",
              "    <tr>\n",
              "      <th>2</th>\n",
              "      <td>.</td>\n",
              "      <td>[0.15164, 0.30177, -0.16763, 0.17684, 0.31719,...</td>\n",
              "    </tr>\n",
              "    <tr>\n",
              "      <th>3</th>\n",
              "      <td>of</td>\n",
              "      <td>[0.70853, 0.57088, -0.4716, 0.18048, 0.54449, ...</td>\n",
              "    </tr>\n",
              "    <tr>\n",
              "      <th>4</th>\n",
              "      <td>to</td>\n",
              "      <td>[0.68047, -0.039263, 0.30186, -0.17792, 0.4296...</td>\n",
              "    </tr>\n",
              "    <tr>\n",
              "      <th>5</th>\n",
              "      <td>and</td>\n",
              "      <td>[0.26818, 0.14346, -0.27877, 0.016257, 0.11384...</td>\n",
              "    </tr>\n",
              "    <tr>\n",
              "      <th>6</th>\n",
              "      <td>in</td>\n",
              "      <td>[0.33042, 0.24995, -0.60874, 0.10923, 0.036372...</td>\n",
              "    </tr>\n",
              "    <tr>\n",
              "      <th>7</th>\n",
              "      <td>a</td>\n",
              "      <td>[0.21705, 0.46515, -0.46757, 0.10082, 1.0135, ...</td>\n",
              "    </tr>\n",
              "    <tr>\n",
              "      <th>8</th>\n",
              "      <td>\"</td>\n",
              "      <td>[0.25769, 0.45629, -0.76974, -0.37679, 0.59272...</td>\n",
              "    </tr>\n",
              "    <tr>\n",
              "      <th>9</th>\n",
              "      <td>'s</td>\n",
              "      <td>[0.23727, 0.40478, -0.20547, 0.58805, 0.65533,...</td>\n",
              "    </tr>\n",
              "    <tr>\n",
              "      <th>10</th>\n",
              "      <td>for</td>\n",
              "      <td>[0.15272, 0.36181, -0.22168, 0.066051, 0.13029...</td>\n",
              "    </tr>\n",
              "    <tr>\n",
              "      <th>11</th>\n",
              "      <td>-</td>\n",
              "      <td>[-0.16768, 1.2151, 0.49515, 0.26836, -0.4585, ...</td>\n",
              "    </tr>\n",
              "    <tr>\n",
              "      <th>12</th>\n",
              "      <td>that</td>\n",
              "      <td>[0.88387, -0.14199, 0.13566, 0.098682, 0.51218...</td>\n",
              "    </tr>\n",
              "    <tr>\n",
              "      <th>13</th>\n",
              "      <td>on</td>\n",
              "      <td>[0.30045, 0.25006, -0.16692, 0.1923, 0.026921,...</td>\n",
              "    </tr>\n",
              "    <tr>\n",
              "      <th>14</th>\n",
              "      <td>is</td>\n",
              "      <td>[0.6185, 0.64254, -0.46552, 0.3757, 0.74838, 0...</td>\n",
              "    </tr>\n",
              "    <tr>\n",
              "      <th>15</th>\n",
              "      <td>was</td>\n",
              "      <td>[0.086888, -0.19416, -0.24267, -0.33391, 0.567...</td>\n",
              "    </tr>\n",
              "    <tr>\n",
              "      <th>16</th>\n",
              "      <td>said</td>\n",
              "      <td>[0.38973, -0.2121, 0.51837, 0.80136, 1.0336, -...</td>\n",
              "    </tr>\n",
              "    <tr>\n",
              "      <th>17</th>\n",
              "      <td>with</td>\n",
              "      <td>[0.25616, 0.43694, -0.11889, 0.20345, 0.41959,...</td>\n",
              "    </tr>\n",
              "    <tr>\n",
              "      <th>18</th>\n",
              "      <td>he</td>\n",
              "      <td>[-0.20092, -0.060271, -0.61766, -0.8444, 0.578...</td>\n",
              "    </tr>\n",
              "    <tr>\n",
              "      <th>19</th>\n",
              "      <td>as</td>\n",
              "      <td>[0.20782, 0.12713, -0.30188, -0.23125, 0.30175...</td>\n",
              "    </tr>\n",
              "    <tr>\n",
              "      <th>20</th>\n",
              "      <td>it</td>\n",
              "      <td>[0.61183, -0.22072, -0.10898, -0.052967, 0.508...</td>\n",
              "    </tr>\n",
              "  </tbody>\n",
              "</table>\n",
              "</div>"
            ],
            "text/plain": [
              "    word                                             vector\n",
              "0    the  [0.418, 0.24968, -0.41242, 0.1217, 0.34527, -0...\n",
              "1      ,  [0.013441, 0.23682, -0.16899, 0.40951, 0.63812...\n",
              "2      .  [0.15164, 0.30177, -0.16763, 0.17684, 0.31719,...\n",
              "3     of  [0.70853, 0.57088, -0.4716, 0.18048, 0.54449, ...\n",
              "4     to  [0.68047, -0.039263, 0.30186, -0.17792, 0.4296...\n",
              "5    and  [0.26818, 0.14346, -0.27877, 0.016257, 0.11384...\n",
              "6     in  [0.33042, 0.24995, -0.60874, 0.10923, 0.036372...\n",
              "7      a  [0.21705, 0.46515, -0.46757, 0.10082, 1.0135, ...\n",
              "8      \"  [0.25769, 0.45629, -0.76974, -0.37679, 0.59272...\n",
              "9     's  [0.23727, 0.40478, -0.20547, 0.58805, 0.65533,...\n",
              "10   for  [0.15272, 0.36181, -0.22168, 0.066051, 0.13029...\n",
              "11     -  [-0.16768, 1.2151, 0.49515, 0.26836, -0.4585, ...\n",
              "12  that  [0.88387, -0.14199, 0.13566, 0.098682, 0.51218...\n",
              "13    on  [0.30045, 0.25006, -0.16692, 0.1923, 0.026921,...\n",
              "14    is  [0.6185, 0.64254, -0.46552, 0.3757, 0.74838, 0...\n",
              "15   was  [0.086888, -0.19416, -0.24267, -0.33391, 0.567...\n",
              "16  said  [0.38973, -0.2121, 0.51837, 0.80136, 1.0336, -...\n",
              "17  with  [0.25616, 0.43694, -0.11889, 0.20345, 0.41959,...\n",
              "18    he  [-0.20092, -0.060271, -0.61766, -0.8444, 0.578...\n",
              "19    as  [0.20782, 0.12713, -0.30188, -0.23125, 0.30175...\n",
              "20    it  [0.61183, -0.22072, -0.10898, -0.052967, 0.508..."
            ]
          },
          "execution_count": 50,
          "metadata": {},
          "output_type": "execute_result"
        }
      ],
      "source": [
        "with open(w2v_output_file, 'r') as infile:\n",
        "    w2v = infile.read().splitlines()\n",
        "\n",
        "w2v_dict = {\n",
        "    'word': [],\n",
        "    'vector': []\n",
        "}\n",
        "\n",
        "for word_vector_pair in w2v[1:22]:\n",
        "    word_vector_pair = word_vector_pair.split()\n",
        "    word = word_vector_pair[0]\n",
        "    vector = word_vector_pair[1:]\n",
        "    w2v_dict['word'].append(word)\n",
        "    w2v_dict['vector'].append(vector)\n",
        "\n",
        "w2v_df = pd.DataFrame.from_dict(w2v_dict)\n",
        "\n",
        "w2v_df"
      ]
    },
    {
      "cell_type": "code",
      "execution_count": 52,
      "metadata": {},
      "outputs": [
        {
          "data": {
            "text/plain": [
              "['0.418',\n",
              " '0.24968',\n",
              " '-0.41242',\n",
              " '0.1217',\n",
              " '0.34527',\n",
              " '-0.044457',\n",
              " '-0.49688',\n",
              " '-0.17862',\n",
              " '-0.00066023',\n",
              " '-0.6566',\n",
              " '0.27843',\n",
              " '-0.14767',\n",
              " '-0.55677',\n",
              " '0.14658',\n",
              " '-0.0095095',\n",
              " '0.011658',\n",
              " '0.10204',\n",
              " '-0.12792',\n",
              " '-0.8443',\n",
              " '-0.12181',\n",
              " '-0.016801',\n",
              " '-0.33279',\n",
              " '-0.1552',\n",
              " '-0.23131',\n",
              " '-0.19181',\n",
              " '-1.8823',\n",
              " '-0.76746',\n",
              " '0.099051',\n",
              " '-0.42125',\n",
              " '-0.19526',\n",
              " '4.0071',\n",
              " '-0.18594',\n",
              " '-0.52287',\n",
              " '-0.31681',\n",
              " '0.00059213',\n",
              " '0.0074449',\n",
              " '0.17778',\n",
              " '-0.15897',\n",
              " '0.012041',\n",
              " '-0.054223',\n",
              " '-0.29871',\n",
              " '-0.15749',\n",
              " '-0.34758',\n",
              " '-0.045637',\n",
              " '-0.44251',\n",
              " '0.18785',\n",
              " '0.0027849',\n",
              " '-0.18411',\n",
              " '-0.11514',\n",
              " '-0.78581']"
            ]
          },
          "execution_count": 52,
          "metadata": {},
          "output_type": "execute_result"
        }
      ],
      "source": [
        "w2v_df[\"vector\"][0]"
      ]
    },
    {
      "cell_type": "markdown",
      "metadata": {
        "id": "nC76FU3eoVvH"
      },
      "source": [
        "## Examples of semantically similar words"
      ]
    },
    {
      "cell_type": "code",
      "execution_count": 53,
      "metadata": {
        "id": "Tf53sI0XYvBQ"
      },
      "outputs": [],
      "source": [
        "from gensim.models import KeyedVectors\n",
        "\n",
        "model = KeyedVectors.load_word2vec_format(w2v_output_file, binary=False)"
      ]
    },
    {
      "cell_type": "code",
      "execution_count": 54,
      "metadata": {
        "colab": {
          "base_uri": "https://localhost:8080/"
        },
        "id": "dDPBts_GZNna",
        "outputId": "230935d9-f12d-4e62-9b54-8eb58547b116"
      },
      "outputs": [
        {
          "name": "stdout",
          "output_type": "stream",
          "text": [
            "Most semantically similar to word Woman:\n",
            "\n",
            "     word            similarity score\n",
            "===========================================\n",
            "     girl           0.9065280556678772\n",
            "     man            0.8860336542129517\n",
            "     mother         0.8763704299926758\n",
            "     her            0.8613135814666748\n",
            "     boy            0.859611988067627\n",
            "     she            0.8430695533752441\n",
            "     herself        0.8224568367004395\n",
            "     child          0.8108214139938354\n",
            "     wife           0.8037394285202026\n",
            "     old            0.7982394695281982\n",
            "\n",
            "\n",
            "Most semantically similar to word Man:\n",
            "\n",
            "     word            similarity score\n",
            "===========================================\n",
            "     woman          0.8860337734222412\n",
            "     boy            0.8564431071281433\n",
            "     another        0.8452839851379395\n",
            "     old            0.8372183442115784\n",
            "     one            0.827606201171875\n",
            "     who            0.8244695663452148\n",
            "     him            0.8194693922996521\n",
            "     turned         0.8154467940330505\n",
            "     whose          0.811974048614502\n",
            "     himself        0.807725727558136\n"
          ]
        }
      ],
      "source": [
        "most_similar_woman = model.most_similar('woman')\n",
        "most_similar_man = model.most_similar('man')\n",
        "\n",
        "print(f'Most semantically similar to word Woman:')\n",
        "print(f'\\n{\" \"*5}word{\" \"*10}  similarity score')\n",
        "print(f'{\"=\"*43}')\n",
        "for w in most_similar_woman:\n",
        "    print(f'{\" \"*5}{w[0]:15}{w[1]}')\n",
        "\n",
        "print(f'\\n\\nMost semantically similar to word Man:')\n",
        "print(f'\\n{\" \"*5}word{\" \"*10}  similarity score')\n",
        "print(f'{\"=\"*43}')\n",
        "for w in most_similar_man:\n",
        "    print(f'{\" \"*5}{w[0]:15}{w[1]}')"
      ]
    },
    {
      "cell_type": "markdown",
      "metadata": {
        "id": "yRCCFzwnaW5Z"
      },
      "source": [
        "Calculate the following *semantic* equation:\n",
        " $(king - man) + woman = ?$"
      ]
    },
    {
      "cell_type": "code",
      "execution_count": 55,
      "metadata": {
        "colab": {
          "base_uri": "https://localhost:8080/"
        },
        "id": "yPBTVggSaQ50",
        "outputId": "aec11074-f172-4baf-dc0b-3f7a4e7be88f"
      },
      "outputs": [
        {
          "data": {
            "text/plain": [
              "[('queen', 0.8523604273796082), ('throne', 0.7664334177970886)]"
            ]
          },
          "execution_count": 55,
          "metadata": {},
          "output_type": "execute_result"
        }
      ],
      "source": [
        "#Find the top-N most similar words. Positive words contribute positively towards the similarity, negative words negatively.\n",
        "\n",
        "result = model.most_similar(positive=['king', 'woman'], negative=['man'], topn=2) \n",
        "result"
      ]
    },
    {
      "cell_type": "markdown",
      "metadata": {
        "id": "_VNmnrbYLhK2"
      },
      "source": [
        "## Visualise Linear Substructures"
      ]
    },
    {
      "cell_type": "code",
      "execution_count": null,
      "metadata": {
        "colab": {
          "base_uri": "https://localhost:8080/",
          "height": 557
        },
        "id": "obMG5dyf1i0H",
        "outputId": "2ad51717-6121-4496-f656-cf348f2c9e24"
      },
      "outputs": [
        {
          "data": {
            "image/png": "[encoded data removed]",
            "text/plain": [
              "<Figure size 792x648 with 1 Axes>"
            ]
          },
          "metadata": {},
          "output_type": "display_data"
        }
      ],
      "source": [
        "import warnings\n",
        "warnings.simplefilter(action='ignore', category=FutureWarning)\n",
        "\n",
        "import numpy as np\n",
        "from sklearn.manifold import TSNE\n",
        "import matplotlib.pyplot as plt\n",
        "import seaborn as sns\n",
        "\n",
        "sns.set_style(\"darkgrid\")\n",
        "sns.set_context(\"talk\",  font_scale=0.6)\n",
        "\n",
        "vocab = [\"boy\", \"girl\", \"man\", \"woman\", \"king\", \"queen\", \"banana\", \"apple\", \"mango\", \"fruit\", \"coconut\", \"orange\"]\n",
        "\n",
        "def glove_plot(model):\n",
        "    labels = []\n",
        "    wordvecs = []\n",
        "\n",
        "    for word in vocab:\n",
        "        wordvecs.append(model[word])\n",
        "        labels.append(word)\n",
        "    \n",
        "    tsne_model = TSNE(perplexity=3, n_components=2, init='pca', random_state=42) #T-distributed Stochastic Neighbor Embedding\n",
        "    coordinates = tsne_model.fit_transform(wordvecs) #The fit method is calculating the mean and variance of each of the features present in our data. The transform method is transforming all the features using the respective mean and variance.\n",
        "\n",
        "    x = []\n",
        "    y = []\n",
        "    for value in coordinates:\n",
        "        x.append(value[0])\n",
        "        y.append(value[1])\n",
        "        \n",
        "    \n",
        "    plt.figure(figsize=(11,9)) \n",
        "    plt.title('Linear substructures of words with GloVe embeddings')\n",
        "    for i in range(len(x)):\n",
        "        plt.scatter(x[i],y[i])\n",
        "        plt.annotate(labels[i],\n",
        "                     xy=(x[i], y[i]),\n",
        "                     xytext=(2, 2),\n",
        "                     textcoords='offset points',\n",
        "                     ha='right',\n",
        "                     va='bottom')\n",
        "    plt.show()\n",
        "\n",
        "glove_plot(model)"
      ]
    },
    {
      "cell_type": "markdown",
      "metadata": {
        "id": "ruWJ4cTz794Z"
      },
      "source": [
        "# Training a Neural Network with PyTorch"
      ]
    },
    {
      "cell_type": "code",
      "execution_count": 60,
      "metadata": {
        "id": "E4yVVSMZ7YGi"
      },
      "outputs": [],
      "source": [
        "import torch\n",
        "import torch.nn as nn #Base class for all neural network modules.\n",
        "import matplotlib.pyplot as plt\n",
        "import pandas as pd"
      ]
    },
    {
      "cell_type": "markdown",
      "metadata": {
        "id": "D43h2egN8qm9"
      },
      "source": [
        "## Load data"
      ]
    },
    {
      "cell_type": "code",
      "execution_count": 61,
      "metadata": {
        "colab": {
          "base_uri": "https://localhost:8080/",
          "height": 300
        },
        "id": "8pm7sprm8Tvb",
        "outputId": "d1e53501-9305-4ea8-f9f5-4b9024c0f0ee"
      },
      "outputs": [
        {
          "data": {
            "text/html": [
              "<div>\n",
              "<style scoped>\n",
              "    .dataframe tbody tr th:only-of-type {\n",
              "        vertical-align: middle;\n",
              "    }\n",
              "\n",
              "    .dataframe tbody tr th {\n",
              "        vertical-align: top;\n",
              "    }\n",
              "\n",
              "    .dataframe thead th {\n",
              "        text-align: right;\n",
              "    }\n",
              "</style>\n",
              "<table border=\"1\" class=\"dataframe\">\n",
              "  <thead>\n",
              "    <tr style=\"text-align: right;\">\n",
              "      <th></th>\n",
              "      <th>longitude</th>\n",
              "      <th>latitude</th>\n",
              "      <th>housing_median_age</th>\n",
              "      <th>total_rooms</th>\n",
              "      <th>total_bedrooms</th>\n",
              "      <th>population</th>\n",
              "      <th>households</th>\n",
              "      <th>median_income</th>\n",
              "      <th>median_house_value</th>\n",
              "    </tr>\n",
              "  </thead>\n",
              "  <tbody>\n",
              "    <tr>\n",
              "      <th>count</th>\n",
              "      <td>17000.000000</td>\n",
              "      <td>17000.000000</td>\n",
              "      <td>17000.000000</td>\n",
              "      <td>17000.000000</td>\n",
              "      <td>17000.000000</td>\n",
              "      <td>17000.000000</td>\n",
              "      <td>17000.000000</td>\n",
              "      <td>17000.000000</td>\n",
              "      <td>17000.000000</td>\n",
              "    </tr>\n",
              "    <tr>\n",
              "      <th>mean</th>\n",
              "      <td>-119.562108</td>\n",
              "      <td>35.625225</td>\n",
              "      <td>28.589353</td>\n",
              "      <td>2643.664412</td>\n",
              "      <td>539.410824</td>\n",
              "      <td>1429.573941</td>\n",
              "      <td>501.221941</td>\n",
              "      <td>3.883578</td>\n",
              "      <td>207300.912353</td>\n",
              "    </tr>\n",
              "    <tr>\n",
              "      <th>std</th>\n",
              "      <td>2.005166</td>\n",
              "      <td>2.137340</td>\n",
              "      <td>12.586937</td>\n",
              "      <td>2179.947071</td>\n",
              "      <td>421.499452</td>\n",
              "      <td>1147.852959</td>\n",
              "      <td>384.520841</td>\n",
              "      <td>1.908157</td>\n",
              "      <td>115983.764387</td>\n",
              "    </tr>\n",
              "    <tr>\n",
              "      <th>min</th>\n",
              "      <td>-124.350000</td>\n",
              "      <td>32.540000</td>\n",
              "      <td>1.000000</td>\n",
              "      <td>2.000000</td>\n",
              "      <td>1.000000</td>\n",
              "      <td>3.000000</td>\n",
              "      <td>1.000000</td>\n",
              "      <td>0.499900</td>\n",
              "      <td>14999.000000</td>\n",
              "    </tr>\n",
              "    <tr>\n",
              "      <th>25%</th>\n",
              "      <td>-121.790000</td>\n",
              "      <td>33.930000</td>\n",
              "      <td>18.000000</td>\n",
              "      <td>1462.000000</td>\n",
              "      <td>297.000000</td>\n",
              "      <td>790.000000</td>\n",
              "      <td>282.000000</td>\n",
              "      <td>2.566375</td>\n",
              "      <td>119400.000000</td>\n",
              "    </tr>\n",
              "    <tr>\n",
              "      <th>50%</th>\n",
              "      <td>-118.490000</td>\n",
              "      <td>34.250000</td>\n",
              "      <td>29.000000</td>\n",
              "      <td>2127.000000</td>\n",
              "      <td>434.000000</td>\n",
              "      <td>1167.000000</td>\n",
              "      <td>409.000000</td>\n",
              "      <td>3.544600</td>\n",
              "      <td>180400.000000</td>\n",
              "    </tr>\n",
              "    <tr>\n",
              "      <th>75%</th>\n",
              "      <td>-118.000000</td>\n",
              "      <td>37.720000</td>\n",
              "      <td>37.000000</td>\n",
              "      <td>3151.250000</td>\n",
              "      <td>648.250000</td>\n",
              "      <td>1721.000000</td>\n",
              "      <td>605.250000</td>\n",
              "      <td>4.767000</td>\n",
              "      <td>265000.000000</td>\n",
              "    </tr>\n",
              "    <tr>\n",
              "      <th>max</th>\n",
              "      <td>-114.310000</td>\n",
              "      <td>41.950000</td>\n",
              "      <td>52.000000</td>\n",
              "      <td>37937.000000</td>\n",
              "      <td>6445.000000</td>\n",
              "      <td>35682.000000</td>\n",
              "      <td>6082.000000</td>\n",
              "      <td>15.000100</td>\n",
              "      <td>500001.000000</td>\n",
              "    </tr>\n",
              "  </tbody>\n",
              "</table>\n",
              "</div>"
            ],
            "text/plain": [
              "          longitude      latitude  housing_median_age   total_rooms  \\\n",
              "count  17000.000000  17000.000000        17000.000000  17000.000000   \n",
              "mean    -119.562108     35.625225           28.589353   2643.664412   \n",
              "std        2.005166      2.137340           12.586937   2179.947071   \n",
              "min     -124.350000     32.540000            1.000000      2.000000   \n",
              "25%     -121.790000     33.930000           18.000000   1462.000000   \n",
              "50%     -118.490000     34.250000           29.000000   2127.000000   \n",
              "75%     -118.000000     37.720000           37.000000   3151.250000   \n",
              "max     -114.310000     41.950000           52.000000  37937.000000   \n",
              "\n",
              "       total_bedrooms    population    households  median_income  \\\n",
              "count    17000.000000  17000.000000  17000.000000   17000.000000   \n",
              "mean       539.410824   1429.573941    501.221941       3.883578   \n",
              "std        421.499452   1147.852959    384.520841       1.908157   \n",
              "min          1.000000      3.000000      1.000000       0.499900   \n",
              "25%        297.000000    790.000000    282.000000       2.566375   \n",
              "50%        434.000000   1167.000000    409.000000       3.544600   \n",
              "75%        648.250000   1721.000000    605.250000       4.767000   \n",
              "max       6445.000000  35682.000000   6082.000000      15.000100   \n",
              "\n",
              "       median_house_value  \n",
              "count        17000.000000  \n",
              "mean        207300.912353  \n",
              "std         115983.764387  \n",
              "min          14999.000000  \n",
              "25%         119400.000000  \n",
              "50%         180400.000000  \n",
              "75%         265000.000000  \n",
              "max         500001.000000  "
            ]
          },
          "execution_count": 61,
          "metadata": {},
          "output_type": "execute_result"
        }
      ],
      "source": [
        "data = pd.read_csv('california_housing_train.csv')\n",
        "data.describe()"
      ]
    },
    {
      "cell_type": "code",
      "execution_count": 62,
      "metadata": {
        "colab": {
          "base_uri": "https://localhost:8080/"
        },
        "id": "2EIP1OaJOFak",
        "outputId": "0857eaa6-abe0-4ede-893b-9c76f3675612"
      },
      "outputs": [
        {
          "name": "stdout",
          "output_type": "stream",
          "text": [
            "x shape: torch.Size([17000, 8])\n",
            "y shape: torch.Size([17000, 1])\n"
          ]
        }
      ],
      "source": [
        "#Fill NaN values\n",
        "data = data.fillna(0)\n",
        "#Normalize values\n",
        "data = (data-data.mean())/data.std()\n",
        "#Separate features and targets\n",
        "x_df = pd.DataFrame(data, columns=data.columns[:-1])\n",
        "y_df = pd.DataFrame(data, columns=[data.columns[-1]]) #target = 'median_house_value'\n",
        "#Save in tensors\n",
        "x = torch.tensor(x_df.values, dtype=torch.float)\n",
        "y = torch.tensor(y_df.values, dtype=torch.float)\n",
        "\n",
        "print(f\"x shape: {x.shape}\")\n",
        "print(f\"y shape: {y.shape}\")"
      ]
    },
    {
      "cell_type": "markdown",
      "metadata": {
        "id": "i10vl9KnOwfE"
      },
      "source": [
        "## Create a Neural Network"
      ]
    },
    {
      "cell_type": "code",
      "execution_count": 63,
      "metadata": {
        "id": "wTlyzUiG8p5V"
      },
      "outputs": [],
      "source": [
        "class Net(nn.Module):\n",
        "    def __init__(self, D_in, H1, H2, H3, D_out):\n",
        "        super(Net, self).__init__()\n",
        "        \n",
        "        self.linear1 = nn.Linear(D_in, H1) # You can also try include activation functions to check how your model will behave\n",
        "        self.linear2 = nn.Linear(H1, H2)\n",
        "        self.linear3 = nn.Linear(H2, H3)\n",
        "        self.linear4 = nn.Linear(H3, D_out)\n",
        "        \n",
        "    def forward(self, x):\n",
        "        h1 = self.linear1(x)\n",
        "        h2 = self.linear2(h1)\n",
        "        h3 = self.linear3(h2)\n",
        "        out = self.linear4(h3)\n",
        "        return out"
      ]
    },
    {
      "cell_type": "code",
      "execution_count": 64,
      "metadata": {
        "id": "BXAcc2dLPPUe"
      },
      "outputs": [],
      "source": [
        "#Define layer sizes\n",
        "D_in = x.shape[1]\n",
        "H1 = 128 #size of the input sample\n",
        "H2 = 64\n",
        "H3 = 32\n",
        "D_out = 1\n",
        "\n",
        "#Define Hyperparameters\n",
        "learning_rate = 1e-4 # You can also experiment with different learning rates\n",
        "\n",
        "#Initialise model, loss, optimizer\n",
        "model = Net(D_in, H1, H2, H3, D_out)\n",
        "loss_func = nn.MSELoss(reduction='sum') # You can also try BCELoss and BCEWithLogitsLoss\n",
        "optimizer = torch.optim.SGD(model.parameters(), lr=learning_rate) # You can also try Adam and AdamW\n",
        "\n",
        "#Initialise dataloader\n",
        "dataset = torch.utils.data.TensorDataset(x, y) #class to represent the data as list of tensors. x=input_features, y=labels\n",
        "dataloader = torch.utils.data.DataLoader(dataset, batch_size=64, shuffle=True) "
      ]
    },
    {
      "cell_type": "code",
      "execution_count": 65,
      "metadata": {
        "colab": {
          "base_uri": "https://localhost:8080/"
        },
        "id": "4ENFPjgHSCAV",
        "outputId": "e208b5aa-cef3-4028-d5c5-132a99c61591"
      },
      "outputs": [
        {
          "data": {
            "text/plain": [
              "Net(\n",
              "  (linear1): Linear(in_features=8, out_features=128, bias=True)\n",
              "  (linear2): Linear(in_features=128, out_features=64, bias=True)\n",
              "  (linear3): Linear(in_features=64, out_features=32, bias=True)\n",
              "  (linear4): Linear(in_features=32, out_features=1, bias=True)\n",
              ")"
            ]
          },
          "execution_count": 65,
          "metadata": {},
          "output_type": "execute_result"
        }
      ],
      "source": [
        "model"
      ]
    },
    {
      "cell_type": "markdown",
      "metadata": {
        "id": "tWzZl_LRTd6J"
      },
      "source": [
        "## Train Network"
      ]
    },
    {
      "cell_type": "code",
      "execution_count": 66,
      "metadata": {
        "colab": {
          "base_uri": "https://localhost:8080/"
        },
        "id": "fck--1cFP1Rd",
        "outputId": "9167b0cb-c3e1-4d4a-ad0b-e8e392054786"
      },
      "outputs": [
        {
          "name": "stdout",
          "output_type": "stream",
          "text": [
            "Epoch   0: Loss = 29.09840\n",
            "Epoch   1: Loss = 23.78519\n",
            "Epoch   2: Loss = 23.30187\n",
            "Epoch   3: Loss = 23.23951\n",
            "Epoch   4: Loss = 23.29651\n"
          ]
        }
      ],
      "source": [
        "for epoch in range(5):\n",
        "  batch_losses = []\n",
        "\n",
        "  for x_batch, y_batch in dataloader:\n",
        "    y_pred = model(x_batch)\n",
        "    \n",
        "    loss = loss_func(y_pred, y_batch)\n",
        "    batch_losses.append(loss.item())\n",
        "    # print('y_pred=', y_pred[0])\n",
        "    #Delete previously stored gradients\n",
        "    optimizer.zero_grad()\n",
        "    #Perform backpropagation starting from the loss calculated in this epoch\n",
        "    loss.backward()\n",
        "    #Update model's weights based on the gradients calculated during backprop\n",
        "    optimizer.step()\n",
        "  \n",
        "  print(f\"Epoch {epoch:3}: Loss = {sum(batch_losses)/len(dataloader):.5f}\")\n",
        "    "
      ]
    },
    {
      "cell_type": "markdown",
      "metadata": {},
      "source": [
        "Optuna framework sample"
      ]
    },
    {
      "cell_type": "markdown",
      "metadata": {},
      "source": [
        "Optuna concepts\n",
        "- Objective function: This function contains all the code of the machine learning task you want to optimize hyperparameters for, i.e. in our case it includes the training and validation loop for the neural network model.\n",
        "- Trial: A trial is a single call of the objective function with a certain set of hyperparameters.\n",
        "- Study: This represents a set of trials to be run. At the end of the study the trials can be compared and the best one(s) chosen. The best trials are the ones minimizing / maximizing the loss function for a machine learning model.\n",
        "- Parameter: In our experiments we are trying to find the best combination of parameters to optimize our objective function. We do this by creating a study which consists of multiple trials, each of which runs with a different set of (hyper)parameters."
      ]
    },
    {
      "cell_type": "code",
      "execution_count": 28,
      "metadata": {},
      "outputs": [],
      "source": [
        "#Optuna sample\n",
        "\n",
        "def suggest_hyperparameters(trial): #function to include the suggested hyperparameters\n",
        "    # Experimenting with different optimizers\n",
        "    optimizer_name = trial.suggest_categorical(\"optimizer_name\", [\"Adam\", \"AdamW\"])\n",
        "    return optimizer_name\n",
        "\n",
        "#Optuna sample\n",
        "def objective(trial):    \n",
        "    optimizer_name = suggest_hyperparameters(trial)\n",
        "    #Define layer sizes\n",
        "    D_in = x.shape[1]\n",
        "    H1 = 128 #size of the input sample\n",
        "    H2 = 64\n",
        "    H3 = 32\n",
        "    D_out = 1\n",
        "\n",
        "    #Define Hyperparameters\n",
        "    learning_rate = 1e-4 # You can also experiment with different learning rates\n",
        "\n",
        "    #Initialise model, loss, optimizer\n",
        "    model = Net(D_in, H1, H2, H3, D_out)\n",
        "    loss_func = nn.MSELoss(reduction='sum') # You can also try BCELoss and BCEWithLogitsLoss\n",
        "    if optimizer_name == \"Adam\":\n",
        "        optimizer = torch.optim.Adam(model.parameters(), lr=learning_rate)\n",
        "    elif optimizer_name == \"AdamW\":\n",
        "        optimizer = torch.optim.AdamW(model.parameters(), lr=learning_rate)\n",
        "    elif optimizer_name == \"SGD\":\n",
        "        optimizer = torch.optim.SGD(model.parameters(), lr=learning_rate) # You can also try Adam and AdamW\n",
        "\n",
        "    #Initialise dataloader\n",
        "    dataset = torch.utils.data.TensorDataset(x, y) #class to represent the data as list of tensors. x=input_features, y=labels\n",
        "    dataloader = torch.utils.data.DataLoader(dataset, batch_size=64, shuffle=True) \n",
        "    for epoch in range(5):\n",
        "        batch_losses = []\n",
        "\n",
        "        for x_batch, y_batch in dataloader:\n",
        "            y_pred = model(x_batch)\n",
        "            \n",
        "            loss = loss_func(y_pred, y_batch)\n",
        "            batch_losses.append(loss.item())\n",
        "            # print('y_pred=', y_pred[0])\n",
        "            #Delete previously stored gradients\n",
        "            optimizer.zero_grad()\n",
        "            #Perform backpropagation starting from the loss calculated in this epoch\n",
        "            loss.backward()\n",
        "            #Update model's weights based on the gradients calculated during backprop\n",
        "            optimizer.step()\n",
        "        \n",
        "        print(f\"Epoch {epoch:3}: Loss = {sum(batch_losses)/len(dataloader):.5f}\")\n",
        "        epoch_loss = sum(batch_losses)/len(dataloader)\n",
        "    return epoch_loss\n",
        "\n",
        "optuna_sample = optuna.create_study(direction = 'minimize' , study_name = 'lr-minim-sample')\n",
        "optuna_sample.optimize(objective, n_trials = 50) #the first parameter is the function that we want to optimise\n",
        "print('numbers of the finished trials:' , len(optuna_sample.trials))\n",
        "print('the best params:' , optuna_sample.best_trial.params)\n",
        "print('the best value:' , optuna_sample.best_value)\n",
        "\n",
        "# Best number of trials appears to be 50 , as it gave me the best hyperparameters for my model."
      ]
    }
  ],
  "metadata": {
    "colab": {
      "provenance": []
    },
    "kernelspec": {
      "display_name": "Python 3",
      "name": "python3"
    },
    "language_info": {
      "codemirror_mode": {
        "name": "ipython",
        "version": 3
      },
      "file_extension": ".py",
      "mimetype": "text/x-python",
      "name": "python",
      "nbconvert_exporter": "python",
      "pygments_lexer": "ipython3",
      "version": "3.9.12"
    }
  },
  "nbformat": 4,
  "nbformat_minor": 0
}
