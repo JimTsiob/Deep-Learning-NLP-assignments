{
 "cells": [
  {
   "cell_type": "code",
   "execution_count": 1,
   "id": "1c5e5cbe",
   "metadata": {
    "_cell_guid": "b1076dfc-b9ad-4769-8c92-a6c4dae69d19",
    "_uuid": "8f2839f25d086af736a60e9eeb907d3b93b6e0e5",
    "execution": {
     "iopub.execute_input": "2023-12-14T11:40:09.966793Z",
     "iopub.status.busy": "2023-12-14T11:40:09.965910Z",
     "iopub.status.idle": "2023-12-14T11:40:09.981289Z",
     "shell.execute_reply": "2023-12-14T11:40:09.980234Z"
    },
    "papermill": {
     "duration": 0.034471,
     "end_time": "2023-12-14T11:40:09.983517",
     "exception": false,
     "start_time": "2023-12-14T11:40:09.949046",
     "status": "completed"
    },
    "tags": []
   },
   "outputs": [
    {
     "name": "stdout",
     "output_type": "stream",
     "text": [
      "/kaggle/input/ys19-2023-assignment-2/sample_submission.csv\n",
      "/kaggle/input/ys19-2023-assignment-2/test_set.csv\n",
      "/kaggle/input/ys19-2023-assignment-2/valid_set.csv\n",
      "/kaggle/input/ys19-2023-assignment-2/train_set.csv\n"
     ]
    }
   ],
   "source": [
    "# Input data files are available in the read-only \"../input/\" directory\n",
    "# For example, running this (by clicking run or pressing Shift+Enter) will list all files under the input directory\n",
    "\n",
    "import os\n",
    "for dirname, _, filenames in os.walk('/kaggle/input'):\n",
    "    for filename in filenames:\n",
    "        print(os.path.join(dirname, filename))\n",
    "\n",
    "# You can write up to 20GB to the current directory (/kaggle/working/) that gets preserved as output when you create a version using \"Save & Run All\" \n",
    "# You can also write temporary files to /kaggle/temp/, but they won't be saved outside of the current session"
   ]
  },
  {
   "cell_type": "code",
   "execution_count": 2,
   "id": "0ab264a5",
   "metadata": {
    "execution": {
     "iopub.execute_input": "2023-12-14T11:40:10.014979Z",
     "iopub.status.busy": "2023-12-14T11:40:10.013620Z",
     "iopub.status.idle": "2023-12-14T11:41:34.788375Z",
     "shell.execute_reply": "2023-12-14T11:41:34.786927Z"
    },
    "papermill": {
     "duration": 84.793233,
     "end_time": "2023-12-14T11:41:34.791121",
     "exception": false,
     "start_time": "2023-12-14T11:40:09.997888",
     "status": "completed"
    },
    "tags": []
   },
   "outputs": [
    {
     "name": "stdout",
     "output_type": "stream",
     "text": [
      "Collecting el-core-news-md==3.7.0\r\n",
      "  Downloading https://github.com/explosion/spacy-models/releases/download/el_core_news_md-3.7.0/el_core_news_md-3.7.0-py3-none-any.whl (42.9 MB)\r\n",
      "\u001b[2K     \u001b[90m━━━━━━━━━━━━━━━━━━━━━━━━━━━━━━━━━━━━━━━━\u001b[0m \u001b[32m42.9/42.9 MB\u001b[0m \u001b[31m22.7 MB/s\u001b[0m eta \u001b[36m0:00:00\u001b[0m\r\n",
      "\u001b[?25hRequirement already satisfied: spacy<3.8.0,>=3.7.0 in /opt/conda/lib/python3.10/site-packages (from el-core-news-md==3.7.0) (3.7.2)\r\n",
      "Requirement already satisfied: spacy-legacy<3.1.0,>=3.0.11 in /opt/conda/lib/python3.10/site-packages (from spacy<3.8.0,>=3.7.0->el-core-news-md==3.7.0) (3.0.12)\r\n",
      "Requirement already satisfied: spacy-loggers<2.0.0,>=1.0.0 in /opt/conda/lib/python3.10/site-packages (from spacy<3.8.0,>=3.7.0->el-core-news-md==3.7.0) (1.0.5)\r\n",
      "Requirement already satisfied: murmurhash<1.1.0,>=0.28.0 in /opt/conda/lib/python3.10/site-packages (from spacy<3.8.0,>=3.7.0->el-core-news-md==3.7.0) (1.0.10)\r\n",
      "Requirement already satisfied: cymem<2.1.0,>=2.0.2 in /opt/conda/lib/python3.10/site-packages (from spacy<3.8.0,>=3.7.0->el-core-news-md==3.7.0) (2.0.8)\r\n",
      "Requirement already satisfied: preshed<3.1.0,>=3.0.2 in /opt/conda/lib/python3.10/site-packages (from spacy<3.8.0,>=3.7.0->el-core-news-md==3.7.0) (3.0.9)\r\n",
      "Requirement already satisfied: thinc<8.3.0,>=8.1.8 in /opt/conda/lib/python3.10/site-packages (from spacy<3.8.0,>=3.7.0->el-core-news-md==3.7.0) (8.2.1)\r\n",
      "Requirement already satisfied: wasabi<1.2.0,>=0.9.1 in /opt/conda/lib/python3.10/site-packages (from spacy<3.8.0,>=3.7.0->el-core-news-md==3.7.0) (1.1.2)\r\n",
      "Requirement already satisfied: srsly<3.0.0,>=2.4.3 in /opt/conda/lib/python3.10/site-packages (from spacy<3.8.0,>=3.7.0->el-core-news-md==3.7.0) (2.4.8)\r\n",
      "Requirement already satisfied: catalogue<2.1.0,>=2.0.6 in /opt/conda/lib/python3.10/site-packages (from spacy<3.8.0,>=3.7.0->el-core-news-md==3.7.0) (2.0.10)\r\n",
      "Requirement already satisfied: weasel<0.4.0,>=0.1.0 in /opt/conda/lib/python3.10/site-packages (from spacy<3.8.0,>=3.7.0->el-core-news-md==3.7.0) (0.3.4)\r\n",
      "Requirement already satisfied: typer<0.10.0,>=0.3.0 in /opt/conda/lib/python3.10/site-packages (from spacy<3.8.0,>=3.7.0->el-core-news-md==3.7.0) (0.9.0)\r\n",
      "Requirement already satisfied: smart-open<7.0.0,>=5.2.1 in /opt/conda/lib/python3.10/site-packages (from spacy<3.8.0,>=3.7.0->el-core-news-md==3.7.0) (6.3.0)\r\n",
      "Requirement already satisfied: tqdm<5.0.0,>=4.38.0 in /opt/conda/lib/python3.10/site-packages (from spacy<3.8.0,>=3.7.0->el-core-news-md==3.7.0) (4.66.1)\r\n",
      "Requirement already satisfied: requests<3.0.0,>=2.13.0 in /opt/conda/lib/python3.10/site-packages (from spacy<3.8.0,>=3.7.0->el-core-news-md==3.7.0) (2.31.0)\r\n",
      "Requirement already satisfied: pydantic!=1.8,!=1.8.1,<3.0.0,>=1.7.4 in /opt/conda/lib/python3.10/site-packages (from spacy<3.8.0,>=3.7.0->el-core-news-md==3.7.0) (1.10.12)\r\n",
      "Requirement already satisfied: jinja2 in /opt/conda/lib/python3.10/site-packages (from spacy<3.8.0,>=3.7.0->el-core-news-md==3.7.0) (3.1.2)\r\n",
      "Requirement already satisfied: setuptools in /opt/conda/lib/python3.10/site-packages (from spacy<3.8.0,>=3.7.0->el-core-news-md==3.7.0) (68.1.2)\r\n",
      "Requirement already satisfied: packaging>=20.0 in /opt/conda/lib/python3.10/site-packages (from spacy<3.8.0,>=3.7.0->el-core-news-md==3.7.0) (21.3)\r\n",
      "Requirement already satisfied: langcodes<4.0.0,>=3.2.0 in /opt/conda/lib/python3.10/site-packages (from spacy<3.8.0,>=3.7.0->el-core-news-md==3.7.0) (3.3.0)\r\n",
      "Requirement already satisfied: numpy>=1.19.0 in /opt/conda/lib/python3.10/site-packages (from spacy<3.8.0,>=3.7.0->el-core-news-md==3.7.0) (1.24.3)\r\n",
      "Requirement already satisfied: pyparsing!=3.0.5,>=2.0.2 in /opt/conda/lib/python3.10/site-packages (from packaging>=20.0->spacy<3.8.0,>=3.7.0->el-core-news-md==3.7.0) (3.0.9)\r\n",
      "Requirement already satisfied: typing-extensions>=4.2.0 in /opt/conda/lib/python3.10/site-packages (from pydantic!=1.8,!=1.8.1,<3.0.0,>=1.7.4->spacy<3.8.0,>=3.7.0->el-core-news-md==3.7.0) (4.5.0)\r\n",
      "Requirement already satisfied: charset-normalizer<4,>=2 in /opt/conda/lib/python3.10/site-packages (from requests<3.0.0,>=2.13.0->spacy<3.8.0,>=3.7.0->el-core-news-md==3.7.0) (3.2.0)\r\n",
      "Requirement already satisfied: idna<4,>=2.5 in /opt/conda/lib/python3.10/site-packages (from requests<3.0.0,>=2.13.0->spacy<3.8.0,>=3.7.0->el-core-news-md==3.7.0) (3.4)\r\n",
      "Requirement already satisfied: urllib3<3,>=1.21.1 in /opt/conda/lib/python3.10/site-packages (from requests<3.0.0,>=2.13.0->spacy<3.8.0,>=3.7.0->el-core-news-md==3.7.0) (1.26.15)\r\n",
      "Requirement already satisfied: certifi>=2017.4.17 in /opt/conda/lib/python3.10/site-packages (from requests<3.0.0,>=2.13.0->spacy<3.8.0,>=3.7.0->el-core-news-md==3.7.0) (2023.11.17)\r\n",
      "Requirement already satisfied: blis<0.8.0,>=0.7.8 in /opt/conda/lib/python3.10/site-packages (from thinc<8.3.0,>=8.1.8->spacy<3.8.0,>=3.7.0->el-core-news-md==3.7.0) (0.7.11)\r\n",
      "Requirement already satisfied: confection<1.0.0,>=0.0.1 in /opt/conda/lib/python3.10/site-packages (from thinc<8.3.0,>=8.1.8->spacy<3.8.0,>=3.7.0->el-core-news-md==3.7.0) (0.1.4)\r\n",
      "Requirement already satisfied: click<9.0.0,>=7.1.1 in /opt/conda/lib/python3.10/site-packages (from typer<0.10.0,>=0.3.0->spacy<3.8.0,>=3.7.0->el-core-news-md==3.7.0) (8.1.7)\r\n",
      "Requirement already satisfied: cloudpathlib<0.17.0,>=0.7.0 in /opt/conda/lib/python3.10/site-packages (from weasel<0.4.0,>=0.1.0->spacy<3.8.0,>=3.7.0->el-core-news-md==3.7.0) (0.16.0)\r\n",
      "Requirement already satisfied: MarkupSafe>=2.0 in /opt/conda/lib/python3.10/site-packages (from jinja2->spacy<3.8.0,>=3.7.0->el-core-news-md==3.7.0) (2.1.3)\r\n",
      "Installing collected packages: el-core-news-md\r\n",
      "Successfully installed el-core-news-md-3.7.0\r\n",
      "\u001b[38;5;2m✔ Download and installation successful\u001b[0m\r\n",
      "You can now load the package via spacy.load('el_core_news_md')\r\n",
      "Requirement already satisfied: unidecode in /opt/conda/lib/python3.10/site-packages (1.3.7)\r\n",
      "Collecting pandarallel\r\n",
      "  Downloading pandarallel-1.6.5.tar.gz (14 kB)\r\n",
      "  Preparing metadata (setup.py) ... \u001b[?25l-\b \b\\\b \bdone\r\n",
      "\u001b[?25hRequirement already satisfied: dill>=0.3.1 in /opt/conda/lib/python3.10/site-packages (from pandarallel) (0.3.7)\r\n",
      "Requirement already satisfied: pandas>=1 in /opt/conda/lib/python3.10/site-packages (from pandarallel) (2.0.3)\r\n",
      "Requirement already satisfied: psutil in /opt/conda/lib/python3.10/site-packages (from pandarallel) (5.9.3)\r\n",
      "Requirement already satisfied: python-dateutil>=2.8.2 in /opt/conda/lib/python3.10/site-packages (from pandas>=1->pandarallel) (2.8.2)\r\n",
      "Requirement already satisfied: pytz>=2020.1 in /opt/conda/lib/python3.10/site-packages (from pandas>=1->pandarallel) (2023.3)\r\n",
      "Requirement already satisfied: tzdata>=2022.1 in /opt/conda/lib/python3.10/site-packages (from pandas>=1->pandarallel) (2023.3)\r\n",
      "Requirement already satisfied: numpy>=1.21.0 in /opt/conda/lib/python3.10/site-packages (from pandas>=1->pandarallel) (1.24.3)\r\n",
      "Requirement already satisfied: six>=1.5 in /opt/conda/lib/python3.10/site-packages (from python-dateutil>=2.8.2->pandas>=1->pandarallel) (1.16.0)\r\n",
      "Building wheels for collected packages: pandarallel\r\n",
      "  Building wheel for pandarallel (setup.py) ... \u001b[?25l-\b \b\\\b \b|\b \bdone\r\n",
      "\u001b[?25h  Created wheel for pandarallel: filename=pandarallel-1.6.5-py3-none-any.whl size=16672 sha256=43feccb28656c7a512fb0a38b25699fed3e6435e5ec18e41d79fb51c917990a7\r\n",
      "  Stored in directory: /root/.cache/pip/wheels/50/4f/1e/34e057bb868842209f1623f195b74fd7eda229308a7352d47f\r\n",
      "Successfully built pandarallel\r\n",
      "Installing collected packages: pandarallel\r\n",
      "Successfully installed pandarallel-1.6.5\r\n",
      "Requirement already satisfied: torch in /opt/conda/lib/python3.10/site-packages (2.0.0+cpu)\r\n",
      "Requirement already satisfied: filelock in /opt/conda/lib/python3.10/site-packages (from torch) (3.12.2)\r\n",
      "Requirement already satisfied: typing-extensions in /opt/conda/lib/python3.10/site-packages (from torch) (4.5.0)\r\n",
      "Requirement already satisfied: sympy in /opt/conda/lib/python3.10/site-packages (from torch) (1.12)\r\n",
      "Requirement already satisfied: networkx in /opt/conda/lib/python3.10/site-packages (from torch) (3.1)\r\n",
      "Requirement already satisfied: jinja2 in /opt/conda/lib/python3.10/site-packages (from torch) (3.1.2)\r\n",
      "Requirement already satisfied: MarkupSafe>=2.0 in /opt/conda/lib/python3.10/site-packages (from jinja2->torch) (2.1.3)\r\n",
      "Requirement already satisfied: mpmath>=0.19 in /opt/conda/lib/python3.10/site-packages (from sympy->torch) (1.3.0)\r\n",
      "Requirement already satisfied: gensim in /opt/conda/lib/python3.10/site-packages (4.3.2)\r\n",
      "Requirement already satisfied: numpy>=1.18.5 in /opt/conda/lib/python3.10/site-packages (from gensim) (1.24.3)\r\n",
      "Requirement already satisfied: scipy>=1.7.0 in /opt/conda/lib/python3.10/site-packages (from gensim) (1.11.4)\r\n",
      "Requirement already satisfied: smart-open>=1.8.1 in /opt/conda/lib/python3.10/site-packages (from gensim) (6.3.0)\r\n",
      "\n",
      "\n",
      "INSTALLATIONS COMPLETE.\n"
     ]
    }
   ],
   "source": [
    "# spaCy for Greek language handling\n",
    "!python -m spacy download el_core_news_md\n",
    "# pandarallel for faster applying of functions to dataframes. Need for tokens, lemmas etc.\n",
    "!pip install unidecode\n",
    "!pip install pandarallel\n",
    "!pip install torch\n",
    "!pip install gensim\n",
    "\n",
    "print(\"\\n\")\n",
    "print(\"INSTALLATIONS COMPLETE.\")"
   ]
  },
  {
   "cell_type": "markdown",
   "id": "7c05cd04",
   "metadata": {
    "papermill": {
     "duration": 0.019866,
     "end_time": "2023-12-14T11:41:34.831415",
     "exception": false,
     "start_time": "2023-12-14T11:41:34.811549",
     "status": "completed"
    },
    "tags": []
   },
   "source": [
    "## Imports"
   ]
  },
  {
   "cell_type": "code",
   "execution_count": 3,
   "id": "bc5ace4c",
   "metadata": {
    "execution": {
     "iopub.execute_input": "2023-12-14T11:41:34.878295Z",
     "iopub.status.busy": "2023-12-14T11:41:34.877853Z",
     "iopub.status.idle": "2023-12-14T11:42:07.092652Z",
     "shell.execute_reply": "2023-12-14T11:42:07.091491Z"
    },
    "papermill": {
     "duration": 32.261017,
     "end_time": "2023-12-14T11:42:07.115483",
     "exception": false,
     "start_time": "2023-12-14T11:41:34.854466",
     "status": "completed"
    },
    "tags": []
   },
   "outputs": [
    {
     "name": "stdout",
     "output_type": "stream",
     "text": [
      "Imports done.\n"
     ]
    }
   ],
   "source": [
    "import spacy\n",
    "from pandarallel import pandarallel\n",
    "from sklearn.linear_model import LogisticRegression\n",
    "import numpy as np # linear algebra\n",
    "import pandas as pd # data processing, CSV file I/O (e.g. pd.read_csv)\n",
    "from sklearn.metrics import f1_score\n",
    "from sklearn.model_selection import train_test_split\n",
    "from sklearn.feature_extraction.text import TfidfVectorizer\n",
    "from sklearn.feature_extraction.text import CountVectorizer\n",
    "from sklearn.linear_model import LogisticRegression\n",
    "from sklearn.metrics import confusion_matrix,classification_report,accuracy_score,roc_auc_score,roc_curve\n",
    "from matplotlib import pyplot as plt\n",
    "import seaborn as sns\n",
    "import re\n",
    "from wordcloud import WordCloud\n",
    "import matplotlib.pyplot as plt\n",
    "import unicodedata as ud\n",
    "from unidecode import unidecode\n",
    "from sklearn.model_selection import GridSearchCV\n",
    "import optuna\n",
    "from scipy.sparse import hstack\n",
    "import nltk\n",
    "import random\n",
    "\n",
    "# HW2 new imports\n",
    "from gensim.models import Word2Vec\n",
    "import torch\n",
    "import torch.nn as nn\n",
    "import torch.nn.functional as F\n",
    "\n",
    "print('Imports done.')"
   ]
  },
  {
   "cell_type": "markdown",
   "id": "4ca45f25",
   "metadata": {
    "papermill": {
     "duration": 0.019643,
     "end_time": "2023-12-14T11:42:07.155459",
     "exception": false,
     "start_time": "2023-12-14T11:42:07.135816",
     "status": "completed"
    },
    "tags": []
   },
   "source": [
    "## Data Preprocessing"
   ]
  },
  {
   "cell_type": "code",
   "execution_count": 4,
   "id": "6c84caf6",
   "metadata": {
    "execution": {
     "iopub.execute_input": "2023-12-14T11:42:07.198802Z",
     "iopub.status.busy": "2023-12-14T11:42:07.197362Z",
     "iopub.status.idle": "2023-12-14T11:42:10.873155Z",
     "shell.execute_reply": "2023-12-14T11:42:10.871876Z"
    },
    "papermill": {
     "duration": 3.700264,
     "end_time": "2023-12-14T11:42:10.875560",
     "exception": false,
     "start_time": "2023-12-14T11:42:07.175296",
     "status": "completed"
    },
    "tags": []
   },
   "outputs": [
    {
     "data": {
      "text/html": [
       "<div>\n",
       "<style scoped>\n",
       "    .dataframe tbody tr th:only-of-type {\n",
       "        vertical-align: middle;\n",
       "    }\n",
       "\n",
       "    .dataframe tbody tr th {\n",
       "        vertical-align: top;\n",
       "    }\n",
       "\n",
       "    .dataframe thead th {\n",
       "        text-align: right;\n",
       "    }\n",
       "</style>\n",
       "<table border=\"1\" class=\"dataframe\">\n",
       "  <thead>\n",
       "    <tr style=\"text-align: right;\">\n",
       "      <th></th>\n",
       "      <th>New_ID</th>\n",
       "      <th>Text</th>\n",
       "      <th>Sentiment</th>\n",
       "      <th>Party</th>\n",
       "    </tr>\n",
       "  </thead>\n",
       "  <tbody>\n",
       "    <tr>\n",
       "      <th>0</th>\n",
       "      <td>35027</td>\n",
       "      <td>#απολυμανση_κοριοι #απεντομωση_κοριος #απολυμα...</td>\n",
       "      <td>NEUTRAL</td>\n",
       "      <td>SYRIZA</td>\n",
       "    </tr>\n",
       "    <tr>\n",
       "      <th>1</th>\n",
       "      <td>9531</td>\n",
       "      <td>Έξι νέες επιστολές για τη Μακεδονία «καίνε» τη...</td>\n",
       "      <td>NEGATIVE</td>\n",
       "      <td>ND</td>\n",
       "    </tr>\n",
       "    <tr>\n",
       "      <th>2</th>\n",
       "      <td>14146</td>\n",
       "      <td>Ισχυρό ΚΚΕ, δύναμη του λαού στη Βουλή και στου...</td>\n",
       "      <td>POSITIVE</td>\n",
       "      <td>KKE</td>\n",
       "    </tr>\n",
       "    <tr>\n",
       "      <th>3</th>\n",
       "      <td>28716</td>\n",
       "      <td>@five2nds @anthi7vas Μνημονιακότατο το #ΜεΡΑ25...</td>\n",
       "      <td>NEUTRAL</td>\n",
       "      <td>KKE</td>\n",
       "    </tr>\n",
       "    <tr>\n",
       "      <th>4</th>\n",
       "      <td>32886</td>\n",
       "      <td>@ai_katerina Αυτό που είναι συγκλονιστικό είνα...</td>\n",
       "      <td>NEUTRAL</td>\n",
       "      <td>SYRIZA</td>\n",
       "    </tr>\n",
       "  </tbody>\n",
       "</table>\n",
       "</div>"
      ],
      "text/plain": [
       "   New_ID                                               Text Sentiment   Party\n",
       "0   35027  #απολυμανση_κοριοι #απεντομωση_κοριος #απολυμα...   NEUTRAL  SYRIZA\n",
       "1    9531  Έξι νέες επιστολές για τη Μακεδονία «καίνε» τη...  NEGATIVE      ND\n",
       "2   14146  Ισχυρό ΚΚΕ, δύναμη του λαού στη Βουλή και στου...  POSITIVE     KKE\n",
       "3   28716  @five2nds @anthi7vas Μνημονιακότατο το #ΜεΡΑ25...   NEUTRAL     KKE\n",
       "4   32886  @ai_katerina Αυτό που είναι συγκλονιστικό είνα...   NEUTRAL  SYRIZA"
      ]
     },
     "execution_count": 4,
     "metadata": {},
     "output_type": "execute_result"
    }
   ],
   "source": [
    "nlp = spacy.load('el_core_news_md')\n",
    "df = pd.read_csv('/kaggle/input/ys19-2023-assignment-2/train_set.csv')\n",
    "valid_df = pd.read_csv('/kaggle/input/ys19-2023-assignment-2/valid_set.csv')\n",
    "test_df = pd.read_csv('/kaggle/input/ys19-2023-assignment-2/test_set.csv')\n",
    "\n",
    "df.head()"
   ]
  },
  {
   "cell_type": "code",
   "execution_count": 5,
   "id": "f830c767",
   "metadata": {
    "execution": {
     "iopub.execute_input": "2023-12-14T11:42:10.918647Z",
     "iopub.status.busy": "2023-12-14T11:42:10.917572Z",
     "iopub.status.idle": "2023-12-14T11:42:11.215600Z",
     "shell.execute_reply": "2023-12-14T11:42:11.214475Z"
    },
    "papermill": {
     "duration": 0.32211,
     "end_time": "2023-12-14T11:42:11.218087",
     "exception": false,
     "start_time": "2023-12-14T11:42:10.895977",
     "status": "completed"
    },
    "tags": []
   },
   "outputs": [
    {
     "data": {
      "image/png": "[encoded data removed]",
      "text/plain": [
       "<Figure size 640x480 with 1 Axes>"
      ]
     },
     "metadata": {},
     "output_type": "display_data"
    }
   ],
   "source": [
    "# Visualize our data (specifically the Sentiment column)\n",
    "# Data Distribution\n",
    "\n",
    "df.groupby('Sentiment').size().plot(kind='barh', color=sns.palettes.mpl_palette('Dark2'))\n",
    "plt.gca().spines[['top', 'right',]].set_visible(False)"
   ]
  },
  {
   "cell_type": "code",
   "execution_count": 6,
   "id": "8685cc1d",
   "metadata": {
    "execution": {
     "iopub.execute_input": "2023-12-14T11:42:11.262928Z",
     "iopub.status.busy": "2023-12-14T11:42:11.261785Z",
     "iopub.status.idle": "2023-12-14T11:42:11.547351Z",
     "shell.execute_reply": "2023-12-14T11:42:11.546293Z"
    },
    "papermill": {
     "duration": 0.310692,
     "end_time": "2023-12-14T11:42:11.549682",
     "exception": false,
     "start_time": "2023-12-14T11:42:11.238990",
     "status": "completed"
    },
    "tags": []
   },
   "outputs": [
    {
     "data": {
      "text/plain": [
       "<Axes: xlabel='Sentiment', ylabel='count'>"
      ]
     },
     "execution_count": 6,
     "metadata": {},
     "output_type": "execute_result"
    },
    {
     "data": {
      "image/png": "[encoded data removed]",
      "text/plain": [
       "<Figure size 640x480 with 1 Axes>"
      ]
     },
     "metadata": {},
     "output_type": "display_data"
    }
   ],
   "source": [
    "# Countplot for column Sentiment, Sentiment values are of the same number for each sentiment\n",
    "sns.countplot(x='Sentiment',data=df)"
   ]
  },
  {
   "cell_type": "code",
   "execution_count": 7,
   "id": "cac20e91",
   "metadata": {
    "execution": {
     "iopub.execute_input": "2023-12-14T11:42:11.594344Z",
     "iopub.status.busy": "2023-12-14T11:42:11.593965Z",
     "iopub.status.idle": "2023-12-14T11:42:11.913312Z",
     "shell.execute_reply": "2023-12-14T11:42:11.912170Z"
    },
    "papermill": {
     "duration": 0.344508,
     "end_time": "2023-12-14T11:42:11.915592",
     "exception": false,
     "start_time": "2023-12-14T11:42:11.571084",
     "status": "completed"
    },
    "tags": []
   },
   "outputs": [
    {
     "data": {
      "text/plain": [
       "<Axes: xlabel='Party', ylabel='count'>"
      ]
     },
     "execution_count": 7,
     "metadata": {},
     "output_type": "execute_result"
    },
    {
     "data": {
      "image/png": "[encoded data removed]",
      "text/plain": [
       "<Figure size 640x480 with 1 Axes>"
      ]
     },
     "metadata": {},
     "output_type": "display_data"
    }
   ],
   "source": [
    "# Countplot for Parties , We can see that SYRIZA is the most prevalent party in the tweets dataset\n",
    "sns.countplot(x='Party',data=df)"
   ]
  },
  {
   "cell_type": "code",
   "execution_count": 8,
   "id": "054bb9d7",
   "metadata": {
    "execution": {
     "iopub.execute_input": "2023-12-14T11:42:11.960723Z",
     "iopub.status.busy": "2023-12-14T11:42:11.960302Z",
     "iopub.status.idle": "2023-12-14T11:42:11.988603Z",
     "shell.execute_reply": "2023-12-14T11:42:11.987563Z"
    },
    "papermill": {
     "duration": 0.053978,
     "end_time": "2023-12-14T11:42:11.991203",
     "exception": false,
     "start_time": "2023-12-14T11:42:11.937225",
     "status": "completed"
    },
    "tags": []
   },
   "outputs": [
    {
     "name": "stdout",
     "output_type": "stream",
     "text": [
      "Stop words created.\n"
     ]
    }
   ],
   "source": [
    "# Check for null values\n",
    "df.isnull().sum()\n",
    "\n",
    "# Create stop word list for word cloud and word frequency\n",
    "stop_words = 'amp,αδιακοπα, αι, ακομα, ακομη, ακριβως, αληθεια, αληθινα, αλλα, αλλαχου, αλλες, αλλη, αλλην, αλλης, αλλιως, αλλιωτικα, αλλο, αλλοι, αλλοιως, αλλοιωτικα, αλλον, αλλος, αλλοτε, αλλου, αλλους, αλλων, αμα, αμεσα, αμεσως, αν, ανα, αναμεσα, αναμεταξυ, ανευ, αντι, αντιπερα, αντις, ανω, ανωτερω, αξαφνα, απ, απεναντι, απο, αποψε, αρα, αραγε, αργα, αργοτερο, αριστερα, αρκετα, αρχικα, ας, αυριο, αυτα, αυτες, αυτη, αυτην, αυτης, αυτο, αυτοι, αυτον, αυτος, αυτου, αυτους, αυτων, αφοτου, αφου, βεβαια, βεβαιοτατα, γι, για, γρηγορα, γυρω, δα, δε, δεινα, δεν, δεξια, δηθεν, δηλαδη, δι, δια, διαρκως, δικα, δικο, δικοι, δικος, δικου, δικους, διολου, διπλα, διχως, εαν, εαυτο, εαυτον, εαυτου, εαυτους, εαυτων, εγκαιρα, εγκαιρως, εγω, εδω, ειδεμη, ειθε, ειμαι, ειμαστε, ειναι, εις, εισαι, εισαστε, ειστε, ειτε, ειχα, ειχαμε, ειχαν, ειχατε, ειχε, ειχες, εκαστα, εκαστες, εκαστη, εκαστην, εκαστης, εκαστο, εκαστοι, εκαστον, εκαστος, εκαστου, εκαστους, εκαστων, εκει, εκεινα, εκεινες, εκεινη, εκεινην, εκεινης, εκεινο, εκεινοι, εκεινον, εκεινος, εκεινου, εκεινους, εκεινων, εκτος, εμας, εμεις, εμενα, εμπρος, εν, ενα, εναν, ενας, ενος, εντελως, εντος, εντωμεταξυ, ενω, εξ, εξαφνα, εξης, εξισου, εξω, επανω, επειδη, επειτα, επι, επισης, επομενως, εσας, εσεις, εσενα, εστω, εσυ, ετερα, ετεραι, ετερας, ετερες, ετερη, ετερης, ετερο, ετεροι, ετερον, ετερος, ετερου, ετερους, ετερων, ετουτα, ετουτες, ετουτη, ετουτην, ετουτης, ετουτο, ετουτοι, ετουτον, ετουτος, ετουτου, ετουτους, ετουτων, ετσι, ευγε, ευθυς, ευτυχως, εφεξης, εχει, εχεις, εχετε, εχθες, εχομε, εχουμε, εχουν, εχτες, εχω, εως, η, ηδη, ημασταν, ημαστε, ημουν, ησασταν, ησαστε, ησουν, ηταν, ητανε, ητοι, ηττον, θα, ι, ιδια, ιδιαν, ιδιας, ιδιες, ιδιο, ιδιοι, ιδιον, ιδιος, ιδιου, ιδιους, ιδιων, ιδιως, ιι, ιιι, ισαμε, ισια, ισως,κ,καθε, καθεμια, καθεμιας, καθενα, καθενας, καθενος, καθετι, καθολου, καθως, και, κακα, κακως, καλα, καλως, καμια, καμιαν, καμιας, καμποσα, καμποσες, καμποση, καμποσην, καμποσης, καμποσο, καμποσοι, καμποσον, καμποσος, καμποσου, καμποσους, καμποσων, κανεις, κανεν, κανενα, κανεναν, κανενας, κανενος, καποια, καποιαν, καποιας, καποιες, καποιο, καποιοι, καποιον, καποιος, καποιου, καποιους, καποιων, καποτε, καπου, καπως, κατ ,κατα, κατι, κατιτι, κατοπιν, κατω, κιολας,κι, κλπ, κοντα, κτλ, κυριως, λιγακι, λιγο, λιγωτερο, λογω, λοιπα, λοιπον, μα, μαζι, μακαρι, μακρυα, μαλιστα, μαλλον, μας, με, μεθαυριο, μειον, μελει, μελλεται, μεμιας, μεν, μερικα, μερικες, μερικοι, μερικους, μερικων, μεσα, μετ, μετα, μεταξυ, μεχρι, μη, μηδε, μην, μηπως, μητε, μια, μιαν, μιας, μολις, μολονοτι, μοναχα, μονες, μονη, μονην, μονης, μονο, μονοι, μονομιας, μονος, μονου, μονους, μονων, μου, μπορει, μπορουν, μπραβο, μπρος, να, ναι, νωρις, ξανα, ξαφνικα, ο, οι, ολα, ολες, ολη, ολην, ολης, ολο, ολογυρα, ολοι, ολον, ολονεν, ολος, ολοτελα, ολου, ολους, ολων, ολως, ολωσδιολου, ομως, οποια, οποιαδηποτε, οποιαν, οποιανδηποτε, οποιας, οποιασδηποτε, οποιδηποτε, οποιες, οποιεσδηποτε, οποιο, οποιοδηποτε, οποιοι, οποιον, οποιονδηποτε, οποιος, οποιοσδηποτε, οποιου, οποιουδηποτε, οποιους, οποιουσδηποτε, οποιων, οποιωνδηποτε, οποτε, οποτεδηποτε, οπου, οπουδηποτε, οπως, ορισμενα, ορισμενες, ορισμενων, ορισμενως, οσα, οσαδηποτε, οσες, οσεσδηποτε, οση, οσηδηποτε, οσην, οσηνδηποτε, οσης, οσησδηποτε, οσο, οσοδηποτε, οσοι, οσοιδηποτε, οσον, οσονδηποτε, οσος, οσοσδηποτε, οσου, οσουδηποτε, οσους, οσουσδηποτε, οσων, οσωνδηποτε, οταν, οτι, οτιδηποτε, οτου, ου, ουδε, ουτε, οχι, παλι, παντοτε, παντου, παντως, παρα, περα, περι, περιπου, περισσοτερο, περσι, περυσι, πια, πιθανον, πιο, πισω, πλαι, πλεον, πλην, ποια, ποιαν, ποιας, ποιες, ποιο, ποιοι, ποιον, ποιος, ποιου, ποιους, ποιων, πολυ, ποσες, ποση, ποσην, ποσης, ποσοι, ποσος, ποσους, ποτε, που, πουθε, πουθενα, πρεπει, πριν, προ, προκειμενου, προκειται, προπερσι, προς, προτου, προχθες, προχτες, πρωτυτερα, πως, σαν, σας, σε, σεις, σημερα, σιγα, σου, στα, στη, στην, στης, στις, στο, στον, στου, στους, στων, συγχρονως, συν, συναμα, συνεπως, συνηθως, συχνα, συχνας, συχνες, συχνη, συχνην, συχνης, συχνο, συχνοι, συχνον, συχνος, συχνου, συχνου, συχνους, συχνων, συχνως, σχεδον, σωστα, τα, ταδε, ταυτα, ταυτες, ταυτη, ταυτην, ταυτης, ταυτο,ταυτον, ταυτος, ταυτου, ταυτων, ταχα, ταχατε, τελικα, τελικως, τες, τετοια, τετοιαν, τετοιας, τετοιες, τετοιο, τετοιοι, τετοιον, τετοιος, τετοιου, τετοιους, τετοιων, τη, την, της, τι, τιποτα, τιποτε, τις, το, τοι, τον, τος, τοσα, τοσες, τοση, τοσην, τοσης, τοσο, τοσοι, τοσον, τοσος, τοσου, τοσους, τοσων, τοτε, του, τουλαχιστο, τουλαχιστον, τους, τουτα, τουτες, τουτη, τουτην, τουτης, τουτο, τουτοι, τουτοις, τουτον, τουτος, τουτου, τουτους, τουτων, τυχον, των, τωρα, υπ, υπερ, υπο, υποψη, υποψιν, υστερα, φετος, χαμηλα, χθες, χτες, χωρις, χωριστα, ψηλα, ω, ωραια, ως, ωσαν, ωσοτου, ωσπου, ωστε, ωστοσο, ωχ'\n",
    "\n",
    "\n",
    "stop_words_separated = stop_words.split(\",\")\n",
    "stop_words_separated = [w.strip() for w in stop_words_separated] # remove whitespaces\n",
    "\n",
    "# remove diacritics\n",
    "d = {ord('\\N{COMBINING ACUTE ACCENT}'):None}\n",
    "\n",
    "for word in stop_words_separated:\n",
    "    word = ud.normalize('NFD',word).translate(d)\n",
    "\n",
    "print('Stop words created.')"
   ]
  },
  {
   "cell_type": "code",
   "execution_count": 9,
   "id": "669ad25c",
   "metadata": {
    "execution": {
     "iopub.execute_input": "2023-12-14T11:42:12.102624Z",
     "iopub.status.busy": "2023-12-14T11:42:12.102219Z",
     "iopub.status.idle": "2023-12-14T11:44:12.291301Z",
     "shell.execute_reply": "2023-12-14T11:44:12.290158Z"
    },
    "papermill": {
     "duration": 120.2375,
     "end_time": "2023-12-14T11:44:12.316679",
     "exception": false,
     "start_time": "2023-12-14T11:42:12.079179",
     "status": "completed"
    },
    "tags": []
   },
   "outputs": [
    {
     "name": "stdout",
     "output_type": "stream",
     "text": [
      "0        απολυμανσηκοριοι απεντομωσηκοριος απολυμανσεις...\n",
      "1        εξι νεες επιστολες μακεδονια καινε νδ μητσοτακ...\n",
      "2         ισχυρο κκε δυναμη λαου βουλη καθημερινους αγωνες\n",
      "3                      μνημονιακοτατο μερα εκλογες τωρακκε\n",
      "4                         συγκλονιστικο ψυχασθενεια τσιπρα\n",
      "                               ...                        \n",
      "36625    κουλης μητσοτακης λεει ψεματαδεν αδειασε μπαμπ...\n",
      "36626    προσεξε σκισει καλσον χαλια νεα φωτογραφια ομο...\n",
      "36627    θεση κκε ασφαλεια πολιτων διαφορους ρουβικωνες...\n",
      "36628    μαρη κακομοιρα θυγατερα ναζιστη αντισημιτη ξεφ...\n",
      "36629                              ενταξει επεισες κκε 🤘❤️\n",
      "Name: Text, Length: 36630, dtype: object\n",
      "\n",
      "\n",
      "TEST SET BELOW\n",
      "0        κυριακος μητσοτακης ξερει μουσειο βεργινας μεσ...\n",
      "1        συνεντευξη υποψηφιας βουλευτη νεα δημοκρατια β...\n",
      "2        εκλογες μαθητες φοιτητες ψηφιζουμε τροπο αγωνι...\n",
      "3        γεννηματα κιναλ γινει δεκανικι ενδιαφερουν υπο...\n",
      "4        κυριακη εκλογων οκτωβρης ξημερωματα δευτερας ξ...\n",
      "                               ...                        \n",
      "10465    τσιπρα μπορουσα συγχωρησω παντα γερμανοτσολιας...\n",
      "10466    αλεξης τσιπρας αξιζει γυρισουμε βιντεοφωτογραφιες\n",
      "10467    ανθρωπους πιστευουν τσιπρας χασει εκλογες εξαι...\n",
      "10468    πεις γιανη απλο παρασιτο βδελυγμα ξερατο πειρα...\n",
      "10469    δυστυχως εξυπνοι μορφωμενοι ανθρωποι αρνουνται...\n",
      "Name: Text, Length: 10470, dtype: object\n",
      "\n",
      "\n",
      "VALID SET BELOW\n",
      "0       θελεις μιλησεις βοσκοτοπια αιγιαλους παραγραφε...\n",
      "1       τσιπρας ζητησαμε αντιπολιτευση συμμετεχει διαδ...\n",
      "2       σωστος ελληνας δημοκρατης ελληνας εξωτερικου ε...\n",
      "3       βλεπεις ενδιαφερουν μητσοτακηδες γιατι πηγε κο...\n",
      "4       συνεντευξη μητσοτακη αιρεση συνταξη αυξηση κατ...\n",
      "                              ...                        \n",
      "5227                                 γιατι ιδρυσαν συριζα\n",
      "5228    mαντεκαςkοινωνικη ισοπεδωση προκαλεσει επαναφο...\n",
      "5229    τσιπρα πηγε θεσσαλονικη ειπε γινει τελευταιες ...\n",
      "5230    ναυτικος τανκερ εβλεπε χρονια ωραιος πολιτικος...\n",
      "5231                                      βρουν κκε ρε συ\n",
      "Name: Text, Length: 5232, dtype: object\n",
      "Text cleanup complete.\n"
     ]
    }
   ],
   "source": [
    "# Data cleanup\n",
    "# Remove all useless characters from tweets (URLs, Hashtags, mentions (at signs), punctuations)\n",
    "# also removes mentioned accounts after hashtags and @ signs and special symbols.\n",
    "def clean_tweet(tweet):\n",
    "    '''\n",
    "    Function to clean a tweet text by removing the links, punctuations, hashtags, mentions symbols and every text after mentions and hashtags\n",
    "    using regex expressions. Also removes special symbols.\n",
    "    Parameters:\n",
    "       tweet (string): Tweet text to transform.\n",
    "    Returns:\n",
    "       tweet_cleaned (string): Tweet without links, punctuations, hashtags, ,mentions symbols and every text after mentions and hashtags. Also removes special symbols.\n",
    "    \"\"\"\n",
    "    '''\n",
    "    # convert the tweet text to lowercase letters\n",
    "    tweet_lower = tweet.lower()\n",
    "    # remove links, punctuations, hashtags, ,mentions and other symbols\n",
    "    tweet_cleaned = re.sub(u\"(http\\S+)|([“”!?.»«,:;()\\\"'%&-_|–€$΄#])|([#@]\\S+)\", \"\", tweet_lower)\n",
    "    \n",
    "    return tweet_cleaned\n",
    "\n",
    "# Apply function to all tweets (text column)\n",
    "df['Text'] = [clean_tweet(tweet) for tweet in df['Text']]\n",
    "test_df['Text'] = [clean_tweet(tweet) for tweet in test_df['Text']]\n",
    "valid_df['Text'] = [clean_tweet(tweet) for tweet in valid_df['Text']]\n",
    "\n",
    "def find_english_words(text):\n",
    "    return re.findall(r'\\b[a-zA-Z]+\\b', text)\n",
    "\n",
    "english_words = [find_english_words(text) for text in df['Text']]\n",
    "test_english_words = [find_english_words(text) for text in test_df['Text']]\n",
    "valid_english_words = [find_english_words(text) for text in valid_df['Text']]\n",
    "\n",
    "def lists_to_list_skip_empty(list_of_lists):\n",
    "    # Flatten the list of lists, skipping empty lists\n",
    "    flat_list = [item for sublist in list_of_lists if sublist for item in sublist]\n",
    "    return flat_list\n",
    "\n",
    "final_list = lists_to_list_skip_empty(english_words)\n",
    "final_list_no_dupes = list(set(final_list))\n",
    "\n",
    "test_final_list = lists_to_list_skip_empty(test_english_words)\n",
    "test_final_list_no_dupes = list(set(test_final_list))\n",
    "\n",
    "valid_final_list = lists_to_list_skip_empty(valid_english_words)\n",
    "valid_final_list_no_dupes = list(set(valid_final_list))\n",
    "\n",
    "stop_words_separated.extend(final_list_no_dupes) # add English words to stop words so they can be removed.\n",
    "stop_words_separated.extend(test_final_list_no_dupes)\n",
    "stop_words_separated.extend(valid_final_list_no_dupes)\n",
    "\n",
    "# remove diacritics from Text column\n",
    "text_no_diacritics = []\n",
    "test_no_diacritics = []\n",
    "valid_no_diacritics = []\n",
    "\n",
    "d = {ord('\\N{COMBINING ACUTE ACCENT}'):None}\n",
    "for tweet in df['Text']:\n",
    "    text1 = ud.normalize('NFD',tweet).translate(d)\n",
    "    text_no_diacritics.append(text1)\n",
    "    \n",
    "for tweet in test_df['Text']:\n",
    "    text2 = ud.normalize('NFD',tweet).translate(d)\n",
    "    test_no_diacritics.append(text2)\n",
    "\n",
    "for tweet in valid_df['Text']:\n",
    "    text3 = ud.normalize('NFD',tweet).translate(d)\n",
    "    valid_no_diacritics.append(text3)\n",
    "    \n",
    "df['Text'] = text_no_diacritics\n",
    "test_df['Text'] = test_no_diacritics\n",
    "valid_df['Text'] = valid_no_diacritics\n",
    "\n",
    "# Remove stop_words from text column\n",
    "df['Text'] = df['Text'].apply(lambda x: ' '.join([word for word in x.split() if word not in (stop_words_separated)]))\n",
    "test_df['Text'] = test_df['Text'].apply(lambda x: ' '.join([word for word in x.split() if word not in (stop_words_separated)]))\n",
    "valid_df['Text'] = valid_df['Text'].apply(lambda x: ' '.join([word for word in x.split() if word not in (stop_words_separated)]))\n",
    "\n",
    "print(df['Text']) # making sure the cleanup works.\n",
    "print('\\n')\n",
    "print('TEST SET BELOW')\n",
    "print(test_df['Text'])\n",
    "print('\\n')\n",
    "print('VALID SET BELOW')\n",
    "print(valid_df['Text'])\n",
    "\n",
    "# Using pandarallel for faster tokenization and lemmatization.\n",
    "# pandarallel.initialize(progress_bar=True)\n",
    "\n",
    "# I added comments to these columns as they took a considerable amount of time to be finished , and they're not usable\n",
    "# since they produce worse results.\n",
    "# df['Docs'] = df['Text'].parallel_apply(lambda x: nlp(x)) # add docs to dataframe in order to get tokens\n",
    "# df['Lemmas'] = df['Text'].parallel_apply(lambda row: \" \".join([w.lemma_ for w in nlp(row)])) # add lemmas to dataframe\n",
    "print(\"Text cleanup complete.\")"
   ]
  },
  {
   "cell_type": "code",
   "execution_count": 10,
   "id": "d0614bfc",
   "metadata": {
    "execution": {
     "iopub.execute_input": "2023-12-14T11:44:12.363315Z",
     "iopub.status.busy": "2023-12-14T11:44:12.362929Z",
     "iopub.status.idle": "2023-12-14T11:44:18.858249Z",
     "shell.execute_reply": "2023-12-14T11:44:18.857451Z"
    },
    "papermill": {
     "duration": 6.521547,
     "end_time": "2023-12-14T11:44:18.860708",
     "exception": false,
     "start_time": "2023-12-14T11:44:12.339161",
     "status": "completed"
    },
    "tags": []
   },
   "outputs": [
    {
     "data": {
      "image/png": "[encoded data removed]",
      "text/plain": [
       "<Figure size 800x800 with 1 Axes>"
      ]
     },
     "metadata": {},
     "output_type": "display_data"
    }
   ],
   "source": [
    "# Creating some visualizations with tokens\n",
    "# Word cloud\n",
    "tweets = []\n",
    "for tweet in df['Text']:\n",
    "    #tokens.append(doc.text)\n",
    "    tweets.append(tweet)\n",
    "    \n",
    "\n",
    "\n",
    "# stop_words = stopwords.words('greek')\n",
    "for i in range(len(tweets)):\n",
    "        tweets[i] = tweets[i].lower()\n",
    "\n",
    "\n",
    "# remove Diacritics in Greek (tonous)\n",
    "d = {ord('\\N{COMBINING ACUTE ACCENT}'):None}\n",
    "tweets_string = \"\".join(tweets)\n",
    "tweets_without_accent = ud.normalize('NFD',tweets_string).translate(d)\n",
    "\n",
    "\n",
    "wordcloud = WordCloud(stopwords=stop_words_separated).generate(str(tweets_without_accent))\n",
    " \n",
    "# plot the WordCloud image                       \n",
    "plt.figure(figsize = (8, 8), facecolor = None)\n",
    "plt.imshow(wordcloud)\n",
    "plt.axis(\"off\")\n",
    "plt.tight_layout(pad = 0)\n",
    "\n",
    "plt.show()"
   ]
  },
  {
   "cell_type": "code",
   "execution_count": 11,
   "id": "378c64bc",
   "metadata": {
    "execution": {
     "iopub.execute_input": "2023-12-14T11:44:18.910738Z",
     "iopub.status.busy": "2023-12-14T11:44:18.910311Z",
     "iopub.status.idle": "2023-12-14T11:44:24.691067Z",
     "shell.execute_reply": "2023-12-14T11:44:24.690202Z"
    },
    "papermill": {
     "duration": 5.808343,
     "end_time": "2023-12-14T11:44:24.693364",
     "exception": false,
     "start_time": "2023-12-14T11:44:18.885021",
     "status": "completed"
    },
    "tags": []
   },
   "outputs": [
    {
     "data": {
      "image/png": "[encoded data removed]",
      "text/plain": [
       "<Figure size 640x480 with 1 Axes>"
      ]
     },
     "metadata": {},
     "output_type": "display_data"
    }
   ],
   "source": [
    "# Tokens frequency diagram\n",
    "tokens = nltk.word_tokenize(tweets_without_accent)\n",
    "sns.set_style('darkgrid')\n",
    "nlp_words=nltk.FreqDist(tokens)\n",
    "nlp_words.plot(20);"
   ]
  },
  {
   "cell_type": "code",
   "execution_count": 12,
   "id": "72e9e783",
   "metadata": {
    "execution": {
     "iopub.execute_input": "2023-12-14T11:44:24.748643Z",
     "iopub.status.busy": "2023-12-14T11:44:24.748017Z",
     "iopub.status.idle": "2023-12-14T11:44:33.642282Z",
     "shell.execute_reply": "2023-12-14T11:44:33.641093Z"
    },
    "papermill": {
     "duration": 8.924433,
     "end_time": "2023-12-14T11:44:33.644669",
     "exception": false,
     "start_time": "2023-12-14T11:44:24.720236",
     "status": "completed"
    },
    "tags": []
   },
   "outputs": [
    {
     "name": "stderr",
     "output_type": "stream",
     "text": [
      "/tmp/ipykernel_19/552494660.py:95: UserWarning: Creating a tensor from a list of numpy.ndarrays is extremely slow. Please consider converting the list to a single numpy.ndarray with numpy.array() before converting to a tensor. (Triggered internally at ../torch/csrc/utils/tensor_new.cpp:245.)\n",
      "  X_train_tensor = torch.FloatTensor(tweet_embeddings_train)\n"
     ]
    },
    {
     "name": "stdout",
     "output_type": "stream",
     "text": [
      "X_train_tensor shape: torch.Size([36630, 100])\n",
      "y_train_tensor shape: torch.Size([36630, 3])\n",
      "X_test_tensor shape:  torch.Size([10470, 100])\n",
      "X_valid_tensor shape:  torch.Size([5232, 100])\n",
      "y_valid_tensor shape:  torch.Size([5232, 3])\n"
     ]
    }
   ],
   "source": [
    "# X = df['Lemmas'] # Lemma as feature, doesn't really increase performance of f1-score.\n",
    "# X = df['Tokens'] # same as above for tokens.\n",
    "X_train = df['Text'] # 40% f1-score , best feature as of yet\n",
    "X_test = test_df['Text']\n",
    "y_train = df['Sentiment'] # labels\n",
    "\n",
    "X_valid = valid_df['Text']\n",
    "y_valid = valid_df['Sentiment'] # these two will be used for metrics\n",
    "\n",
    "def simple_tokenizer(sentence):\n",
    "    tokens = sentence.split()  # Split the sentence into a list of words\n",
    "    return tokens\n",
    "\n",
    "# tokenize text column and perform below processes for all datasets.\n",
    "df['Tokens'] = df['Text'].apply(simple_tokenizer)\n",
    "test_df['Tokens'] = test_df['Text'].apply(simple_tokenizer)\n",
    "valid_df['Tokens'] = valid_df['Text'].apply(simple_tokenizer)\n",
    "\n",
    "# Train Word2Vec model\n",
    "sentences = df['Tokens'].tolist()\n",
    "test_sentences = test_df['Tokens'].tolist()\n",
    "valid_sentences = valid_df['Tokens'].tolist()\n",
    "\n",
    "word2vec_model = Word2Vec(sentences, vector_size=100, window=5, min_count=1, workers=4)\n",
    "# test_word2vec_model = Word2Vec(test_sentences, vector_size=100, window=5, min_count=1, workers=4)\n",
    "# valid_word2vec_model = Word2Vec(valid_sentences, vector_size=100, window=5, min_count=1, workers=4)\n",
    "\n",
    "# Creates embeddings for each tweet\n",
    "def get_tweet_embedding(tweet):\n",
    "    word_embeddings = [word2vec_model.wv[word] for word in tweet if word in word2vec_model.wv]\n",
    "    if not word_embeddings:\n",
    "        zeroes_list = [0] * 100\n",
    "        return zeroes_list\n",
    "            \n",
    "#         return None  # Handle the case where no words have embeddings\n",
    "    tweet_embedding = sum(word_embeddings) / len(word_embeddings)  # Simple average\n",
    "    return tweet_embedding\n",
    "\n",
    "# def get_tweet_embedding_test(tweet):\n",
    "#     word_embeddings = [test_word2vec_model.wv[word] for word in tweet if word in test_word2vec_model.wv]\n",
    "#     if not word_embeddings:\n",
    "#         zeroes_list = [0] * 100\n",
    "#         return zeroes_list\n",
    "            \n",
    "# #         return None  # Handle the case where no words have embeddings\n",
    "#     tweet_embedding = sum(word_embeddings) / len(word_embeddings)  # Simple average\n",
    "#     return tweet_embedding\n",
    "\n",
    "# def get_tweet_embedding_valid(tweet):\n",
    "#     word_embeddings = [valid_word2vec_model.wv[word] for word in tweet if word in valid_word2vec_model.wv]\n",
    "#     if not word_embeddings:\n",
    "#         zeroes_list = [0] * 100\n",
    "#         return zeroes_list\n",
    "            \n",
    "# #         return None  # Handle the case where no words have embeddings\n",
    "#     tweet_embedding = sum(word_embeddings) / len(word_embeddings)  # Simple average\n",
    "#     return tweet_embedding\n",
    "\n",
    "# Convert tweet tokens to embeddings\n",
    "tweet_embeddings_train = [get_tweet_embedding(tweet) for tweet in sentences]\n",
    "tweet_embeddings_test = [get_tweet_embedding(tweet) for tweet in test_sentences]\n",
    "tweet_embeddings_valid = [get_tweet_embedding(tweet) for tweet in valid_sentences]\n",
    "\n",
    "\n",
    "# Convert labels to one-hot encoded tensors\n",
    "label_embeddings_train = pd.get_dummies(df['Sentiment']).values\n",
    "label_embeddings_valid = pd.get_dummies(valid_df['Sentiment']).values\n",
    "\n",
    "# Below part is used to correlate the numbers 0,1,2 to their respective labels (POSITIVE,NEUTRAL,NEGATIVE) for predictions\n",
    "label_encoded_train = pd.get_dummies(df['Sentiment'])\n",
    "label_encoded_valid = pd.get_dummies(valid_df['Sentiment'])\n",
    "\n",
    "label_mapping_train = {i: label for i, label in enumerate(label_encoded_train.columns)}\n",
    "label_mapping_valid = {i: label for i, label in enumerate(label_encoded_valid.columns)}\n",
    "\n",
    "# Remove all label embeddings where tweet embeddings has None value\n",
    "# indexes_to_remove = []\n",
    "# for i in range(0,len(tweet_embeddings_train)):\n",
    "#     if tweet_embeddings_train[i] is None:\n",
    "#         indexes_to_remove.append(i)\n",
    "    \n",
    "# valid_indexes_to_remove = []\n",
    "# for i in range(0,len(tweet_embeddings_valid)):\n",
    "#     if tweet_embeddings_valid[i] is None:\n",
    "#         valid_indexes_to_remove.append(i)\n",
    "\n",
    "# label_embeddings_train = np.delete(label_embeddings, indexes_to_remove, axis=0)\n",
    "# label_embeddings_valid = np.delete(label_embeddings_valid, valid_indexes_to_remove, axis=0)\n",
    "\n",
    "# Handle None values (tweets with no words having embeddings) , I have removed 16 tweets that their words had no embeddings.\n",
    "# tweet_embeddings_train = [emb for emb in tweet_embeddings_train if emb is not None]\n",
    "# tweet_embeddings_valid = [emb for emb in tweet_embeddings_valid if emb is not None]\n",
    "\n",
    "# Convert to PyTorch tensors\n",
    "X_train_tensor = torch.FloatTensor(tweet_embeddings_train)\n",
    "y_train_tensor = torch.FloatTensor(label_embeddings_train)\n",
    "\n",
    "X_test_tensor = torch.FloatTensor(tweet_embeddings_test)\n",
    "\n",
    "X_valid_tensor = torch.FloatTensor(tweet_embeddings_valid)\n",
    "y_valid_tensor = torch.FloatTensor(label_embeddings_valid)\n",
    "\n",
    "\n",
    "print('X_train_tensor shape:', X_train_tensor.shape)\n",
    "print('y_train_tensor shape:', y_train_tensor.shape)\n",
    "\n",
    "print('X_test_tensor shape: ', X_test_tensor.shape)\n",
    "\n",
    "print('X_valid_tensor shape: ', X_valid_tensor.shape)\n",
    "print('y_valid_tensor shape: ', y_valid_tensor.shape)"
   ]
  },
  {
   "cell_type": "markdown",
   "id": "726db46d",
   "metadata": {
    "papermill": {
     "duration": 0.025085,
     "end_time": "2023-12-14T11:44:33.695200",
     "exception": false,
     "start_time": "2023-12-14T11:44:33.670115",
     "status": "completed"
    },
    "tags": []
   },
   "source": [
    "## most similar word visualization"
   ]
  },
  {
   "cell_type": "code",
   "execution_count": 13,
   "id": "a264e8ec",
   "metadata": {
    "execution": {
     "iopub.execute_input": "2023-12-14T11:44:33.748487Z",
     "iopub.status.busy": "2023-12-14T11:44:33.748040Z",
     "iopub.status.idle": "2023-12-14T11:44:33.776246Z",
     "shell.execute_reply": "2023-12-14T11:44:33.773981Z"
    },
    "papermill": {
     "duration": 0.057338,
     "end_time": "2023-12-14T11:44:33.778690",
     "exception": false,
     "start_time": "2023-12-14T11:44:33.721352",
     "status": "completed"
    },
    "tags": []
   },
   "outputs": [
    {
     "name": "stdout",
     "output_type": "stream",
     "text": [
      "Most semantically similar to word Mitsotakis:\n",
      "\n",
      "     word            similarity score\n",
      "===========================================\n",
      "     μητσοτακης…    0.9551254510879517\n",
      "     ζητησε         0.9532033205032349\n",
      "     ντιξον         0.9503481984138489\n",
      "     αποδειχθει     0.9468908309936523\n",
      "     προσφυγικο     0.945105791091919\n",
      "     συνθεση        0.9412325024604797\n",
      "     ταξιδευοντας   0.9361863732337952\n",
      "     χιουγκο        0.9341863393783569\n",
      "     μειωσουμε      0.932820200920105\n",
      "     τολμη          0.9320380091667175\n"
     ]
    }
   ],
   "source": [
    "# Picking some common words to show visualizations\n",
    "most_similar_mitsotakis = word2vec_model.wv.most_similar('μητσοτακης')\n",
    "\n",
    "print(f'Most semantically similar to word Mitsotakis:')\n",
    "print(f'\\n{\" \"*5}word{\" \"*10}  similarity score')\n",
    "print(f'{\"=\"*43}')\n",
    "for w in most_similar_mitsotakis:\n",
    "    print(f'{\" \"*5}{w[0]:15}{w[1]}')"
   ]
  },
  {
   "cell_type": "code",
   "execution_count": 14,
   "id": "5676d39a",
   "metadata": {
    "execution": {
     "iopub.execute_input": "2023-12-14T11:44:33.882715Z",
     "iopub.status.busy": "2023-12-14T11:44:33.882021Z",
     "iopub.status.idle": "2023-12-14T11:44:33.899268Z",
     "shell.execute_reply": "2023-12-14T11:44:33.897912Z"
    },
    "papermill": {
     "duration": 0.077248,
     "end_time": "2023-12-14T11:44:33.903538",
     "exception": false,
     "start_time": "2023-12-14T11:44:33.826290",
     "status": "completed"
    },
    "tags": []
   },
   "outputs": [
    {
     "name": "stdout",
     "output_type": "stream",
     "text": [
      "Most semantically similar to word Tsipras:\n",
      "\n",
      "     word            similarity score\n",
      "===========================================\n",
      "     σκαιτσιπρας    0.9553589820861816\n",
      "     🔴              0.9534194469451904\n",
      "     τηλεθεασης     0.9530816078186035\n",
      "     ζαγορα         0.9527417421340942\n",
      "     τσιπραςσκαι    0.9513566493988037\n",
      "     κιν            0.9511148929595947\n",
      "     σπαει          0.9500080347061157\n",
      "     πρωινες        0.9495740532875061\n",
      "     σκαιξεφτιλες   0.948449432849884\n",
      "     ευχαριστει     0.9474217295646667\n"
     ]
    }
   ],
   "source": [
    "most_similar_tsipras = word2vec_model.wv.most_similar('τσιπρας')\n",
    "\n",
    "print(f'Most semantically similar to word Tsipras:')\n",
    "print(f'\\n{\" \"*5}word{\" \"*10}  similarity score')\n",
    "print(f'{\"=\"*43}')\n",
    "for w in most_similar_tsipras:\n",
    "    print(f'{\" \"*5}{w[0]:15}{w[1]}')"
   ]
  },
  {
   "cell_type": "markdown",
   "id": "2d7acfd4",
   "metadata": {
    "papermill": {
     "duration": 0.053606,
     "end_time": "2023-12-14T11:44:34.011623",
     "exception": false,
     "start_time": "2023-12-14T11:44:33.958017",
     "status": "completed"
    },
    "tags": []
   },
   "source": [
    "## Linear substructure visualization"
   ]
  },
  {
   "cell_type": "code",
   "execution_count": 15,
   "id": "dc19577c",
   "metadata": {
    "execution": {
     "iopub.execute_input": "2023-12-14T11:44:34.065025Z",
     "iopub.status.busy": "2023-12-14T11:44:34.064593Z",
     "iopub.status.idle": "2023-12-14T11:44:35.031160Z",
     "shell.execute_reply": "2023-12-14T11:44:35.029928Z"
    },
    "papermill": {
     "duration": 0.996505,
     "end_time": "2023-12-14T11:44:35.033745",
     "exception": false,
     "start_time": "2023-12-14T11:44:34.037240",
     "status": "completed"
    },
    "tags": []
   },
   "outputs": [
    {
     "data": {
      "image/png": "[encoded data removed]",
      "text/plain": [
       "<Figure size 1100x900 with 1 Axes>"
      ]
     },
     "metadata": {},
     "output_type": "display_data"
    }
   ],
   "source": [
    "import warnings\n",
    "warnings.simplefilter(action='ignore', category=FutureWarning)\n",
    "from sklearn.manifold import TSNE\n",
    "\n",
    "sns.set_style(\"darkgrid\")\n",
    "sns.set_context(\"talk\",  font_scale=0.6)\n",
    "\n",
    "vocab = [\"μητσοτακης\", \"τσιπρας\", \"συριζα\", \"νδ\", \"κκε\", \"κιναλ\"]\n",
    "\n",
    "def glove_plot(model):\n",
    "    labels = []\n",
    "    wordvecs = []\n",
    "\n",
    "    for word in vocab:\n",
    "        wordvecs.append(model.wv[word])\n",
    "        labels.append(word)\n",
    "    \n",
    "    wordvecs_array = np.array(wordvecs)\n",
    "    tsne_model = TSNE(perplexity=3, n_components=2, init='pca', random_state=42) #T-distributed Stochastic Neighbor Embedding\n",
    "    coordinates = tsne_model.fit_transform(wordvecs_array) #The fit method is calculating the mean and variance of each of the features present in our data. The transform method is transforming all the features using the respective mean and variance.\n",
    "\n",
    "    x = []\n",
    "    y = []\n",
    "    for value in coordinates:\n",
    "        x.append(value[0])\n",
    "        y.append(value[1])\n",
    "\n",
    "\n",
    "    plt.figure(figsize=(11,9))\n",
    "    plt.title('Linear substructures of words with word2vec')\n",
    "    for i in range(len(x)):\n",
    "        plt.scatter(x[i],y[i])\n",
    "        plt.annotate(labels[i],\n",
    "                     xy=(x[i], y[i]),\n",
    "                     xytext=(2, 2),\n",
    "                     textcoords='offset points',\n",
    "                     ha='right',\n",
    "                     va='bottom')\n",
    "    plt.show()\n",
    "\n",
    "glove_plot(word2vec_model)"
   ]
  },
  {
   "cell_type": "markdown",
   "id": "09b0b79b",
   "metadata": {
    "papermill": {
     "duration": 0.026109,
     "end_time": "2023-12-14T11:44:35.086600",
     "exception": false,
     "start_time": "2023-12-14T11:44:35.060491",
     "status": "completed"
    },
    "tags": []
   },
   "source": [
    "## brute-force Neural network creation"
   ]
  },
  {
   "cell_type": "code",
   "execution_count": 16,
   "id": "c234412f",
   "metadata": {
    "execution": {
     "iopub.execute_input": "2023-12-14T11:44:35.142100Z",
     "iopub.status.busy": "2023-12-14T11:44:35.141270Z",
     "iopub.status.idle": "2023-12-14T11:44:35.150368Z",
     "shell.execute_reply": "2023-12-14T11:44:35.149158Z"
    },
    "papermill": {
     "duration": 0.039792,
     "end_time": "2023-12-14T11:44:35.153019",
     "exception": false,
     "start_time": "2023-12-14T11:44:35.113227",
     "status": "completed"
    },
    "tags": []
   },
   "outputs": [],
   "source": [
    "class BF_Net(nn.Module):\n",
    "    def __init__(self, D_in, H1, H2, H3, H4, D_out):\n",
    "        super(BF_Net, self).__init__()\n",
    "        \n",
    "        self.linear1 = nn.Linear(D_in, H1)\n",
    "        self.linear2 = nn.Linear(H1, H2)\n",
    "        self.linear3 = nn.Linear(H2, H3)\n",
    "        self.linear4 = nn.Linear(H3, H4)\n",
    "        self.linear5 = nn.Linear(H4, D_out) # added extra layer not much difference.\n",
    "\n",
    "    def forward(self, x):\n",
    "        h1 = self.linear1(x)\n",
    "        h2 = self.linear2(h1)\n",
    "        h3 = self.linear3(h2)\n",
    "        h4 = self.linear4(h3)\n",
    "        out = self.linear5(h4)\n",
    "        return out"
   ]
  },
  {
   "cell_type": "code",
   "execution_count": 17,
   "id": "e670c8da",
   "metadata": {
    "execution": {
     "iopub.execute_input": "2023-12-14T11:44:35.209165Z",
     "iopub.status.busy": "2023-12-14T11:44:35.207888Z",
     "iopub.status.idle": "2023-12-14T11:44:35.235277Z",
     "shell.execute_reply": "2023-12-14T11:44:35.234092Z"
    },
    "papermill": {
     "duration": 0.057484,
     "end_time": "2023-12-14T11:44:35.237550",
     "exception": false,
     "start_time": "2023-12-14T11:44:35.180066",
     "status": "completed"
    },
    "tags": []
   },
   "outputs": [
    {
     "name": "stdout",
     "output_type": "stream",
     "text": [
      "Data loading complete.\n"
     ]
    }
   ],
   "source": [
    "#Define layer sizes\n",
    "D_in = X_train_tensor.shape[1]\n",
    "H1 = 128 #size of the input sample\n",
    "H2 = 64\n",
    "H3 = 32\n",
    "H4 = 16\n",
    "D_out = 3\n",
    "\n",
    "#Define Hyperparameters\n",
    "learning_rate = 1e-4 # You can also experiment with different learning rates\n",
    "\n",
    "#Initialise model, loss, optimizer\n",
    "model = BF_Net(D_in, H1, H2, H3, H4, D_out)\n",
    "loss_func = nn.CrossEntropyLoss(reduction='sum')\n",
    "optimizer = torch.optim.Adam(model.parameters(), lr=learning_rate) # Adam seems the best\n",
    "\n",
    "#Initialise dataloaders\n",
    "train_dataset = torch.utils.data.TensorDataset(X_train_tensor, y_train_tensor) #class to represent the data as list of tensors. x=input_features, y=labels\n",
    "test_dataset = torch.utils.data.TensorDataset(X_test_tensor)\n",
    "valid_dataset = torch.utils.data.TensorDataset(X_valid_tensor, y_valid_tensor)\n",
    "\n",
    "train_dataloader = torch.utils.data.DataLoader(train_dataset, batch_size=64, shuffle=True)\n",
    "test_dataloader = torch.utils.data.DataLoader(test_dataset, batch_size=64,)\n",
    "valid_dataloader = torch.utils.data.DataLoader(valid_dataset, batch_size=64, shuffle=True)\n",
    "\n",
    "print(\"Data loading complete.\")"
   ]
  },
  {
   "cell_type": "code",
   "execution_count": 18,
   "id": "126c42bc",
   "metadata": {
    "execution": {
     "iopub.execute_input": "2023-12-14T11:44:35.293419Z",
     "iopub.status.busy": "2023-12-14T11:44:35.292144Z",
     "iopub.status.idle": "2023-12-14T11:44:59.841133Z",
     "shell.execute_reply": "2023-12-14T11:44:59.839834Z"
    },
    "papermill": {
     "duration": 24.579761,
     "end_time": "2023-12-14T11:44:59.843532",
     "exception": false,
     "start_time": "2023-12-14T11:44:35.263771",
     "status": "completed"
    },
    "tags": []
   },
   "outputs": [
    {
     "name": "stdout",
     "output_type": "stream",
     "text": [
      "Epoch   0 \t\t Training Loss: 70.15832 \t\t Validation Loss: 69.79670\n",
      "Epoch   1 \t\t Training Loss: 69.90298 \t\t Validation Loss: 69.62093\n",
      "Epoch   2 \t\t Training Loss: 69.81525 \t\t Validation Loss: 69.63805\n",
      "Epoch   3 \t\t Training Loss: 69.77869 \t\t Validation Loss: 69.55938\n",
      "Epoch   4 \t\t Training Loss: 69.75370 \t\t Validation Loss: 69.54918\n",
      "Epoch   5 \t\t Training Loss: 69.74506 \t\t Validation Loss: 69.57049\n",
      "Epoch   6 \t\t Training Loss: 69.74856 \t\t Validation Loss: 69.54359\n",
      "Epoch   7 \t\t Training Loss: 69.71369 \t\t Validation Loss: 69.56109\n",
      "Epoch   8 \t\t Training Loss: 69.72072 \t\t Validation Loss: 69.50283\n",
      "Epoch   9 \t\t Training Loss: 69.69020 \t\t Validation Loss: 69.52804\n",
      "Epoch  10 \t\t Training Loss: 69.67998 \t\t Validation Loss: 69.49542\n",
      "Epoch  11 \t\t Training Loss: 69.69119 \t\t Validation Loss: 69.47215\n",
      "Epoch  12 \t\t Training Loss: 69.68135 \t\t Validation Loss: 69.44781\n",
      "Epoch  13 \t\t Training Loss: 69.66455 \t\t Validation Loss: 69.47042\n",
      "Epoch  14 \t\t Training Loss: 69.66356 \t\t Validation Loss: 69.43921\n",
      "Epoch  15 \t\t Training Loss: 69.63581 \t\t Validation Loss: 69.43893\n"
     ]
    }
   ],
   "source": [
    "# NN training\n",
    "\n",
    "for epoch in range(16):\n",
    "    batch_losses = []\n",
    "    for x_batch, y_batch in train_dataloader:\n",
    "        y_pred = model(x_batch)\n",
    "\n",
    "        loss = loss_func(y_pred, y_batch)\n",
    "        batch_losses.append(loss.item())\n",
    "        # print('y_pred=', y_pred[0])\n",
    "        #Delete previously stored gradients\n",
    "        optimizer.zero_grad()\n",
    "        #Perform backpropagation starting from the loss calculated in this epoch\n",
    "        \n",
    "        loss.backward()\n",
    "        #Update model's weights based on the gradients calculated during backprop\n",
    "        optimizer.step()\n",
    "    \n",
    "#     print(f\"Epoch {epoch:3}: Loss = {sum(batch_losses)/len(train_dataloader):.5f}\")\n",
    "    \n",
    "    model.eval()\n",
    "    with torch.no_grad():\n",
    "        valid_batch_losses = []\n",
    "        for x_batch, y_batch in valid_dataloader:\n",
    "            y_pred_valid = model(x_batch)\n",
    "            # Compute and print/validation loss or other metrics\n",
    "            valid_loss = loss_func(y_pred_valid, y_batch)\n",
    "            valid_batch_losses.append(valid_loss.item())\n",
    "    \n",
    "    print(f'Epoch {epoch:3} \\t\\t Training Loss: {sum(batch_losses)/len(train_dataloader):.5f} \\t\\t Validation Loss: {sum(valid_batch_losses) / len(valid_dataloader):.5f}')"
   ]
  },
  {
   "cell_type": "markdown",
   "id": "ee4faf22",
   "metadata": {
    "papermill": {
     "duration": 0.027019,
     "end_time": "2023-12-14T11:44:59.898482",
     "exception": false,
     "start_time": "2023-12-14T11:44:59.871463",
     "status": "completed"
    },
    "tags": []
   },
   "source": [
    "## Evaluation of the brute-force NN"
   ]
  },
  {
   "cell_type": "code",
   "execution_count": 19,
   "id": "fb2af385",
   "metadata": {
    "execution": {
     "iopub.execute_input": "2023-12-14T11:44:59.956067Z",
     "iopub.status.busy": "2023-12-14T11:44:59.955420Z",
     "iopub.status.idle": "2023-12-14T11:45:00.432095Z",
     "shell.execute_reply": "2023-12-14T11:45:00.430848Z"
    },
    "papermill": {
     "duration": 0.508398,
     "end_time": "2023-12-14T11:45:00.434555",
     "exception": false,
     "start_time": "2023-12-14T11:44:59.926157",
     "status": "completed"
    },
    "tags": []
   },
   "outputs": [
    {
     "name": "stdout",
     "output_type": "stream",
     "text": [
      "10470\n",
      "POSITIVE\n",
      "\n",
      "\n",
      "================= BRUTE FORCE NEURAL NETWORK SCORES =================\n",
      "              precision    recall  f1-score   support\n",
      "\n",
      "    NEGATIVE       0.38      0.47      0.42      1744\n",
      "     NEUTRAL       0.40      0.21      0.28      1744\n",
      "    POSITIVE       0.36      0.45      0.40      1744\n",
      "\n",
      "    accuracy                           0.38      5232\n",
      "   macro avg       0.38      0.38      0.37      5232\n",
      "weighted avg       0.38      0.38      0.37      5232\n",
      "\n",
      "accuracy:  0.3765290519877676\n",
      "f1:  0.3765290519877676\n",
      "total f1:  [0.42148338 0.27578391 0.39979524]\n"
     ]
    }
   ],
   "source": [
    "# Generate test predictions\n",
    "model.eval()\n",
    "predictions_test = []\n",
    "\n",
    "# test results, labels for submission.csv\n",
    "with torch.no_grad():\n",
    "    for inputs in test_dataloader:\n",
    "        for tensor in inputs:\n",
    "            outputs = model(tensor)\n",
    "            _, predicted = torch.max(outputs, 1)\n",
    "\n",
    "            predictions_test.extend(predicted.tolist())\n",
    "    \n",
    "# convert 0,1,2 predictions to their original text form (POSITIVE, NEUTRAL , NEGATIVE)\n",
    "original_label_predictions_test = [label_mapping_train[pred] for pred in predictions_test]\n",
    "print(len(original_label_predictions_test))\n",
    "print(original_label_predictions_test[0])\n",
    "\n",
    "\n",
    "# Generate valid predictions\n",
    "predictions_valid = []\n",
    "\n",
    "val_targets = []\n",
    "model.eval()\n",
    "# valid results for evaluation\n",
    "with torch.no_grad():\n",
    "    for x_batch, y_batch in valid_dataloader:\n",
    "        outputs = model(x_batch)\n",
    "        _, predicted = torch.max(outputs, 1)\n",
    "\n",
    "        predictions_valid.extend(predicted.tolist())\n",
    "        val_targets.extend(y_batch.tolist())\n",
    "    \n",
    "# convert indexes to respective labels and predictions to respective label (POSITIVE, NEGATIVE, NEUTRAL) and feed them to the metric functions \n",
    "original_label_predictions_valid = [label_mapping_valid[pred] for pred in predictions_valid]\n",
    "val_targets_indices = [np.argmax(label) if np.sum(label) > 0 else -1 for label in val_targets]\n",
    "original_labels_valid = [label_mapping_valid[label] for label in val_targets_indices]\n",
    "\n",
    "print(\"\\n\")\n",
    "print(\"================= BRUTE FORCE NEURAL NETWORK SCORES =================\")\n",
    "print(classification_report(original_labels_valid,original_label_predictions_valid))\n",
    "\n",
    "print(\"accuracy: \",accuracy_score(original_labels_valid,original_label_predictions_valid))\n",
    "print(\"f1: \",f1_score(original_labels_valid,original_label_predictions_valid,average='micro'))\n",
    "print(\"total f1: \",f1_score(original_labels_valid,original_label_predictions_valid,average=None))"
   ]
  },
  {
   "cell_type": "markdown",
   "id": "423c1be5",
   "metadata": {
    "papermill": {
     "duration": 0.028037,
     "end_time": "2023-12-14T11:45:00.490550",
     "exception": false,
     "start_time": "2023-12-14T11:45:00.462513",
     "status": "completed"
    },
    "tags": []
   },
   "source": [
    "## Neural networks with activation functions and dropout layers"
   ]
  },
  {
   "cell_type": "code",
   "execution_count": 20,
   "id": "363fd44f",
   "metadata": {
    "execution": {
     "iopub.execute_input": "2023-12-14T11:45:00.548521Z",
     "iopub.status.busy": "2023-12-14T11:45:00.547789Z",
     "iopub.status.idle": "2023-12-14T11:45:00.557718Z",
     "shell.execute_reply": "2023-12-14T11:45:00.556743Z"
    },
    "papermill": {
     "duration": 0.04194,
     "end_time": "2023-12-14T11:45:00.560328",
     "exception": false,
     "start_time": "2023-12-14T11:45:00.518388",
     "status": "completed"
    },
    "tags": []
   },
   "outputs": [],
   "source": [
    "# Softmax neural network for MSE Loss function\n",
    "class Softmax_Net(nn.Module):\n",
    "    def __init__(self, D_in, H1, H2,dropout_rate, H3, D_out):\n",
    "        super(Softmax_Net, self).__init__()\n",
    "        # Softmax and ReLU help the neural network increase the scores a bit\n",
    "        # but not much to make a tremendous difference.\n",
    "        self.linear1 = nn.Linear(D_in, H1)\n",
    "        self.relu = nn.ReLU() # using ReLU\n",
    "        self.linear2 = nn.Linear(H1, H2)\n",
    "        self.linear3 = nn.Linear(H2, H3)\n",
    "        self.dropout = nn.Dropout(p = dropout_rate)\n",
    "        self.linear4 = nn.Linear(H3, D_out)\n",
    "        self.softmax = nn.Softmax(dim=-1)  # Softmax layer\n",
    "\n",
    "    def forward(self, x):\n",
    "        h1 = self.linear1(x)\n",
    "        relu = self.relu(h1) \n",
    "        h2 = self.linear2(relu)\n",
    "        relu = self.relu(h2)\n",
    "        h3 = self.linear3(relu)\n",
    "        relu = self.relu(h3)\n",
    "        dropout = self.dropout(relu)\n",
    "        out_pre_softmax = self.linear4(dropout)\n",
    "        out = self.softmax(out_pre_softmax)  # Apply softmax to final layer\n",
    "        return out"
   ]
  },
  {
   "cell_type": "code",
   "execution_count": 21,
   "id": "8b99d807",
   "metadata": {
    "execution": {
     "iopub.execute_input": "2023-12-14T11:45:00.621704Z",
     "iopub.status.busy": "2023-12-14T11:45:00.620996Z",
     "iopub.status.idle": "2023-12-14T11:45:00.630330Z",
     "shell.execute_reply": "2023-12-14T11:45:00.629242Z"
    },
    "papermill": {
     "duration": 0.043977,
     "end_time": "2023-12-14T11:45:00.633010",
     "exception": false,
     "start_time": "2023-12-14T11:45:00.589033",
     "status": "completed"
    },
    "tags": []
   },
   "outputs": [],
   "source": [
    "# Sigmoid neural network for BCE Loss function\n",
    "class Sigmoid_Net(nn.Module):\n",
    "    def __init__(self, D_in, H1, H2,dropout_rate, H3, D_out):\n",
    "        super(Sigmoid_Net, self).__init__()\n",
    "        self.linear1 = nn.Linear(D_in, H1)\n",
    "        self.relu = nn.ReLU() # using ReLU\n",
    "        self.linear2 = nn.Linear(H1, H2)\n",
    "        self.linear3 = nn.Linear(H2, H3)\n",
    "        self.dropout = nn.Dropout(p = dropout_rate)\n",
    "        self.linear4 = nn.Linear(H3, D_out)\n",
    "#         self.sigmoid = nn.Sigmoid()\n",
    "\n",
    "    def forward(self, x):\n",
    "        h1 = self.linear1(x)\n",
    "        relu = self.relu(h1) \n",
    "        h2 = self.linear2(relu)\n",
    "        h3 = self.linear3(h2)\n",
    "        dropout = self.dropout(h3)\n",
    "        out_before_sigmoid = self.linear4(dropout)\n",
    "        out = torch.sigmoid(out_before_sigmoid) # Apply sigmoid\n",
    "#         out = self.sigmoid(out_before_sigmoid)  \n",
    "        return out"
   ]
  },
  {
   "cell_type": "code",
   "execution_count": 22,
   "id": "b9cb2d78",
   "metadata": {
    "execution": {
     "iopub.execute_input": "2023-12-14T11:45:00.692441Z",
     "iopub.status.busy": "2023-12-14T11:45:00.691895Z",
     "iopub.status.idle": "2023-12-14T11:45:00.701438Z",
     "shell.execute_reply": "2023-12-14T11:45:00.700197Z"
    },
    "papermill": {
     "duration": 0.042506,
     "end_time": "2023-12-14T11:45:00.704026",
     "exception": false,
     "start_time": "2023-12-14T11:45:00.661520",
     "status": "completed"
    },
    "tags": []
   },
   "outputs": [],
   "source": [
    "# ReLU / Dropout neural network for BCELossWithLogits / CrossEntropyLoss (handles softmax on it's own)\n",
    "class Relu_Dropout_Net(nn.Module):\n",
    "    def __init__(self, D_in, H1, H2,dropout_rate, H3, D_out):\n",
    "        super(Relu_Dropout_Net, self).__init__()\n",
    "        # Softmax and ReLU help the neural network increase the scores a bit\n",
    "        # but not much to make a tremendous difference.\n",
    "        self.linear1 = nn.Linear(D_in, H1)\n",
    "        self.relu = nn.ReLU() # using ReLU\n",
    "        self.linear2 = nn.Linear(H1, H2)\n",
    "        self.linear3 = nn.Linear(H2, H3)\n",
    "        self.dropout = nn.Dropout(p = dropout_rate)\n",
    "        self.linear4 = nn.Linear(H3, D_out)\n",
    "\n",
    "    def forward(self, x):\n",
    "        h1 = self.linear1(x)\n",
    "        relu = self.relu(h1) \n",
    "        h2 = self.linear2(relu)\n",
    "        h3 = self.linear3(h2)\n",
    "        dropout = self.dropout(h3)\n",
    "        out = self.linear4(dropout)\n",
    "        return out"
   ]
  },
  {
   "cell_type": "markdown",
   "id": "9b4cafb4",
   "metadata": {
    "papermill": {
     "duration": 0.027553,
     "end_time": "2023-12-14T11:45:00.760016",
     "exception": false,
     "start_time": "2023-12-14T11:45:00.732463",
     "status": "completed"
    },
    "tags": []
   },
   "source": [
    "## Softmax NN training and evaluation"
   ]
  },
  {
   "cell_type": "code",
   "execution_count": 23,
   "id": "228985bd",
   "metadata": {
    "execution": {
     "iopub.execute_input": "2023-12-14T11:45:00.819322Z",
     "iopub.status.busy": "2023-12-14T11:45:00.818882Z",
     "iopub.status.idle": "2023-12-14T11:45:27.356972Z",
     "shell.execute_reply": "2023-12-14T11:45:27.354648Z"
    },
    "papermill": {
     "duration": 26.571283,
     "end_time": "2023-12-14T11:45:27.359643",
     "exception": false,
     "start_time": "2023-12-14T11:45:00.788360",
     "status": "completed"
    },
    "tags": []
   },
   "outputs": [
    {
     "name": "stdout",
     "output_type": "stream",
     "text": [
      "Data loading complete.\n",
      "Epoch   0 \t\t Training Loss: 0.22152 \t\t Validation Loss: 0.22036\n",
      "Epoch   1 \t\t Training Loss: 0.22067 \t\t Validation Loss: 0.22027\n",
      "Epoch   2 \t\t Training Loss: 0.22021 \t\t Validation Loss: 0.22006\n",
      "Epoch   3 \t\t Training Loss: 0.21987 \t\t Validation Loss: 0.21928\n",
      "Epoch   4 \t\t Training Loss: 0.21961 \t\t Validation Loss: 0.21844\n",
      "Epoch   5 \t\t Training Loss: 0.21931 \t\t Validation Loss: 0.21854\n",
      "Epoch   6 \t\t Training Loss: 0.21900 \t\t Validation Loss: 0.21842\n",
      "Epoch   7 \t\t Training Loss: 0.21881 \t\t Validation Loss: 0.21830\n",
      "Epoch   8 \t\t Training Loss: 0.21867 \t\t Validation Loss: 0.21876\n",
      "Epoch   9 \t\t Training Loss: 0.21857 \t\t Validation Loss: 0.21840\n",
      "Epoch  10 \t\t Training Loss: 0.21847 \t\t Validation Loss: 0.21780\n",
      "Epoch  11 \t\t Training Loss: 0.21847 \t\t Validation Loss: 0.21769\n",
      "Epoch  12 \t\t Training Loss: 0.21828 \t\t Validation Loss: 0.21745\n",
      "Epoch  13 \t\t Training Loss: 0.21805 \t\t Validation Loss: 0.21768\n",
      "Epoch  14 \t\t Training Loss: 0.21807 \t\t Validation Loss: 0.21799\n",
      "Epoch  15 \t\t Training Loss: 0.21800 \t\t Validation Loss: 0.21844\n",
      "10470\n",
      "POSITIVE\n",
      "\n",
      "\n",
      "================= SOFTMAX NN SCORES =================\n",
      "              precision    recall  f1-score   support\n",
      "\n",
      "    NEGATIVE       0.38      0.53      0.44      1744\n",
      "     NEUTRAL       0.40      0.26      0.32      1744\n",
      "    POSITIVE       0.39      0.37      0.38      1744\n",
      "\n",
      "    accuracy                           0.39      5232\n",
      "   macro avg       0.39      0.39      0.38      5232\n",
      "weighted avg       0.39      0.39      0.38      5232\n",
      "\n",
      "accuracy:  0.3885703363914373\n",
      "f1:  0.3885703363914373\n",
      "total f1:  [0.44481766 0.31626298 0.38109219]\n"
     ]
    }
   ],
   "source": [
    "#Define layer sizes\n",
    "D_in = X_train_tensor.shape[1]\n",
    "H1 = 128 #size of the input sample\n",
    "H2 = 64\n",
    "dropout_rate = 0.3\n",
    "H3 = 32\n",
    "D_out = 3\n",
    "\n",
    "#Define Hyperparameters\n",
    "learning_rate = 1e-3 # best LR yet: 1e-3\n",
    "\n",
    "#Initialise model, loss, optimizer\n",
    "model = Softmax_Net(D_in, H1, H2,dropout_rate, H3, D_out)\n",
    "loss_func = nn.MSELoss(reduction='mean')\n",
    "optimizer = torch.optim.Adam(model.parameters(), lr=learning_rate) # Adam, SGD, AdamW\n",
    "\n",
    "#Initialise dataloaders\n",
    "train_dataset = torch.utils.data.TensorDataset(X_train_tensor, y_train_tensor) #class to represent the data as list of tensors. x=input_features, y=labels\n",
    "test_dataset = torch.utils.data.TensorDataset(X_test_tensor)\n",
    "valid_dataset = torch.utils.data.TensorDataset(X_valid_tensor, y_valid_tensor)\n",
    "\n",
    "train_dataloader = torch.utils.data.DataLoader(train_dataset, batch_size=64, shuffle=True)\n",
    "test_dataloader = torch.utils.data.DataLoader(test_dataset, batch_size=64,)\n",
    "valid_dataloader = torch.utils.data.DataLoader(valid_dataset, batch_size=64, shuffle=True)\n",
    "\n",
    "print(\"Data loading complete.\")\n",
    "\n",
    "# NN training\n",
    "\n",
    "for epoch in range(16):\n",
    "    batch_losses = []\n",
    "    for x_batch, y_batch in train_dataloader:\n",
    "        y_pred = model(x_batch)\n",
    "\n",
    "        loss = loss_func(y_pred, y_batch)\n",
    "        batch_losses.append(loss.item())\n",
    "        # print('y_pred=', y_pred[0])\n",
    "        #Delete previously stored gradients\n",
    "        optimizer.zero_grad()\n",
    "        #Perform backpropagation starting from the loss calculated in this epoch\n",
    "        \n",
    "        loss.backward()\n",
    "        #Update model's weights based on the gradients calculated during backprop\n",
    "        optimizer.step()\n",
    "    \n",
    "#     print(f\"Epoch {epoch:3}: Loss = {sum(batch_losses)/len(train_dataloader):.5f}\")\n",
    "    \n",
    "    model.eval()\n",
    "    with torch.no_grad():\n",
    "        valid_batch_losses = []\n",
    "        for x_batch, y_batch in valid_dataloader:\n",
    "            y_pred_valid = model(x_batch)\n",
    "            # Compute and print/validation loss or other metrics\n",
    "            valid_loss = loss_func(y_pred_valid, y_batch)\n",
    "            valid_batch_losses.append(valid_loss.item())\n",
    "    \n",
    "    print(f'Epoch {epoch:3} \\t\\t Training Loss: {sum(batch_losses)/len(train_dataloader):.5f} \\t\\t Validation Loss: {sum(valid_batch_losses) / len(valid_dataloader):.5f}')\n",
    "    \n",
    "\n",
    "# Generate test predictions\n",
    "model.eval()\n",
    "predictions_test = []\n",
    "\n",
    "# test results, labels for submission.csv\n",
    "with torch.no_grad():\n",
    "    for inputs in test_dataloader:\n",
    "        for tensor in inputs:\n",
    "            outputs = model(tensor)\n",
    "            _, predicted = torch.max(outputs, 1)\n",
    "\n",
    "            predictions_test.extend(predicted.tolist())\n",
    "    \n",
    "# convert 0,1,2 predictions to their original text form (POSITIVE, NEUTRAL , NEGATIVE)\n",
    "original_label_predictions_test = [label_mapping_train[pred] for pred in predictions_test]\n",
    "print(len(original_label_predictions_test))\n",
    "print(original_label_predictions_test[0])\n",
    "\n",
    "# Generate valid predictions\n",
    "predictions_valid = []\n",
    "\n",
    "val_targets = []\n",
    "model.eval()\n",
    "# valid results for evaluation\n",
    "with torch.no_grad():\n",
    "    for x_batch, y_batch in valid_dataloader:\n",
    "        outputs = model(x_batch)\n",
    "        _, predicted = torch.max(outputs, 1)\n",
    "\n",
    "        predictions_valid.extend(predicted.tolist())\n",
    "        val_targets.extend(y_batch.tolist())\n",
    "    \n",
    "# convert indexes to respective labels and predictions to respective label (POSITIVE, NEGATIVE, NEUTRAL) and feed them to the metric functions \n",
    "original_label_predictions_valid = [label_mapping_valid[pred] for pred in predictions_valid]\n",
    "val_targets_indices = [np.argmax(label) if np.sum(label) > 0 else -1 for label in val_targets]\n",
    "original_labels_valid = [label_mapping_valid[label] for label in val_targets_indices]\n",
    "\n",
    "print(\"\\n\")\n",
    "print(\"================= SOFTMAX NN SCORES =================\")\n",
    "print(classification_report(original_labels_valid,original_label_predictions_valid))\n",
    "\n",
    "print(\"accuracy: \",accuracy_score(original_labels_valid,original_label_predictions_valid))\n",
    "print(\"f1: \",f1_score(original_labels_valid,original_label_predictions_valid,average='micro'))\n",
    "print(\"total f1: \",f1_score(original_labels_valid,original_label_predictions_valid,average=None))"
   ]
  },
  {
   "cell_type": "markdown",
   "id": "886eaed7",
   "metadata": {
    "papermill": {
     "duration": 0.029233,
     "end_time": "2023-12-14T11:45:27.419364",
     "exception": false,
     "start_time": "2023-12-14T11:45:27.390131",
     "status": "completed"
    },
    "tags": []
   },
   "source": [
    "## Sigmoid NN training and evaluation"
   ]
  },
  {
   "cell_type": "code",
   "execution_count": 24,
   "id": "e3ca20da",
   "metadata": {
    "execution": {
     "iopub.execute_input": "2023-12-14T11:45:27.480263Z",
     "iopub.status.busy": "2023-12-14T11:45:27.479821Z",
     "iopub.status.idle": "2023-12-14T11:45:52.444055Z",
     "shell.execute_reply": "2023-12-14T11:45:52.442660Z"
    },
    "papermill": {
     "duration": 24.997987,
     "end_time": "2023-12-14T11:45:52.446550",
     "exception": false,
     "start_time": "2023-12-14T11:45:27.448563",
     "status": "completed"
    },
    "tags": []
   },
   "outputs": [
    {
     "name": "stdout",
     "output_type": "stream",
     "text": [
      "Data loading complete.\n",
      "Epoch   0 \t\t Training Loss: 122.29854 \t\t Validation Loss: 121.28755\n",
      "Epoch   1 \t\t Training Loss: 121.39531 \t\t Validation Loss: 121.11243\n",
      "Epoch   2 \t\t Training Loss: 121.22901 \t\t Validation Loss: 120.96743\n",
      "Epoch   3 \t\t Training Loss: 121.18393 \t\t Validation Loss: 120.72441\n",
      "Epoch   4 \t\t Training Loss: 121.03865 \t\t Validation Loss: 120.63181\n",
      "Epoch   5 \t\t Training Loss: 120.99433 \t\t Validation Loss: 120.42483\n",
      "Epoch   6 \t\t Training Loss: 120.84099 \t\t Validation Loss: 120.30736\n",
      "Epoch   7 \t\t Training Loss: 120.79683 \t\t Validation Loss: 120.16042\n",
      "Epoch   8 \t\t Training Loss: 120.70949 \t\t Validation Loss: 120.18002\n",
      "Epoch   9 \t\t Training Loss: 120.70321 \t\t Validation Loss: 120.12799\n",
      "Epoch  10 \t\t Training Loss: 120.61886 \t\t Validation Loss: 120.15078\n",
      "Epoch  11 \t\t Training Loss: 120.63061 \t\t Validation Loss: 120.13527\n",
      "Epoch  12 \t\t Training Loss: 120.56295 \t\t Validation Loss: 120.20092\n",
      "Epoch  13 \t\t Training Loss: 120.52984 \t\t Validation Loss: 119.94938\n",
      "Epoch  14 \t\t Training Loss: 120.53118 \t\t Validation Loss: 120.17221\n",
      "Epoch  15 \t\t Training Loss: 120.52271 \t\t Validation Loss: 119.93554\n",
      "10470\n",
      "POSITIVE\n",
      "\n",
      "\n",
      "================= SIGMOID NN SCORES (BCE LOSS) =================\n",
      "              precision    recall  f1-score   support\n",
      "\n",
      "    NEGATIVE       0.38      0.56      0.46      1744\n",
      "     NEUTRAL       0.45      0.14      0.22      1744\n",
      "    POSITIVE       0.38      0.46      0.42      1744\n",
      "\n",
      "    accuracy                           0.39      5232\n",
      "   macro avg       0.40      0.39      0.36      5232\n",
      "weighted avg       0.40      0.39      0.36      5232\n",
      "\n",
      "accuracy:  0.389717125382263\n",
      "f1:  0.389717125382263\n",
      "total f1:  [0.45545013 0.21837088 0.41877445]\n"
     ]
    }
   ],
   "source": [
    "#Define layer sizes\n",
    "D_in = X_train_tensor.shape[1]\n",
    "H1 = 128 #size of the input sample\n",
    "H2 = 64\n",
    "dropout_rate = 0.3\n",
    "H3 = 32\n",
    "D_out = 3\n",
    "\n",
    "#Define Hyperparameters\n",
    "learning_rate = 1e-3 # You can also experiment with different learning rates\n",
    "\n",
    "\n",
    "#Initialise model, loss, optimizer\n",
    "model = Sigmoid_Net(D_in, H1, H2,dropout_rate, H3, D_out)\n",
    "loss_func = nn.BCELoss(reduction='sum') # Only BCELoss here.\n",
    "optimizer = torch.optim.Adam(model.parameters(), lr=learning_rate)\n",
    "\n",
    "#Initialise dataloaders\n",
    "train_dataset = torch.utils.data.TensorDataset(X_train_tensor, y_train_tensor) #class to represent the data as list of tensors. x=input_features, y=labels\n",
    "test_dataset = torch.utils.data.TensorDataset(X_test_tensor)\n",
    "valid_dataset = torch.utils.data.TensorDataset(X_valid_tensor, y_valid_tensor)\n",
    "\n",
    "train_dataloader = torch.utils.data.DataLoader(train_dataset, batch_size=64, shuffle=True)\n",
    "test_dataloader = torch.utils.data.DataLoader(test_dataset, batch_size=64,)\n",
    "valid_dataloader = torch.utils.data.DataLoader(valid_dataset, batch_size=64, shuffle=True)\n",
    "\n",
    "print(\"Data loading complete.\")\n",
    "\n",
    "# NN training\n",
    "\n",
    "for epoch in range(16):\n",
    "    batch_losses = []\n",
    "    for x_batch, y_batch in train_dataloader:\n",
    "        y_pred = model(x_batch)\n",
    "\n",
    "        loss = loss_func(y_pred, y_batch)\n",
    "        batch_losses.append(loss.item())\n",
    "        # print('y_pred=', y_pred[0])\n",
    "        #Delete previously stored gradients\n",
    "        optimizer.zero_grad()\n",
    "        #Perform backpropagation starting from the loss calculated in this epoch\n",
    "        \n",
    "        loss.backward()\n",
    "        #Update model's weights based on the gradients calculated during backprop\n",
    "        optimizer.step()\n",
    "    \n",
    "#     print(f\"Epoch {epoch:3}: Loss = {sum(batch_losses)/len(train_dataloader):.5f}\")\n",
    "    \n",
    "    model.eval()\n",
    "    with torch.no_grad():\n",
    "        valid_batch_losses = []\n",
    "        for x_batch, y_batch in valid_dataloader:\n",
    "            y_pred_valid = model(x_batch)\n",
    "            # Compute and print/validation loss or other metrics\n",
    "            valid_loss = loss_func(y_pred_valid, y_batch)\n",
    "            valid_batch_losses.append(valid_loss.item())\n",
    "    \n",
    "    print(f'Epoch {epoch:3} \\t\\t Training Loss: {sum(batch_losses)/len(train_dataloader):.5f} \\t\\t Validation Loss: {sum(valid_batch_losses) / len(valid_dataloader):.5f}')\n",
    "\n",
    "# Generate test predictions\n",
    "model.eval()\n",
    "predictions_test = []\n",
    "\n",
    "# test results, labels for submission.csv\n",
    "with torch.no_grad():\n",
    "    for inputs in test_dataloader:\n",
    "        for tensor in inputs:\n",
    "            outputs = model(tensor)\n",
    "            _, predicted = torch.max(outputs, 1)\n",
    "\n",
    "            predictions_test.extend(predicted.tolist())\n",
    "    \n",
    "# convert 0,1,2 predictions to their original text form (POSITIVE, NEUTRAL , NEGATIVE)\n",
    "original_label_predictions_test = [label_mapping_train[pred] for pred in predictions_test]\n",
    "print(len(original_label_predictions_test))\n",
    "print(original_label_predictions_test[0])\n",
    "\n",
    "# Generate valid predictions\n",
    "predictions_valid = []\n",
    "\n",
    "val_targets = []\n",
    "model.eval()\n",
    "# valid results for evaluation\n",
    "with torch.no_grad():\n",
    "    for x_batch, y_batch in valid_dataloader:\n",
    "        outputs = model(x_batch)\n",
    "        _, predicted = torch.max(outputs, 1)\n",
    "\n",
    "        predictions_valid.extend(predicted.tolist())\n",
    "        val_targets.extend(y_batch.tolist())\n",
    "    \n",
    "# convert indexes to respective labels and predictions to respective label (POSITIVE, NEGATIVE, NEUTRAL) and feed them to the metric functions \n",
    "original_label_predictions_valid = [label_mapping_valid[pred] for pred in predictions_valid]\n",
    "val_targets_indices = [np.argmax(label) if np.sum(label) > 0 else -1 for label in val_targets]\n",
    "original_labels_valid = [label_mapping_valid[label] for label in val_targets_indices]\n",
    "\n",
    "print(\"\\n\")\n",
    "print(\"================= SIGMOID NN SCORES (BCE LOSS) =================\")\n",
    "print(classification_report(original_labels_valid,original_label_predictions_valid))\n",
    "\n",
    "print(\"accuracy: \",accuracy_score(original_labels_valid,original_label_predictions_valid))\n",
    "print(\"f1: \",f1_score(original_labels_valid,original_label_predictions_valid,average='micro'))\n",
    "print(\"total f1: \",f1_score(original_labels_valid,original_label_predictions_valid,average=None))"
   ]
  },
  {
   "cell_type": "markdown",
   "id": "2c8875c3",
   "metadata": {
    "papermill": {
     "duration": 0.030794,
     "end_time": "2023-12-14T11:45:52.508542",
     "exception": false,
     "start_time": "2023-12-14T11:45:52.477748",
     "status": "completed"
    },
    "tags": []
   },
   "source": [
    "## ReLU and Dropout layer NN training and evaluation (BCE Loss with Logits)"
   ]
  },
  {
   "cell_type": "code",
   "execution_count": 25,
   "id": "f4dfbc69",
   "metadata": {
    "execution": {
     "iopub.execute_input": "2023-12-14T11:45:52.572169Z",
     "iopub.status.busy": "2023-12-14T11:45:52.571763Z",
     "iopub.status.idle": "2023-12-14T11:46:16.013229Z",
     "shell.execute_reply": "2023-12-14T11:46:16.012310Z"
    },
    "papermill": {
     "duration": 23.476333,
     "end_time": "2023-12-14T11:46:16.015638",
     "exception": false,
     "start_time": "2023-12-14T11:45:52.539305",
     "status": "completed"
    },
    "tags": []
   },
   "outputs": [
    {
     "name": "stdout",
     "output_type": "stream",
     "text": [
      "Data loading complete.\n",
      "Epoch   0 \t\t Training Loss: 124.93669 \t\t Validation Loss: 122.10414\n",
      "Epoch   1 \t\t Training Loss: 121.95032 \t\t Validation Loss: 121.29727\n",
      "Epoch   2 \t\t Training Loss: 121.52000 \t\t Validation Loss: 121.08000\n",
      "Epoch   3 \t\t Training Loss: 121.39199 \t\t Validation Loss: 121.05438\n",
      "Epoch   4 \t\t Training Loss: 121.31711 \t\t Validation Loss: 120.98420\n",
      "Epoch   5 \t\t Training Loss: 121.26727 \t\t Validation Loss: 120.96653\n",
      "Epoch   6 \t\t Training Loss: 121.24640 \t\t Validation Loss: 120.89237\n",
      "Epoch   7 \t\t Training Loss: 121.21852 \t\t Validation Loss: 120.90182\n",
      "Epoch   8 \t\t Training Loss: 121.19922 \t\t Validation Loss: 120.87025\n",
      "Epoch   9 \t\t Training Loss: 121.17615 \t\t Validation Loss: 121.02514\n",
      "Epoch  10 \t\t Training Loss: 121.14257 \t\t Validation Loss: 120.82876\n",
      "Epoch  11 \t\t Training Loss: 121.11704 \t\t Validation Loss: 120.81860\n",
      "Epoch  12 \t\t Training Loss: 121.09429 \t\t Validation Loss: 120.79366\n",
      "Epoch  13 \t\t Training Loss: 121.05608 \t\t Validation Loss: 120.74966\n",
      "Epoch  14 \t\t Training Loss: 121.02197 \t\t Validation Loss: 120.96380\n",
      "Epoch  15 \t\t Training Loss: 121.00493 \t\t Validation Loss: 120.89529\n",
      "10470\n",
      "POSITIVE\n",
      "\n",
      "\n",
      "================= RELU AND DROPOUT NN SCORES (BCE LOSS WITH LOGITS) =================\n",
      "              precision    recall  f1-score   support\n",
      "\n",
      "    NEGATIVE       0.42      0.32      0.36      1744\n",
      "     NEUTRAL       0.41      0.20      0.27      1744\n",
      "    POSITIVE       0.36      0.63      0.46      1744\n",
      "\n",
      "    accuracy                           0.38      5232\n",
      "   macro avg       0.40      0.38      0.36      5232\n",
      "weighted avg       0.40      0.38      0.36      5232\n",
      "\n",
      "accuracy:  0.38245412844036697\n",
      "f1:  0.38245412844036697\n",
      "total f1:  [0.35955787 0.27203065 0.4575136 ]\n"
     ]
    }
   ],
   "source": [
    "#Define layer sizes\n",
    "D_in = X_train_tensor.shape[1]\n",
    "H1 = 128 #size of the input sample\n",
    "H2 = 64\n",
    "dropout_rate = 0.5\n",
    "H3 = 32\n",
    "D_out = 3\n",
    "\n",
    "#Define Hyperparameters\n",
    "learning_rate = 1e-4 # You can also experiment with different learning rates\n",
    "\n",
    "#Initialise model, loss, optimizer\n",
    "model = Relu_Dropout_Net(D_in, H1, H2,dropout_rate, H3, D_out)\n",
    "loss_func = nn.BCEWithLogitsLoss(reduction='sum') # You can also try BCELoss and BCEWithLogitsLoss\n",
    "optimizer = torch.optim.Adam(model.parameters(), lr=learning_rate) # You can also try Adam and AdamW\n",
    "\n",
    "#Initialise dataloaders\n",
    "train_dataset = torch.utils.data.TensorDataset(X_train_tensor, y_train_tensor) #class to represent the data as list of tensors. x=input_features, y=labels\n",
    "test_dataset = torch.utils.data.TensorDataset(X_test_tensor)\n",
    "valid_dataset = torch.utils.data.TensorDataset(X_valid_tensor, y_valid_tensor)\n",
    "\n",
    "train_dataloader = torch.utils.data.DataLoader(train_dataset, batch_size=64, shuffle=True)\n",
    "test_dataloader = torch.utils.data.DataLoader(test_dataset, batch_size=64,)\n",
    "valid_dataloader = torch.utils.data.DataLoader(valid_dataset, batch_size=64, shuffle=True)\n",
    "\n",
    "print(\"Data loading complete.\")\n",
    "\n",
    "# NN training\n",
    "\n",
    "for epoch in range(16):\n",
    "    batch_losses = []\n",
    "    for x_batch, y_batch in train_dataloader:\n",
    "        y_pred = model(x_batch)\n",
    "\n",
    "        loss = loss_func(y_pred, y_batch)\n",
    "        batch_losses.append(loss.item())\n",
    "        # print('y_pred=', y_pred[0])\n",
    "        #Delete previously stored gradients\n",
    "        optimizer.zero_grad()\n",
    "        #Perform backpropagation starting from the loss calculated in this epoch\n",
    "        \n",
    "        loss.backward()\n",
    "        #Update model's weights based on the gradients calculated during backprop\n",
    "        optimizer.step()\n",
    "    \n",
    "#     print(f\"Epoch {epoch:3}: Loss = {sum(batch_losses)/len(train_dataloader):.5f}\")\n",
    "    \n",
    "    model.eval()\n",
    "    with torch.no_grad():\n",
    "        valid_batch_losses = []\n",
    "        for x_batch, y_batch in valid_dataloader:\n",
    "            y_pred_valid = model(x_batch)\n",
    "            # Compute and print/validation loss or other metrics\n",
    "            valid_loss = loss_func(y_pred_valid, y_batch)\n",
    "            valid_batch_losses.append(valid_loss.item())\n",
    "    \n",
    "    print(f'Epoch {epoch:3} \\t\\t Training Loss: {sum(batch_losses)/len(train_dataloader):.5f} \\t\\t Validation Loss: {sum(valid_batch_losses) / len(valid_dataloader):.5f}')\n",
    "\n",
    "# Generate test predictions\n",
    "model.eval()\n",
    "predictions_test = []\n",
    "\n",
    "# test results, labels for submission.csv\n",
    "with torch.no_grad():\n",
    "    for inputs in test_dataloader:\n",
    "        for tensor in inputs:\n",
    "            outputs = model(tensor)\n",
    "            _, predicted = torch.max(outputs, 1)\n",
    "\n",
    "            predictions_test.extend(predicted.tolist())\n",
    "    \n",
    "# convert 0,1,2 predictions to their original text form (POSITIVE, NEUTRAL , NEGATIVE)\n",
    "original_label_predictions_test = [label_mapping_train[pred] for pred in predictions_test]\n",
    "print(len(original_label_predictions_test))\n",
    "print(original_label_predictions_test[0])\n",
    "\n",
    "# Generate valid predictions\n",
    "predictions_valid = []\n",
    "\n",
    "val_targets = []\n",
    "model.eval()\n",
    "# valid results for evaluation\n",
    "with torch.no_grad():\n",
    "    for x_batch, y_batch in valid_dataloader:\n",
    "        outputs = model(x_batch)\n",
    "        _, predicted = torch.max(outputs, 1)\n",
    "\n",
    "        predictions_valid.extend(predicted.tolist())\n",
    "        val_targets.extend(y_batch.tolist())\n",
    "    \n",
    "# convert indexes to respective labels and predictions to respective label (POSITIVE, NEGATIVE, NEUTRAL) and feed them to the metric functions \n",
    "original_label_predictions_valid = [label_mapping_valid[pred] for pred in predictions_valid]\n",
    "val_targets_indices = [np.argmax(label) if np.sum(label) > 0 else -1 for label in val_targets]\n",
    "original_labels_valid = [label_mapping_valid[label] for label in val_targets_indices]\n",
    "\n",
    "print(\"\\n\")\n",
    "print(\"================= RELU AND DROPOUT NN SCORES (BCE LOSS WITH LOGITS) =================\")\n",
    "print(classification_report(original_labels_valid,original_label_predictions_valid))\n",
    "\n",
    "print(\"accuracy: \",accuracy_score(original_labels_valid,original_label_predictions_valid))\n",
    "print(\"f1: \",f1_score(original_labels_valid,original_label_predictions_valid,average='micro'))\n",
    "print(\"total f1: \",f1_score(original_labels_valid,original_label_predictions_valid,average=None))"
   ]
  },
  {
   "cell_type": "markdown",
   "id": "2e7feb2b",
   "metadata": {
    "papermill": {
     "duration": 0.033272,
     "end_time": "2023-12-14T11:46:16.082403",
     "exception": false,
     "start_time": "2023-12-14T11:46:16.049131",
     "status": "completed"
    },
    "tags": []
   },
   "source": [
    "## ReLU and Dropout layer NN training and evaluation (Cross Entropy Loss)"
   ]
  },
  {
   "cell_type": "code",
   "execution_count": 26,
   "id": "daa0b6b0",
   "metadata": {
    "execution": {
     "iopub.execute_input": "2023-12-14T11:46:16.151206Z",
     "iopub.status.busy": "2023-12-14T11:46:16.150803Z",
     "iopub.status.idle": "2023-12-14T11:46:40.212314Z",
     "shell.execute_reply": "2023-12-14T11:46:40.210099Z"
    },
    "papermill": {
     "duration": 24.099476,
     "end_time": "2023-12-14T11:46:40.214912",
     "exception": false,
     "start_time": "2023-12-14T11:46:16.115436",
     "status": "completed"
    },
    "tags": []
   },
   "outputs": [
    {
     "name": "stdout",
     "output_type": "stream",
     "text": [
      "Data loading complete.\n",
      "Epoch   0 \t\t Training Loss: 70.13426 \t\t Validation Loss: 69.68891\n",
      "Epoch   1 \t\t Training Loss: 69.83775 \t\t Validation Loss: 69.56847\n",
      "Epoch   2 \t\t Training Loss: 69.72776 \t\t Validation Loss: 69.50195\n",
      "Epoch   3 \t\t Training Loss: 69.66827 \t\t Validation Loss: 69.46709\n",
      "Epoch   4 \t\t Training Loss: 69.64266 \t\t Validation Loss: 69.45947\n",
      "Epoch   5 \t\t Training Loss: 69.63108 \t\t Validation Loss: 69.42470\n",
      "Epoch   6 \t\t Training Loss: 69.60747 \t\t Validation Loss: 69.47237\n",
      "Epoch   7 \t\t Training Loss: 69.59003 \t\t Validation Loss: 69.39223\n",
      "Epoch   8 \t\t Training Loss: 69.55986 \t\t Validation Loss: 69.37388\n",
      "Epoch   9 \t\t Training Loss: 69.54846 \t\t Validation Loss: 69.35257\n",
      "Epoch  10 \t\t Training Loss: 69.52747 \t\t Validation Loss: 69.42441\n",
      "Epoch  11 \t\t Training Loss: 69.51117 \t\t Validation Loss: 69.34213\n",
      "Epoch  12 \t\t Training Loss: 69.49237 \t\t Validation Loss: 69.30209\n",
      "Epoch  13 \t\t Training Loss: 69.45421 \t\t Validation Loss: 69.35440\n",
      "Epoch  14 \t\t Training Loss: 69.44088 \t\t Validation Loss: 69.25212\n",
      "Epoch  15 \t\t Training Loss: 69.42104 \t\t Validation Loss: 69.27443\n",
      "10470\n",
      "POSITIVE\n",
      "\n",
      "\n",
      "================= RELU AND DROPOUT NN SCORES (CROSS ENTROPY LOSS) =================\n",
      "              precision    recall  f1-score   support\n",
      "\n",
      "    NEGATIVE       0.39      0.49      0.43      1744\n",
      "     NEUTRAL       0.42      0.16      0.23      1744\n",
      "    POSITIVE       0.37      0.50      0.42      1744\n",
      "\n",
      "    accuracy                           0.38      5232\n",
      "   macro avg       0.39      0.38      0.36      5232\n",
      "weighted avg       0.39      0.38      0.36      5232\n",
      "\n",
      "accuracy:  0.3841743119266055\n",
      "f1:  0.3841743119266055\n",
      "total f1:  [0.4341637  0.23485477 0.42378641]\n"
     ]
    }
   ],
   "source": [
    "#Define layer sizes\n",
    "D_in = X_train_tensor.shape[1]\n",
    "H1 = 128 #size of the input sample\n",
    "H2 = 64\n",
    "dropout_rate = 0.5\n",
    "H3 = 32\n",
    "D_out = 3\n",
    "\n",
    "#Define Hyperparameters\n",
    "learning_rate = 1e-4 # You can also experiment with different learning rates\n",
    "\n",
    "#Initialise model, loss, optimizer\n",
    "model = Relu_Dropout_Net(D_in, H1, H2,dropout_rate, H3, D_out)\n",
    "loss_func = nn.CrossEntropyLoss(reduction='sum')\n",
    "optimizer = torch.optim.Adam(model.parameters(), lr=learning_rate) # You can also try Adam and AdamW\n",
    "\n",
    "#Initialise dataloaders\n",
    "train_dataset = torch.utils.data.TensorDataset(X_train_tensor, y_train_tensor) #class to represent the data as list of tensors. x=input_features, y=labels\n",
    "test_dataset = torch.utils.data.TensorDataset(X_test_tensor)\n",
    "valid_dataset = torch.utils.data.TensorDataset(X_valid_tensor, y_valid_tensor)\n",
    "\n",
    "train_dataloader = torch.utils.data.DataLoader(train_dataset, batch_size=64, shuffle=True)\n",
    "test_dataloader = torch.utils.data.DataLoader(test_dataset, batch_size=64,)\n",
    "valid_dataloader = torch.utils.data.DataLoader(valid_dataset, batch_size=64, shuffle=True)\n",
    "\n",
    "print(\"Data loading complete.\")\n",
    "\n",
    "# NN training\n",
    "\n",
    "for epoch in range(16):\n",
    "    batch_losses = []\n",
    "    for x_batch, y_batch in train_dataloader:\n",
    "        y_pred = model(x_batch)\n",
    "\n",
    "        loss = loss_func(y_pred, y_batch)\n",
    "        batch_losses.append(loss.item())\n",
    "        # print('y_pred=', y_pred[0])\n",
    "        #Delete previously stored gradients\n",
    "        optimizer.zero_grad()\n",
    "        #Perform backpropagation starting from the loss calculated in this epoch\n",
    "        \n",
    "        loss.backward()\n",
    "        #Update model's weights based on the gradients calculated during backprop\n",
    "        optimizer.step()\n",
    "    \n",
    "#     print(f\"Epoch {epoch:3}: Loss = {sum(batch_losses)/len(train_dataloader):.5f}\")\n",
    "    \n",
    "    model.eval()\n",
    "    with torch.no_grad():\n",
    "        valid_batch_losses = []\n",
    "        for x_batch, y_batch in valid_dataloader:\n",
    "            y_pred_valid = model(x_batch)\n",
    "            # Compute and print/validation loss or other metrics\n",
    "            valid_loss = loss_func(y_pred_valid, y_batch)\n",
    "            valid_batch_losses.append(valid_loss.item())\n",
    "    \n",
    "    print(f'Epoch {epoch:3} \\t\\t Training Loss: {sum(batch_losses)/len(train_dataloader):.5f} \\t\\t Validation Loss: {sum(valid_batch_losses) / len(valid_dataloader):.5f}')\n",
    "\n",
    "# Generate test predictions\n",
    "model.eval()\n",
    "predictions_test = []\n",
    "\n",
    "# test results, labels for submission.csv\n",
    "with torch.no_grad():\n",
    "    for inputs in test_dataloader:\n",
    "        for tensor in inputs:\n",
    "            outputs = model(tensor)\n",
    "            _, predicted = torch.max(outputs, 1)\n",
    "\n",
    "            predictions_test.extend(predicted.tolist())\n",
    "    \n",
    "# convert 0,1,2 predictions to their original text form (POSITIVE, NEUTRAL , NEGATIVE)\n",
    "original_label_predictions_test = [label_mapping_train[pred] for pred in predictions_test]\n",
    "print(len(original_label_predictions_test))\n",
    "print(original_label_predictions_test[0])\n",
    "\n",
    "# Generate valid predictions\n",
    "predictions_valid = []\n",
    "\n",
    "val_targets = []\n",
    "model.eval()\n",
    "# valid results for evaluation\n",
    "with torch.no_grad():\n",
    "    for x_batch, y_batch in valid_dataloader:\n",
    "        outputs = model(x_batch)\n",
    "        _, predicted = torch.max(outputs, 1)\n",
    "\n",
    "        predictions_valid.extend(predicted.tolist())\n",
    "        val_targets.extend(y_batch.tolist())\n",
    "    \n",
    "# convert indexes to respective labels and predictions to respective label (POSITIVE, NEGATIVE, NEUTRAL) and feed them to the metric functions \n",
    "original_label_predictions_valid = [label_mapping_valid[pred] for pred in predictions_valid]\n",
    "val_targets_indices = [np.argmax(label) if np.sum(label) > 0 else -1 for label in val_targets]\n",
    "original_labels_valid = [label_mapping_valid[label] for label in val_targets_indices]\n",
    "\n",
    "print(\"\\n\")\n",
    "print(\"================= RELU AND DROPOUT NN SCORES (CROSS ENTROPY LOSS) =================\")\n",
    "print(classification_report(original_labels_valid,original_label_predictions_valid))\n",
    "\n",
    "print(\"accuracy: \",accuracy_score(original_labels_valid,original_label_predictions_valid))\n",
    "print(\"f1: \",f1_score(original_labels_valid,original_label_predictions_valid,average='micro'))\n",
    "print(\"total f1: \",f1_score(original_labels_valid,original_label_predictions_valid,average=None))"
   ]
  },
  {
   "cell_type": "markdown",
   "id": "20d677dc",
   "metadata": {
    "papermill": {
     "duration": 0.034569,
     "end_time": "2023-12-14T11:46:40.284606",
     "exception": false,
     "start_time": "2023-12-14T11:46:40.250037",
     "status": "completed"
    },
    "tags": []
   },
   "source": [
    "## Optuna hyperparameter tuning for NNs"
   ]
  },
  {
   "cell_type": "code",
   "execution_count": 27,
   "id": "234bcacd",
   "metadata": {
    "execution": {
     "iopub.execute_input": "2023-12-14T11:46:40.356115Z",
     "iopub.status.busy": "2023-12-14T11:46:40.355703Z",
     "iopub.status.idle": "2023-12-14T11:53:09.554745Z",
     "shell.execute_reply": "2023-12-14T11:53:09.553793Z"
    },
    "papermill": {
     "duration": 389.238373,
     "end_time": "2023-12-14T11:53:09.557618",
     "exception": false,
     "start_time": "2023-12-14T11:46:40.319245",
     "status": "completed"
    },
    "tags": []
   },
   "outputs": [
    {
     "name": "stdout",
     "output_type": "stream",
     "text": [
      "trial  0 is done.\n",
      "trial  1 is done.\n",
      "trial  2 is done.\n",
      "trial  3 is done.\n",
      "trial  4 is done.\n",
      "trial  5 is done.\n",
      "trial  6 is done.\n",
      "trial  7 is done.\n",
      "trial  8 is done.\n",
      "trial  9 is done.\n",
      "trial  10 is done.\n",
      "trial  11 is done.\n",
      "trial  12 is done.\n",
      "trial  13 is done.\n",
      "trial  14 is done.\n",
      "trial  15 is done.\n",
      "trial  16 is done.\n",
      "trial  17 is done.\n",
      "trial  18 is done.\n",
      "trial  19 is done.\n",
      "trial  20 is done.\n",
      "trial  21 is done.\n",
      "trial  22 is done.\n",
      "trial  23 is done.\n",
      "trial  24 is done.\n",
      "trial  25 is done.\n",
      "trial  26 is done.\n",
      "trial  27 is done.\n",
      "trial  28 is done.\n",
      "trial  29 is done.\n",
      "trial  30 is done.\n",
      "trial  31 is done.\n",
      "trial  32 is done.\n",
      "trial  33 is done.\n",
      "trial  34 is done.\n",
      "trial  35 is done.\n",
      "trial  36 is done.\n",
      "trial  37 is done.\n",
      "trial  38 is done.\n",
      "trial  39 is done.\n",
      "trial  40 is done.\n",
      "trial  41 is done.\n",
      "trial  42 is done.\n",
      "trial  43 is done.\n",
      "trial  44 is done.\n",
      "trial  45 is done.\n",
      "trial  46 is done.\n",
      "trial  47 is done.\n",
      "trial  48 is done.\n",
      "trial  49 is done.\n",
      "numbers of the finished trials: 50\n",
      "the best params: {'optimizer_name': 'AdamW', 'lr': 0.0007014066391438876, 'dropout_rate': 0.021915422252913763}\n",
      "the best value: 0.21937608315786558\n"
     ]
    }
   ],
   "source": [
    "def suggest_hyperparameters(trial): #function to include the suggested hyperparameters\n",
    "    # Experimenting with different optimizers\n",
    "    optimizer_name = trial.suggest_categorical(\"optimizer_name\", [\"Adam\", \"AdamW\"])\n",
    "    return optimizer_name\n",
    "\n",
    "#Optuna sample\n",
    "\n",
    "c = 0\n",
    "def objective(trial):\n",
    "    optimizer_name = suggest_hyperparameters(trial)\n",
    "    # I'm gonna use the ReLU / softmax NN to see the results\n",
    "    D_in = X_train_tensor.shape[1]\n",
    "    H1 = 128 #size of the input sample\n",
    "    H2 = 64\n",
    "\n",
    "#     dropout_rate = 0.5\n",
    "    H3 = 32\n",
    "    D_out = 3\n",
    "    \n",
    "    #Define Hyperparameters\n",
    "#     learning_rate = 1e-3 # You can also experiment with different learning rates\n",
    "    learning_rate = trial.suggest_float(\"lr\", 1e-5, 1e-1, log=True) # experimenting with different learning rates\n",
    "    dropout_rate = trial.suggest_float(\"dropout_rate\", 0.0 , 0.5) # experimenting with different dropout rates\n",
    "\n",
    "    #Initialise model, loss, optimizer\n",
    "    model = Softmax_Net(D_in, H1, H2,dropout_rate, H3, D_out)\n",
    "    loss_func = nn.MSELoss()\n",
    "    if optimizer_name == \"Adam\":\n",
    "        optimizer = torch.optim.Adam(model.parameters(), lr=learning_rate)\n",
    "    elif optimizer_name == \"AdamW\":\n",
    "        optimizer = torch.optim.AdamW(model.parameters(), lr=learning_rate)\n",
    "    elif optimizer_name == \"SGD\":\n",
    "        optimizer = torch.optim.SGD(model.parameters(), lr=learning_rate) # You can also try Adam and AdamW\n",
    "\n",
    "    #Initialise dataloader with valid_set\n",
    "    dataset = torch.utils.data.TensorDataset(X_train_tensor, y_train_tensor) #class to represent the data as list of tensors. x=input_features, y=labels\n",
    "    dataloader = torch.utils.data.DataLoader(dataset, batch_size=64, shuffle=True)\n",
    "    for epoch in range(5):\n",
    "        batch_losses = []\n",
    "\n",
    "        for x_batch, y_batch in dataloader:\n",
    "            y_pred = model(x_batch)\n",
    "\n",
    "            loss = loss_func(y_pred, y_batch)\n",
    "            batch_losses.append(loss.item())\n",
    "            # print('y_pred=', y_pred[0])\n",
    "            #Delete previously stored gradients\n",
    "            optimizer.zero_grad()\n",
    "            #Perform backpropagation starting from the loss calculated in this epoch\n",
    "            loss.backward()\n",
    "            #Update model's weights based on the gradients calculated during backprop\n",
    "            optimizer.step()\n",
    "\n",
    "#         print(f\"Epoch {epoch:3}: Loss = {sum(batch_losses)/len(dataloader):.5f}\")\n",
    "        epoch_loss = sum(batch_losses)/len(dataloader)\n",
    "    global c\n",
    "    print('trial ' , c , 'is done.')\n",
    "    c += 1\n",
    "    return epoch_loss\n",
    "\n",
    "optuna.logging.set_verbosity(optuna.logging.WARNING) # i do not want to see trail information\n",
    "optuna_sample = optuna.create_study(direction = 'minimize' , study_name = 'lr-minim-sample')\n",
    "optuna_sample.optimize(objective, n_trials = 50) #the first parameter is the function that we want to optimise\n",
    "print('numbers of the finished trials:' , len(optuna_sample.trials))\n",
    "print('the best params:' , optuna_sample.best_trial.params)\n",
    "print('the best value:' , optuna_sample.best_value)\n"
   ]
  },
  {
   "cell_type": "code",
   "execution_count": 28,
   "id": "b13eb4aa",
   "metadata": {
    "execution": {
     "iopub.execute_input": "2023-12-14T11:53:09.639207Z",
     "iopub.status.busy": "2023-12-14T11:53:09.638735Z",
     "iopub.status.idle": "2023-12-14T11:53:33.823755Z",
     "shell.execute_reply": "2023-12-14T11:53:33.822523Z"
    },
    "papermill": {
     "duration": 24.22882,
     "end_time": "2023-12-14T11:53:33.826427",
     "exception": false,
     "start_time": "2023-12-14T11:53:09.597607",
     "status": "completed"
    },
    "tags": []
   },
   "outputs": [
    {
     "name": "stdout",
     "output_type": "stream",
     "text": [
      "Data loading complete.\n",
      "Epoch   0 \t\t Training Loss: 0.22184 \t\t Validation Loss: 0.22110\n",
      "Epoch   1 \t\t Training Loss: 0.22076 \t\t Validation Loss: 0.22022\n",
      "Epoch   2 \t\t Training Loss: 0.22050 \t\t Validation Loss: 0.22012\n",
      "Epoch   3 \t\t Training Loss: 0.22025 \t\t Validation Loss: 0.22004\n",
      "Epoch   4 \t\t Training Loss: 0.21998 \t\t Validation Loss: 0.21919\n",
      "Epoch   5 \t\t Training Loss: 0.21979 \t\t Validation Loss: 0.21909\n",
      "Epoch   6 \t\t Training Loss: 0.21957 \t\t Validation Loss: 0.21877\n",
      "Epoch   7 \t\t Training Loss: 0.21928 \t\t Validation Loss: 0.21846\n",
      "Epoch   8 \t\t Training Loss: 0.21918 \t\t Validation Loss: 0.21838\n",
      "Epoch   9 \t\t Training Loss: 0.21886 \t\t Validation Loss: 0.21783\n",
      "Epoch  10 \t\t Training Loss: 0.21867 \t\t Validation Loss: 0.21816\n",
      "Epoch  11 \t\t Training Loss: 0.21855 \t\t Validation Loss: 0.21811\n",
      "Epoch  12 \t\t Training Loss: 0.21843 \t\t Validation Loss: 0.21813\n",
      "Epoch  13 \t\t Training Loss: 0.21834 \t\t Validation Loss: 0.21797\n",
      "Epoch  14 \t\t Training Loss: 0.21828 \t\t Validation Loss: 0.21755\n",
      "Epoch  15 \t\t Training Loss: 0.21826 \t\t Validation Loss: 0.21815\n",
      "\n",
      "\n",
      "================= BEST HYPERPARAMETER SOFTMAX NN SCORES =================\n",
      "              precision    recall  f1-score   support\n",
      "\n",
      "    NEGATIVE       0.38      0.62      0.47      1744\n",
      "     NEUTRAL       0.41      0.23      0.30      1744\n",
      "    POSITIVE       0.41      0.33      0.37      1744\n",
      "\n",
      "    accuracy                           0.39      5232\n",
      "   macro avg       0.40      0.39      0.38      5232\n",
      "weighted avg       0.40      0.39      0.38      5232\n",
      "\n",
      "accuracy:  0.3927752293577982\n",
      "f1:  0.39277522935779824\n",
      "total f1:  [0.46848419 0.29735683 0.36513471]\n"
     ]
    }
   ],
   "source": [
    "#Define layer sizes\n",
    "D_in = X_train_tensor.shape[1]\n",
    "H1 = 64 #size of the input sample\n",
    "H2 = 32\n",
    "dropout_rate = 0.3 # best dropout\n",
    "# dropout_rate = 0.00442345304572124 \n",
    "H3 = 16\n",
    "D_out = 3\n",
    "\n",
    "\n",
    "#Define Hyperparameters\n",
    "# learning_rate = 0.0008299314245515878 \n",
    "learning_rate = 1e-3 # best LR value\n",
    "\n",
    "\n",
    "#Initialise model, loss, optimizer\n",
    "model = Softmax_Net(D_in, H1, H2,dropout_rate, H3, D_out)\n",
    "loss_func = nn.MSELoss(reduction='mean')\n",
    "optimizer = torch.optim.Adam(model.parameters(), lr=learning_rate) # For optimizers Adam is the best\n",
    "\n",
    "#Initialise dataloaders\n",
    "train_dataset = torch.utils.data.TensorDataset(X_train_tensor, y_train_tensor) #class to represent the data as list of tensors. x=input_features, y=labels\n",
    "test_dataset = torch.utils.data.TensorDataset(X_test_tensor)\n",
    "valid_dataset = torch.utils.data.TensorDataset(X_valid_tensor, y_valid_tensor)\n",
    "\n",
    "train_dataloader = torch.utils.data.DataLoader(train_dataset, batch_size=64, shuffle=True)\n",
    "test_dataloader = torch.utils.data.DataLoader(test_dataset, batch_size=64)\n",
    "valid_dataloader = torch.utils.data.DataLoader(valid_dataset, batch_size=64, shuffle=True)\n",
    "\n",
    "print(\"Data loading complete.\")\n",
    "\n",
    "# NN training\n",
    "\n",
    "for epoch in range(16):\n",
    "    batch_losses = []\n",
    "    for x_batch, y_batch in train_dataloader:\n",
    "        y_pred = model(x_batch)\n",
    "\n",
    "        loss = loss_func(y_pred, y_batch)\n",
    "        batch_losses.append(loss.item())\n",
    "        # print('y_pred=', y_pred[0])\n",
    "        #Delete previously stored gradients\n",
    "        optimizer.zero_grad()\n",
    "        #Perform backpropagation starting from the loss calculated in this epoch\n",
    "        \n",
    "        loss.backward()\n",
    "        #Update model's weights based on the gradients calculated during backprop\n",
    "        optimizer.step()\n",
    "    \n",
    "#     print(f\"Epoch {epoch:3}: Loss = {sum(batch_losses)/len(train_dataloader):.5f}\")\n",
    "    \n",
    "    model.eval()\n",
    "    with torch.no_grad():\n",
    "        valid_batch_losses = []\n",
    "        for x_batch, y_batch in valid_dataloader:\n",
    "            y_pred_valid = model(x_batch)\n",
    "            # Compute and print/validation loss or other metrics\n",
    "            valid_loss = loss_func(y_pred_valid, y_batch)\n",
    "            valid_batch_losses.append(valid_loss.item())\n",
    "    \n",
    "    # Check validation loss to make sure we don't get overfitting\n",
    "    print(f'Epoch {epoch:3} \\t\\t Training Loss: {sum(batch_losses)/len(train_dataloader):.5f} \\t\\t Validation Loss: {sum(valid_batch_losses) / len(valid_dataloader):.5f}')\n",
    "    \n",
    "\n",
    "\n",
    "    \n",
    "# Generate test predictions and evaluate test set\n",
    "model.eval()\n",
    "predictions_test = []\n",
    "\n",
    "# test results, labels for submission.csv\n",
    "with torch.no_grad():\n",
    "    for inputs in test_dataloader:\n",
    "        for tensor in inputs:\n",
    "            outputs = model(tensor)\n",
    "            _, predicted = torch.max(outputs, 1)\n",
    "\n",
    "            predictions_test.extend(predicted.tolist())\n",
    "    \n",
    "# convert 0,1,2 predictions to their original text form (POSITIVE, NEUTRAL , NEGATIVE)\n",
    "# these will also be put in the submission.csv\n",
    "original_label_predictions_test_best_hyper = [label_mapping_train[pred] for pred in predictions_test]\n",
    "\n",
    "# Generate valid predictions\n",
    "predictions_valid = []\n",
    "\n",
    "val_targets = []\n",
    "model.eval()\n",
    "# valid results for evaluation\n",
    "with torch.no_grad():\n",
    "    for x_batch, y_batch in valid_dataloader:\n",
    "        outputs = model(x_batch)\n",
    "        _, predicted = torch.max(outputs, 1)\n",
    "\n",
    "        predictions_valid.extend(predicted.tolist())\n",
    "        val_targets.extend(y_batch.tolist())\n",
    "    \n",
    "# convert indexes to respective labels and predictions to respective label (POSITIVE, NEGATIVE, NEUTRAL) and feed them to the metric functions \n",
    "original_label_predictions_valid = [label_mapping_valid[pred] for pred in predictions_valid]\n",
    "val_targets_indices = [np.argmax(label) if np.sum(label) > 0 else -1 for label in val_targets]\n",
    "original_labels_valid = [label_mapping_valid[label] for label in val_targets_indices]\n",
    "\n",
    "print(\"\\n\")\n",
    "print(\"================= BEST HYPERPARAMETER SOFTMAX NN SCORES =================\")\n",
    "print(classification_report(original_labels_valid,original_label_predictions_valid))\n",
    "\n",
    "print(\"accuracy: \",accuracy_score(original_labels_valid,original_label_predictions_valid))\n",
    "print(\"f1: \",f1_score(original_labels_valid,original_label_predictions_valid,average='micro'))\n",
    "print(\"total f1: \",f1_score(original_labels_valid,original_label_predictions_valid,average=None))"
   ]
  },
  {
   "cell_type": "code",
   "execution_count": 29,
   "id": "12d3daa0",
   "metadata": {
    "execution": {
     "iopub.execute_input": "2023-12-14T11:53:33.909686Z",
     "iopub.status.busy": "2023-12-14T11:53:33.909293Z",
     "iopub.status.idle": "2023-12-14T11:53:33.971621Z",
     "shell.execute_reply": "2023-12-14T11:53:33.970249Z"
    },
    "papermill": {
     "duration": 0.10718,
     "end_time": "2023-12-14T11:53:33.974258",
     "exception": false,
     "start_time": "2023-12-14T11:53:33.867078",
     "status": "completed"
    },
    "tags": []
   },
   "outputs": [
    {
     "name": "stdout",
     "output_type": "stream",
     "text": [
      "[[961 329 454]\n",
      " [946 334 464]\n",
      " [934 317 493]]\n"
     ]
    }
   ],
   "source": [
    "conf_matrix = confusion_matrix(y_valid,original_label_predictions_valid)\n",
    "print(confusion_matrix(y_valid,original_label_predictions_valid))"
   ]
  },
  {
   "cell_type": "code",
   "execution_count": 30,
   "id": "22135123",
   "metadata": {
    "execution": {
     "iopub.execute_input": "2023-12-14T11:53:34.060638Z",
     "iopub.status.busy": "2023-12-14T11:53:34.060194Z",
     "iopub.status.idle": "2023-12-14T11:53:34.444070Z",
     "shell.execute_reply": "2023-12-14T11:53:34.443121Z"
    },
    "papermill": {
     "duration": 0.43045,
     "end_time": "2023-12-14T11:53:34.446291",
     "exception": false,
     "start_time": "2023-12-14T11:53:34.015841",
     "status": "completed"
    },
    "tags": []
   },
   "outputs": [
    {
     "data": {
      "image/png": "[encoded data removed]",
      "text/plain": [
       "<Figure size 640x480 with 1 Axes>"
      ]
     },
     "metadata": {},
     "output_type": "display_data"
    }
   ],
   "source": [
    "# ROC Curve\n",
    "FP = conf_matrix.sum(axis=0) - np.diag(conf_matrix) #false positive\n",
    "FN = conf_matrix.sum(axis=1) - np.diag(conf_matrix) # false negative\n",
    "TP = np.diag(conf_matrix) # true positive\n",
    "TN = conf_matrix.sum() - (FP + FN + TP) # True negative\n",
    "\n",
    "TPR = TP/(TP+FN) # true positive rate\n",
    "FPR = FP/(FP+TN) # false positive rate\n",
    "\n",
    "plt.plot(FPR,TPR,'b')\n",
    "plt.plot([0, 1], [0, 1],'r--')\n",
    "plt.xlim([0, 1])\n",
    "plt.ylim([0, 1])\n",
    "plt.xlabel('True Positive Rate')\n",
    "plt.ylabel('False Positive Rate')\n",
    "plt.title('ROC Curve')\n",
    "plt.show()"
   ]
  },
  {
   "cell_type": "code",
   "execution_count": 31,
   "id": "6bc17000",
   "metadata": {
    "execution": {
     "iopub.execute_input": "2023-12-14T11:53:34.545668Z",
     "iopub.status.busy": "2023-12-14T11:53:34.545277Z",
     "iopub.status.idle": "2023-12-14T11:54:19.639837Z",
     "shell.execute_reply": "2023-12-14T11:54:19.638748Z"
    },
    "papermill": {
     "duration": 45.195802,
     "end_time": "2023-12-14T11:54:19.684976",
     "exception": false,
     "start_time": "2023-12-14T11:53:34.489174",
     "status": "completed"
    },
    "tags": []
   },
   "outputs": [
    {
     "data": {
      "image/png": "[encoded data removed]",
      "text/plain": [
       "<Figure size 640x480 with 1 Axes>"
      ]
     },
     "metadata": {},
     "output_type": "display_data"
    }
   ],
   "source": [
    "# Learning curve for ReLU / Dropout NN\n",
    "train_f1_scores = []\n",
    "val_f1_scores = []\n",
    "\n",
    "for epoch in range(16):\n",
    "    batch_losses = []\n",
    "    for x_batch, y_batch in train_dataloader:\n",
    "        y_pred = model(x_batch)\n",
    "\n",
    "        loss = loss_func(y_pred, y_batch)\n",
    "        batch_losses.append(loss.item())\n",
    "        # print('y_pred=', y_pred[0])\n",
    "        #Delete previously stored gradients\n",
    "        optimizer.zero_grad()\n",
    "        #Perform backpropagation starting from the loss calculated in this epoch\n",
    "        \n",
    "        loss.backward()\n",
    "        #Update model's weights based on the gradients calculated during backprop\n",
    "        optimizer.step()\n",
    "    \n",
    "#     print(f\"Epoch {epoch:3}: Loss = {sum(batch_losses)/len(train_dataloader):.5f}\")\n",
    "\n",
    "    # Evaluation on training set\n",
    "    model.eval()\n",
    "    train_predictions = []\n",
    "    train_targets = []\n",
    "    with torch.no_grad():\n",
    "        for inputs, labels in train_dataloader:\n",
    "            outputs = model(inputs)\n",
    "            _, predicted = torch.max(outputs, 1)\n",
    "            \n",
    "            # Append predictions and targets for f1_score calculation\n",
    "            train_predictions.extend(predicted.cpu().numpy())\n",
    "            train_targets.extend(labels.cpu().numpy())\n",
    "            \n",
    "    train_targets_indices = [np.argmax(label) if np.sum(label) > 0 else -1 for label in train_targets]\n",
    "    train_f1 = f1_score(train_targets_indices, train_predictions, average='macro')\n",
    "    train_f1_scores.append(train_f1)\n",
    "    \n",
    "    # Evaluation on valid set\n",
    "    model.eval()\n",
    "    val_predictions = []\n",
    "    val_targets = []\n",
    "    with torch.no_grad():\n",
    "        for inputs, labels in valid_dataloader:\n",
    "            outputs = model(inputs)\n",
    "            _, predicted = torch.max(outputs, 1)\n",
    "            \n",
    "            # Append predictions and targets for f1_score calculation\n",
    "            val_predictions.extend(predicted.cpu().numpy())\n",
    "            val_targets.extend(labels.cpu().numpy())\n",
    "            \n",
    "    val_targets_indices = [np.argmax(label) if np.sum(label) > 0 else -1 for label in val_targets]\n",
    "    val_f1 = f1_score(val_targets_indices, val_predictions, average='macro')\n",
    "    val_f1_scores.append(val_f1)\n",
    "    \n",
    "\n",
    "# Plot the learning curve\n",
    "plt.plot(train_f1_scores, label='Train F1 Score')\n",
    "plt.plot(val_f1_scores, label='Validation F1 Score')\n",
    "plt.xlabel('Epoch')\n",
    "plt.ylabel('F1 Score')\n",
    "plt.legend()\n",
    "plt.show()"
   ]
  },
  {
   "cell_type": "markdown",
   "id": "ab07f8ac",
   "metadata": {
    "papermill": {
     "duration": 0.042232,
     "end_time": "2023-12-14T11:54:19.770312",
     "exception": false,
     "start_time": "2023-12-14T11:54:19.728080",
     "status": "completed"
    },
    "tags": []
   },
   "source": [
    "## Output file"
   ]
  },
  {
   "cell_type": "code",
   "execution_count": 32,
   "id": "59c1464a",
   "metadata": {
    "execution": {
     "iopub.execute_input": "2023-12-14T11:54:19.861167Z",
     "iopub.status.busy": "2023-12-14T11:54:19.860720Z",
     "iopub.status.idle": "2023-12-14T11:54:19.884243Z",
     "shell.execute_reply": "2023-12-14T11:54:19.882868Z"
    },
    "papermill": {
     "duration": 0.073716,
     "end_time": "2023-12-14T11:54:19.886922",
     "exception": false,
     "start_time": "2023-12-14T11:54:19.813206",
     "status": "completed"
    },
    "tags": []
   },
   "outputs": [
    {
     "name": "stdout",
     "output_type": "stream",
     "text": [
      "CSV file writing complete.\n"
     ]
    }
   ],
   "source": [
    "import csv\n",
    "\n",
    "with open('submission.csv', 'w', newline='') as file:\n",
    "    writer = csv.writer(file)\n",
    "    \n",
    "    writer.writerow([\"Id\",\"Predicted\"])\n",
    "    for i in range(0,10470):\n",
    "        writer.writerow([i+1,original_label_predictions_test_best_hyper[i]])  \n",
    "    \n",
    "    \n",
    "print(\"CSV file writing complete.\")"
   ]
  }
 ],
 "metadata": {
  "kaggle": {
   "accelerator": "none",
   "dataSources": [
    {
     "databundleVersionId": 7104041,
     "sourceId": 64789,
     "sourceType": "competition"
    }
   ],
   "dockerImageVersionId": 30615,
   "isGpuEnabled": false,
   "isInternetEnabled": true,
   "language": "python",
   "sourceType": "notebook"
  },
  "kernelspec": {
   "display_name": "Python 3",
   "language": "python",
   "name": "python3"
  },
  "language_info": {
   "codemirror_mode": {
    "name": "ipython",
    "version": 3
   },
   "file_extension": ".py",
   "mimetype": "text/x-python",
   "name": "python",
   "nbconvert_exporter": "python",
   "pygments_lexer": "ipython3",
   "version": "3.10.12"
  },
  "papermill": {
   "default_parameters": {},
   "duration": 855.882536,
   "end_time": "2023-12-14T11:54:22.059049",
   "environment_variables": {},
   "exception": null,
   "input_path": "__notebook__.ipynb",
   "output_path": "__notebook__.ipynb",
   "parameters": {},
   "start_time": "2023-12-14T11:40:06.176513",
   "version": "2.4.0"
  }
 },
 "nbformat": 4,
 "nbformat_minor": 5
}
