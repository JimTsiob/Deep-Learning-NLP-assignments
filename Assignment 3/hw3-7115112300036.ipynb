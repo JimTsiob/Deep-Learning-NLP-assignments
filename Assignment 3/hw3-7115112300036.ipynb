{
 "cells": [
  {
   "cell_type": "code",
   "execution_count": 1,
   "id": "33bcc853",
   "metadata": {
    "_cell_guid": "b1076dfc-b9ad-4769-8c92-a6c4dae69d19",
    "_uuid": "8f2839f25d086af736a60e9eeb907d3b93b6e0e5",
    "execution": {
     "iopub.execute_input": "2024-01-25T17:27:16.979851Z",
     "iopub.status.busy": "2024-01-25T17:27:16.979382Z",
     "iopub.status.idle": "2024-01-25T17:27:17.969626Z",
     "shell.execute_reply": "2024-01-25T17:27:17.967781Z"
    },
    "papermill": {
     "duration": 1.01099,
     "end_time": "2024-01-25T17:27:17.972648",
     "exception": false,
     "start_time": "2024-01-25T17:27:16.961658",
     "status": "completed"
    },
    "tags": []
   },
   "outputs": [
    {
     "name": "stdout",
     "output_type": "stream",
     "text": [
      "/kaggle/input/ys19-2023-assignment-3/sample_submission.csv\n",
      "/kaggle/input/ys19-2023-assignment-3/test_set.csv\n",
      "/kaggle/input/ys19-2023-assignment-3/valid_set.csv\n",
      "/kaggle/input/ys19-2023-assignment-3/train_set.csv\n"
     ]
    }
   ],
   "source": [
    "# This Python 3 environment comes with many helpful analytics libraries installed\n",
    "# It is defined by the kaggle/python Docker image: https://github.com/kaggle/docker-python\n",
    "# For example, here's several helpful packages to load\n",
    "\n",
    "import numpy as np # linear algebra\n",
    "import pandas as pd # data processing, CSV file I/O (e.g. pd.read_csv)\n",
    "\n",
    "# Input data files are available in the read-only \"../input/\" directory\n",
    "# For example, running this (by clicking run or pressing Shift+Enter) will list all files under the input directory\n",
    "\n",
    "import os\n",
    "for dirname, _, filenames in os.walk('/kaggle/input'):\n",
    "    for filename in filenames:\n",
    "        print(os.path.join(dirname, filename))\n",
    "\n",
    "# You can write up to 20GB to the current directory (/kaggle/working/) that gets preserved as output when you create a version using \"Save & Run All\" \n",
    "# You can also write temporary files to /kaggle/temp/, but they won't be saved outside of the current session"
   ]
  },
  {
   "cell_type": "code",
   "execution_count": 2,
   "id": "73ffc67d",
   "metadata": {
    "execution": {
     "iopub.execute_input": "2024-01-25T17:27:18.006641Z",
     "iopub.status.busy": "2024-01-25T17:27:18.005640Z",
     "iopub.status.idle": "2024-01-25T17:28:46.180951Z",
     "shell.execute_reply": "2024-01-25T17:28:46.178653Z"
    },
    "papermill": {
     "duration": 88.19597,
     "end_time": "2024-01-25T17:28:46.183939",
     "exception": false,
     "start_time": "2024-01-25T17:27:17.987969",
     "status": "completed"
    },
    "tags": []
   },
   "outputs": [
    {
     "name": "stdout",
     "output_type": "stream",
     "text": [
      "Collecting el-core-news-md==3.7.0\r\n",
      "  Downloading https://github.com/explosion/spacy-models/releases/download/el_core_news_md-3.7.0/el_core_news_md-3.7.0-py3-none-any.whl (42.9 MB)\r\n",
      "\u001b[2K     \u001b[90m━━━━━━━━━━━━━━━━━━━━━━━━━━━━━━━━━━━━━━━━\u001b[0m \u001b[32m42.9/42.9 MB\u001b[0m \u001b[31m22.1 MB/s\u001b[0m eta \u001b[36m0:00:00\u001b[0m\r\n",
      "\u001b[?25hRequirement already satisfied: spacy<3.8.0,>=3.7.0 in /opt/conda/lib/python3.10/site-packages (from el-core-news-md==3.7.0) (3.7.2)\r\n",
      "Requirement already satisfied: spacy-legacy<3.1.0,>=3.0.11 in /opt/conda/lib/python3.10/site-packages (from spacy<3.8.0,>=3.7.0->el-core-news-md==3.7.0) (3.0.12)\r\n",
      "Requirement already satisfied: spacy-loggers<2.0.0,>=1.0.0 in /opt/conda/lib/python3.10/site-packages (from spacy<3.8.0,>=3.7.0->el-core-news-md==3.7.0) (1.0.5)\r\n",
      "Requirement already satisfied: murmurhash<1.1.0,>=0.28.0 in /opt/conda/lib/python3.10/site-packages (from spacy<3.8.0,>=3.7.0->el-core-news-md==3.7.0) (1.0.10)\r\n",
      "Requirement already satisfied: cymem<2.1.0,>=2.0.2 in /opt/conda/lib/python3.10/site-packages (from spacy<3.8.0,>=3.7.0->el-core-news-md==3.7.0) (2.0.8)\r\n",
      "Requirement already satisfied: preshed<3.1.0,>=3.0.2 in /opt/conda/lib/python3.10/site-packages (from spacy<3.8.0,>=3.7.0->el-core-news-md==3.7.0) (3.0.9)\r\n",
      "Requirement already satisfied: thinc<8.3.0,>=8.1.8 in /opt/conda/lib/python3.10/site-packages (from spacy<3.8.0,>=3.7.0->el-core-news-md==3.7.0) (8.2.1)\r\n",
      "Requirement already satisfied: wasabi<1.2.0,>=0.9.1 in /opt/conda/lib/python3.10/site-packages (from spacy<3.8.0,>=3.7.0->el-core-news-md==3.7.0) (1.1.2)\r\n",
      "Requirement already satisfied: srsly<3.0.0,>=2.4.3 in /opt/conda/lib/python3.10/site-packages (from spacy<3.8.0,>=3.7.0->el-core-news-md==3.7.0) (2.4.8)\r\n",
      "Requirement already satisfied: catalogue<2.1.0,>=2.0.6 in /opt/conda/lib/python3.10/site-packages (from spacy<3.8.0,>=3.7.0->el-core-news-md==3.7.0) (2.0.10)\r\n",
      "Requirement already satisfied: weasel<0.4.0,>=0.1.0 in /opt/conda/lib/python3.10/site-packages (from spacy<3.8.0,>=3.7.0->el-core-news-md==3.7.0) (0.3.4)\r\n",
      "Requirement already satisfied: typer<0.10.0,>=0.3.0 in /opt/conda/lib/python3.10/site-packages (from spacy<3.8.0,>=3.7.0->el-core-news-md==3.7.0) (0.9.0)\r\n",
      "Requirement already satisfied: smart-open<7.0.0,>=5.2.1 in /opt/conda/lib/python3.10/site-packages (from spacy<3.8.0,>=3.7.0->el-core-news-md==3.7.0) (6.3.0)\r\n",
      "Requirement already satisfied: tqdm<5.0.0,>=4.38.0 in /opt/conda/lib/python3.10/site-packages (from spacy<3.8.0,>=3.7.0->el-core-news-md==3.7.0) (4.66.1)\r\n",
      "Requirement already satisfied: requests<3.0.0,>=2.13.0 in /opt/conda/lib/python3.10/site-packages (from spacy<3.8.0,>=3.7.0->el-core-news-md==3.7.0) (2.31.0)\r\n",
      "Requirement already satisfied: pydantic!=1.8,!=1.8.1,<3.0.0,>=1.7.4 in /opt/conda/lib/python3.10/site-packages (from spacy<3.8.0,>=3.7.0->el-core-news-md==3.7.0) (1.10.12)\r\n",
      "Requirement already satisfied: jinja2 in /opt/conda/lib/python3.10/site-packages (from spacy<3.8.0,>=3.7.0->el-core-news-md==3.7.0) (3.1.2)\r\n",
      "Requirement already satisfied: setuptools in /opt/conda/lib/python3.10/site-packages (from spacy<3.8.0,>=3.7.0->el-core-news-md==3.7.0) (68.1.2)\r\n",
      "Requirement already satisfied: packaging>=20.0 in /opt/conda/lib/python3.10/site-packages (from spacy<3.8.0,>=3.7.0->el-core-news-md==3.7.0) (21.3)\r\n",
      "Requirement already satisfied: langcodes<4.0.0,>=3.2.0 in /opt/conda/lib/python3.10/site-packages (from spacy<3.8.0,>=3.7.0->el-core-news-md==3.7.0) (3.3.0)\r\n",
      "Requirement already satisfied: numpy>=1.19.0 in /opt/conda/lib/python3.10/site-packages (from spacy<3.8.0,>=3.7.0->el-core-news-md==3.7.0) (1.24.3)\r\n",
      "Requirement already satisfied: pyparsing!=3.0.5,>=2.0.2 in /opt/conda/lib/python3.10/site-packages (from packaging>=20.0->spacy<3.8.0,>=3.7.0->el-core-news-md==3.7.0) (3.0.9)\r\n",
      "Requirement already satisfied: typing-extensions>=4.2.0 in /opt/conda/lib/python3.10/site-packages (from pydantic!=1.8,!=1.8.1,<3.0.0,>=1.7.4->spacy<3.8.0,>=3.7.0->el-core-news-md==3.7.0) (4.5.0)\r\n",
      "Requirement already satisfied: charset-normalizer<4,>=2 in /opt/conda/lib/python3.10/site-packages (from requests<3.0.0,>=2.13.0->spacy<3.8.0,>=3.7.0->el-core-news-md==3.7.0) (3.2.0)\r\n",
      "Requirement already satisfied: idna<4,>=2.5 in /opt/conda/lib/python3.10/site-packages (from requests<3.0.0,>=2.13.0->spacy<3.8.0,>=3.7.0->el-core-news-md==3.7.0) (3.4)\r\n",
      "Requirement already satisfied: urllib3<3,>=1.21.1 in /opt/conda/lib/python3.10/site-packages (from requests<3.0.0,>=2.13.0->spacy<3.8.0,>=3.7.0->el-core-news-md==3.7.0) (1.26.15)\r\n",
      "Requirement already satisfied: certifi>=2017.4.17 in /opt/conda/lib/python3.10/site-packages (from requests<3.0.0,>=2.13.0->spacy<3.8.0,>=3.7.0->el-core-news-md==3.7.0) (2023.11.17)\r\n",
      "Requirement already satisfied: blis<0.8.0,>=0.7.8 in /opt/conda/lib/python3.10/site-packages (from thinc<8.3.0,>=8.1.8->spacy<3.8.0,>=3.7.0->el-core-news-md==3.7.0) (0.7.11)\r\n",
      "Requirement already satisfied: confection<1.0.0,>=0.0.1 in /opt/conda/lib/python3.10/site-packages (from thinc<8.3.0,>=8.1.8->spacy<3.8.0,>=3.7.0->el-core-news-md==3.7.0) (0.1.4)\r\n",
      "Requirement already satisfied: click<9.0.0,>=7.1.1 in /opt/conda/lib/python3.10/site-packages (from typer<0.10.0,>=0.3.0->spacy<3.8.0,>=3.7.0->el-core-news-md==3.7.0) (8.1.7)\r\n",
      "Requirement already satisfied: cloudpathlib<0.17.0,>=0.7.0 in /opt/conda/lib/python3.10/site-packages (from weasel<0.4.0,>=0.1.0->spacy<3.8.0,>=3.7.0->el-core-news-md==3.7.0) (0.16.0)\r\n",
      "Requirement already satisfied: MarkupSafe>=2.0 in /opt/conda/lib/python3.10/site-packages (from jinja2->spacy<3.8.0,>=3.7.0->el-core-news-md==3.7.0) (2.1.3)\r\n",
      "Installing collected packages: el-core-news-md\r\n",
      "Successfully installed el-core-news-md-3.7.0\r\n",
      "\u001b[38;5;2m✔ Download and installation successful\u001b[0m\r\n",
      "You can now load the package via spacy.load('el_core_news_md')\r\n",
      "Requirement already satisfied: unidecode in /opt/conda/lib/python3.10/site-packages (1.3.7)\r\n",
      "Collecting pandarallel\r\n",
      "  Downloading pandarallel-1.6.5.tar.gz (14 kB)\r\n",
      "  Preparing metadata (setup.py) ... \u001b[?25l-\b \b\\\b \bdone\r\n",
      "\u001b[?25hRequirement already satisfied: dill>=0.3.1 in /opt/conda/lib/python3.10/site-packages (from pandarallel) (0.3.7)\r\n",
      "Requirement already satisfied: pandas>=1 in /opt/conda/lib/python3.10/site-packages (from pandarallel) (2.0.3)\r\n",
      "Requirement already satisfied: psutil in /opt/conda/lib/python3.10/site-packages (from pandarallel) (5.9.3)\r\n",
      "Requirement already satisfied: python-dateutil>=2.8.2 in /opt/conda/lib/python3.10/site-packages (from pandas>=1->pandarallel) (2.8.2)\r\n",
      "Requirement already satisfied: pytz>=2020.1 in /opt/conda/lib/python3.10/site-packages (from pandas>=1->pandarallel) (2023.3)\r\n",
      "Requirement already satisfied: tzdata>=2022.1 in /opt/conda/lib/python3.10/site-packages (from pandas>=1->pandarallel) (2023.3)\r\n",
      "Requirement already satisfied: numpy>=1.21.0 in /opt/conda/lib/python3.10/site-packages (from pandas>=1->pandarallel) (1.24.3)\r\n",
      "Requirement already satisfied: six>=1.5 in /opt/conda/lib/python3.10/site-packages (from python-dateutil>=2.8.2->pandas>=1->pandarallel) (1.16.0)\r\n",
      "Building wheels for collected packages: pandarallel\r\n",
      "  Building wheel for pandarallel (setup.py) ... \u001b[?25l-\b \b\\\b \b|\b \bdone\r\n",
      "\u001b[?25h  Created wheel for pandarallel: filename=pandarallel-1.6.5-py3-none-any.whl size=16672 sha256=1c19f4311846dc2def491cbdb7ffd3ca9adb7e251924d9e3ff42cb8c0db6cfec\r\n",
      "  Stored in directory: /root/.cache/pip/wheels/50/4f/1e/34e057bb868842209f1623f195b74fd7eda229308a7352d47f\r\n",
      "Successfully built pandarallel\r\n",
      "Installing collected packages: pandarallel\r\n",
      "Successfully installed pandarallel-1.6.5\r\n",
      "Requirement already satisfied: torch in /opt/conda/lib/python3.10/site-packages (2.0.0+cpu)\r\n",
      "Requirement already satisfied: filelock in /opt/conda/lib/python3.10/site-packages (from torch) (3.12.2)\r\n",
      "Requirement already satisfied: typing-extensions in /opt/conda/lib/python3.10/site-packages (from torch) (4.5.0)\r\n",
      "Requirement already satisfied: sympy in /opt/conda/lib/python3.10/site-packages (from torch) (1.12)\r\n",
      "Requirement already satisfied: networkx in /opt/conda/lib/python3.10/site-packages (from torch) (3.1)\r\n",
      "Requirement already satisfied: jinja2 in /opt/conda/lib/python3.10/site-packages (from torch) (3.1.2)\r\n",
      "Requirement already satisfied: MarkupSafe>=2.0 in /opt/conda/lib/python3.10/site-packages (from jinja2->torch) (2.1.3)\r\n",
      "Requirement already satisfied: mpmath>=0.19 in /opt/conda/lib/python3.10/site-packages (from sympy->torch) (1.3.0)\r\n",
      "Requirement already satisfied: gensim in /opt/conda/lib/python3.10/site-packages (4.3.2)\r\n",
      "Requirement already satisfied: numpy>=1.18.5 in /opt/conda/lib/python3.10/site-packages (from gensim) (1.24.3)\r\n",
      "Requirement already satisfied: scipy>=1.7.0 in /opt/conda/lib/python3.10/site-packages (from gensim) (1.11.4)\r\n",
      "Requirement already satisfied: smart-open>=1.8.1 in /opt/conda/lib/python3.10/site-packages (from gensim) (6.3.0)\r\n",
      "\n",
      "\n",
      "INSTALLATIONS COMPLETE.\n"
     ]
    }
   ],
   "source": [
    "# spaCy for Greek language handling\n",
    "!python -m spacy download el_core_news_md\n",
    "# pandarallel for faster applying of functions to dataframes. Need for tokens, lemmas etc.\n",
    "!pip install unidecode\n",
    "!pip install pandarallel\n",
    "!pip install torch\n",
    "!pip install gensim\n",
    "\n",
    "print(\"\\n\")\n",
    "print(\"INSTALLATIONS COMPLETE.\")"
   ]
  },
  {
   "cell_type": "markdown",
   "id": "11eed5ff",
   "metadata": {
    "papermill": {
     "duration": 0.018518,
     "end_time": "2024-01-25T17:28:46.221461",
     "exception": false,
     "start_time": "2024-01-25T17:28:46.202943",
     "status": "completed"
    },
    "tags": []
   },
   "source": [
    "## Imports"
   ]
  },
  {
   "cell_type": "code",
   "execution_count": 3,
   "id": "f4793d5a",
   "metadata": {
    "execution": {
     "iopub.execute_input": "2024-01-25T17:28:46.262759Z",
     "iopub.status.busy": "2024-01-25T17:28:46.262228Z",
     "iopub.status.idle": "2024-01-25T17:29:25.012637Z",
     "shell.execute_reply": "2024-01-25T17:29:25.011129Z"
    },
    "papermill": {
     "duration": 38.794787,
     "end_time": "2024-01-25T17:29:25.035637",
     "exception": false,
     "start_time": "2024-01-25T17:28:46.240850",
     "status": "completed"
    },
    "tags": []
   },
   "outputs": [
    {
     "name": "stdout",
     "output_type": "stream",
     "text": [
      "Imports done.\n"
     ]
    }
   ],
   "source": [
    "import spacy\n",
    "from pandarallel import pandarallel\n",
    "from sklearn.linear_model import LogisticRegression\n",
    "import numpy as np # linear algebra\n",
    "import pandas as pd # data processing, CSV file I/O (e.g. pd.read_csv)\n",
    "from sklearn.metrics import f1_score\n",
    "from sklearn.model_selection import train_test_split\n",
    "from sklearn.feature_extraction.text import TfidfVectorizer\n",
    "from sklearn.feature_extraction.text import CountVectorizer\n",
    "from sklearn.linear_model import LogisticRegression\n",
    "from sklearn.metrics import confusion_matrix,classification_report,accuracy_score,roc_auc_score,roc_curve\n",
    "from matplotlib import pyplot as plt\n",
    "import seaborn as sns\n",
    "import re\n",
    "from wordcloud import WordCloud\n",
    "import matplotlib.pyplot as plt\n",
    "import unicodedata as ud\n",
    "from unidecode import unidecode\n",
    "from sklearn.model_selection import GridSearchCV\n",
    "import optuna\n",
    "from scipy.sparse import hstack\n",
    "import nltk\n",
    "import random\n",
    "from torch.nn.utils import clip_grad_norm_\n",
    "\n",
    "# HW2 new imports\n",
    "from gensim.models import Word2Vec\n",
    "import torch\n",
    "import torch.nn as nn\n",
    "import torch.nn.functional as F\n",
    "\n",
    "print('Imports done.')"
   ]
  },
  {
   "cell_type": "markdown",
   "id": "41c591cf",
   "metadata": {
    "papermill": {
     "duration": 0.02042,
     "end_time": "2024-01-25T17:29:25.076325",
     "exception": false,
     "start_time": "2024-01-25T17:29:25.055905",
     "status": "completed"
    },
    "tags": []
   },
   "source": [
    "## Data preprocessing"
   ]
  },
  {
   "cell_type": "code",
   "execution_count": 4,
   "id": "54c90965",
   "metadata": {
    "execution": {
     "iopub.execute_input": "2024-01-25T17:29:25.119377Z",
     "iopub.status.busy": "2024-01-25T17:29:25.118557Z",
     "iopub.status.idle": "2024-01-25T17:29:28.973952Z",
     "shell.execute_reply": "2024-01-25T17:29:28.972807Z"
    },
    "papermill": {
     "duration": 3.880763,
     "end_time": "2024-01-25T17:29:28.976979",
     "exception": false,
     "start_time": "2024-01-25T17:29:25.096216",
     "status": "completed"
    },
    "tags": []
   },
   "outputs": [
    {
     "data": {
      "text/html": [
       "<div>\n",
       "<style scoped>\n",
       "    .dataframe tbody tr th:only-of-type {\n",
       "        vertical-align: middle;\n",
       "    }\n",
       "\n",
       "    .dataframe tbody tr th {\n",
       "        vertical-align: top;\n",
       "    }\n",
       "\n",
       "    .dataframe thead th {\n",
       "        text-align: right;\n",
       "    }\n",
       "</style>\n",
       "<table border=\"1\" class=\"dataframe\">\n",
       "  <thead>\n",
       "    <tr style=\"text-align: right;\">\n",
       "      <th></th>\n",
       "      <th>New_ID</th>\n",
       "      <th>Text</th>\n",
       "      <th>Sentiment</th>\n",
       "      <th>Party</th>\n",
       "    </tr>\n",
       "  </thead>\n",
       "  <tbody>\n",
       "    <tr>\n",
       "      <th>0</th>\n",
       "      <td>35027</td>\n",
       "      <td>#απολυμανση_κοριοι #απεντομωση_κοριος #απολυμα...</td>\n",
       "      <td>NEUTRAL</td>\n",
       "      <td>SYRIZA</td>\n",
       "    </tr>\n",
       "    <tr>\n",
       "      <th>1</th>\n",
       "      <td>9531</td>\n",
       "      <td>Έξι νέες επιστολές για τη Μακεδονία «καίνε» τη...</td>\n",
       "      <td>NEGATIVE</td>\n",
       "      <td>ND</td>\n",
       "    </tr>\n",
       "    <tr>\n",
       "      <th>2</th>\n",
       "      <td>14146</td>\n",
       "      <td>Ισχυρό ΚΚΕ, δύναμη του λαού στη Βουλή και στου...</td>\n",
       "      <td>POSITIVE</td>\n",
       "      <td>KKE</td>\n",
       "    </tr>\n",
       "    <tr>\n",
       "      <th>3</th>\n",
       "      <td>28716</td>\n",
       "      <td>@five2nds @anthi7vas Μνημονιακότατο το #ΜεΡΑ25...</td>\n",
       "      <td>NEUTRAL</td>\n",
       "      <td>KKE</td>\n",
       "    </tr>\n",
       "    <tr>\n",
       "      <th>4</th>\n",
       "      <td>32886</td>\n",
       "      <td>@ai_katerina Αυτό που είναι συγκλονιστικό είνα...</td>\n",
       "      <td>NEUTRAL</td>\n",
       "      <td>SYRIZA</td>\n",
       "    </tr>\n",
       "  </tbody>\n",
       "</table>\n",
       "</div>"
      ],
      "text/plain": [
       "   New_ID                                               Text Sentiment   Party\n",
       "0   35027  #απολυμανση_κοριοι #απεντομωση_κοριος #απολυμα...   NEUTRAL  SYRIZA\n",
       "1    9531  Έξι νέες επιστολές για τη Μακεδονία «καίνε» τη...  NEGATIVE      ND\n",
       "2   14146  Ισχυρό ΚΚΕ, δύναμη του λαού στη Βουλή και στου...  POSITIVE     KKE\n",
       "3   28716  @five2nds @anthi7vas Μνημονιακότατο το #ΜεΡΑ25...   NEUTRAL     KKE\n",
       "4   32886  @ai_katerina Αυτό που είναι συγκλονιστικό είνα...   NEUTRAL  SYRIZA"
      ]
     },
     "execution_count": 4,
     "metadata": {},
     "output_type": "execute_result"
    }
   ],
   "source": [
    "nlp = spacy.load('el_core_news_md')\n",
    "df = pd.read_csv('/kaggle/input/ys19-2023-assignment-3/train_set.csv')\n",
    "valid_df = pd.read_csv('/kaggle/input/ys19-2023-assignment-3/valid_set.csv')\n",
    "test_df = pd.read_csv('/kaggle/input/ys19-2023-assignment-3/test_set.csv')\n",
    "\n",
    "df.head()"
   ]
  },
  {
   "cell_type": "code",
   "execution_count": 5,
   "id": "7020837b",
   "metadata": {
    "execution": {
     "iopub.execute_input": "2024-01-25T17:29:29.022658Z",
     "iopub.status.busy": "2024-01-25T17:29:29.022226Z",
     "iopub.status.idle": "2024-01-25T17:29:29.325884Z",
     "shell.execute_reply": "2024-01-25T17:29:29.324517Z"
    },
    "papermill": {
     "duration": 0.33129,
     "end_time": "2024-01-25T17:29:29.329367",
     "exception": false,
     "start_time": "2024-01-25T17:29:28.998077",
     "status": "completed"
    },
    "tags": []
   },
   "outputs": [
    {
     "data": {
      "image/png": "[encoded data removed]",
      "text/plain": [
       "<Figure size 640x480 with 1 Axes>"
      ]
     },
     "metadata": {},
     "output_type": "display_data"
    }
   ],
   "source": [
    "# Visualize our data (specifically the Sentiment column)\n",
    "# Data Distribution\n",
    "\n",
    "df.groupby('Sentiment').size().plot(kind='barh', color=sns.palettes.mpl_palette('Dark2'))\n",
    "plt.gca().spines[['top', 'right',]].set_visible(False)"
   ]
  },
  {
   "cell_type": "code",
   "execution_count": 6,
   "id": "2f472b02",
   "metadata": {
    "execution": {
     "iopub.execute_input": "2024-01-25T17:29:29.373110Z",
     "iopub.status.busy": "2024-01-25T17:29:29.372203Z",
     "iopub.status.idle": "2024-01-25T17:29:29.665305Z",
     "shell.execute_reply": "2024-01-25T17:29:29.663655Z"
    },
    "papermill": {
     "duration": 0.317966,
     "end_time": "2024-01-25T17:29:29.668377",
     "exception": false,
     "start_time": "2024-01-25T17:29:29.350411",
     "status": "completed"
    },
    "tags": []
   },
   "outputs": [
    {
     "data": {
      "text/plain": [
       "<Axes: xlabel='Sentiment', ylabel='count'>"
      ]
     },
     "execution_count": 6,
     "metadata": {},
     "output_type": "execute_result"
    },
    {
     "data": {
      "image/png": "[encoded data removed]",
      "text/plain": [
       "<Figure size 640x480 with 1 Axes>"
      ]
     },
     "metadata": {},
     "output_type": "display_data"
    }
   ],
   "source": [
    "# Countplot for column Sentiment, Sentiment values are of the same number for each sentiment\n",
    "sns.countplot(x='Sentiment',data=df)"
   ]
  },
  {
   "cell_type": "code",
   "execution_count": 7,
   "id": "28906e16",
   "metadata": {
    "execution": {
     "iopub.execute_input": "2024-01-25T17:29:29.711985Z",
     "iopub.status.busy": "2024-01-25T17:29:29.711486Z",
     "iopub.status.idle": "2024-01-25T17:29:30.018068Z",
     "shell.execute_reply": "2024-01-25T17:29:30.016581Z"
    },
    "papermill": {
     "duration": 0.331553,
     "end_time": "2024-01-25T17:29:30.020960",
     "exception": false,
     "start_time": "2024-01-25T17:29:29.689407",
     "status": "completed"
    },
    "tags": []
   },
   "outputs": [
    {
     "data": {
      "text/plain": [
       "<Axes: xlabel='Party', ylabel='count'>"
      ]
     },
     "execution_count": 7,
     "metadata": {},
     "output_type": "execute_result"
    },
    {
     "data": {
      "image/png": "[encoded data removed]",
      "text/plain": [
       "<Figure size 640x480 with 1 Axes>"
      ]
     },
     "metadata": {},
     "output_type": "display_data"
    }
   ],
   "source": [
    "# Countplot for Parties , We can see that SYRIZA is the most prevalent party in the tweets dataset\n",
    "sns.countplot(x='Party',data=df)"
   ]
  },
  {
   "cell_type": "code",
   "execution_count": 8,
   "id": "f16166b2",
   "metadata": {
    "execution": {
     "iopub.execute_input": "2024-01-25T17:29:30.074031Z",
     "iopub.status.busy": "2024-01-25T17:29:30.072888Z",
     "iopub.status.idle": "2024-01-25T17:29:30.113739Z",
     "shell.execute_reply": "2024-01-25T17:29:30.111436Z"
    },
    "papermill": {
     "duration": 0.073583,
     "end_time": "2024-01-25T17:29:30.116655",
     "exception": false,
     "start_time": "2024-01-25T17:29:30.043072",
     "status": "completed"
    },
    "tags": []
   },
   "outputs": [
    {
     "name": "stdout",
     "output_type": "stream",
     "text": [
      "Stop words created.\n"
     ]
    }
   ],
   "source": [
    "# Check for null values\n",
    "df.isnull().sum()\n",
    "\n",
    "# Create stop word list for word cloud and word frequency\n",
    "stop_words = 'amp,αδιακοπα, αι, ακομα, ακομη, ακριβως, αληθεια, αληθινα, αλλα, αλλαχου, αλλες, αλλη, αλλην, αλλης, αλλιως, αλλιωτικα, αλλο, αλλοι, αλλοιως, αλλοιωτικα, αλλον, αλλος, αλλοτε, αλλου, αλλους, αλλων, αμα, αμεσα, αμεσως, αν, ανα, αναμεσα, αναμεταξυ, ανευ, αντι, αντιπερα, αντις, ανω, ανωτερω, αξαφνα, απ, απεναντι, απο, αποψε, αρα, αραγε, αργα, αργοτερο, αριστερα, αρκετα, αρχικα, ας, αυριο, αυτα, αυτες, αυτη, αυτην, αυτης, αυτο, αυτοι, αυτον, αυτος, αυτου, αυτους, αυτων, αφοτου, αφου, βεβαια, βεβαιοτατα, γι, για, γρηγορα, γυρω, δα, δε, δεινα, δεν, δεξια, δηθεν, δηλαδη, δι, δια, διαρκως, δικα, δικο, δικοι, δικος, δικου, δικους, διολου, διπλα, διχως, εαν, εαυτο, εαυτον, εαυτου, εαυτους, εαυτων, εγκαιρα, εγκαιρως, εγω, εδω, ειδεμη, ειθε, ειμαι, ειμαστε, ειναι, εις, εισαι, εισαστε, ειστε, ειτε, ειχα, ειχαμε, ειχαν, ειχατε, ειχε, ειχες, εκαστα, εκαστες, εκαστη, εκαστην, εκαστης, εκαστο, εκαστοι, εκαστον, εκαστος, εκαστου, εκαστους, εκαστων, εκει, εκεινα, εκεινες, εκεινη, εκεινην, εκεινης, εκεινο, εκεινοι, εκεινον, εκεινος, εκεινου, εκεινους, εκεινων, εκτος, εμας, εμεις, εμενα, εμπρος, εν, ενα, εναν, ενας, ενος, εντελως, εντος, εντωμεταξυ, ενω, εξ, εξαφνα, εξης, εξισου, εξω, επανω, επειδη, επειτα, επι, επισης, επομενως, εσας, εσεις, εσενα, εστω, εσυ, ετερα, ετεραι, ετερας, ετερες, ετερη, ετερης, ετερο, ετεροι, ετερον, ετερος, ετερου, ετερους, ετερων, ετουτα, ετουτες, ετουτη, ετουτην, ετουτης, ετουτο, ετουτοι, ετουτον, ετουτος, ετουτου, ετουτους, ετουτων, ετσι, ευγε, ευθυς, ευτυχως, εφεξης, εχει, εχεις, εχετε, εχθες, εχομε, εχουμε, εχουν, εχτες, εχω, εως, η, ηδη, ημασταν, ημαστε, ημουν, ησασταν, ησαστε, ησουν, ηταν, ητανε, ητοι, ηττον, θα, ι, ιδια, ιδιαν, ιδιας, ιδιες, ιδιο, ιδιοι, ιδιον, ιδιος, ιδιου, ιδιους, ιδιων, ιδιως, ιι, ιιι, ισαμε, ισια, ισως,κ,καθε, καθεμια, καθεμιας, καθενα, καθενας, καθενος, καθετι, καθολου, καθως, και, κακα, κακως, καλα, καλως, καμια, καμιαν, καμιας, καμποσα, καμποσες, καμποση, καμποσην, καμποσης, καμποσο, καμποσοι, καμποσον, καμποσος, καμποσου, καμποσους, καμποσων, κανεις, κανεν, κανενα, κανεναν, κανενας, κανενος, καποια, καποιαν, καποιας, καποιες, καποιο, καποιοι, καποιον, καποιος, καποιου, καποιους, καποιων, καποτε, καπου, καπως, κατ ,κατα, κατι, κατιτι, κατοπιν, κατω, κιολας,κι, κλπ, κοντα, κτλ, κυριως, λιγακι, λιγο, λιγωτερο, λογω, λοιπα, λοιπον, μα, μαζι, μακαρι, μακρυα, μαλιστα, μαλλον, μας, με, μεθαυριο, μειον, μελει, μελλεται, μεμιας, μεν, μερικα, μερικες, μερικοι, μερικους, μερικων, μεσα, μετ, μετα, μεταξυ, μεχρι, μη, μηδε, μην, μηπως, μητε, μια, μιαν, μιας, μολις, μολονοτι, μοναχα, μονες, μονη, μονην, μονης, μονο, μονοι, μονομιας, μονος, μονου, μονους, μονων, μου, μπορει, μπορουν, μπραβο, μπρος, να, ναι, νωρις, ξανα, ξαφνικα, ο, οι, ολα, ολες, ολη, ολην, ολης, ολο, ολογυρα, ολοι, ολον, ολονεν, ολος, ολοτελα, ολου, ολους, ολων, ολως, ολωσδιολου, ομως, οποια, οποιαδηποτε, οποιαν, οποιανδηποτε, οποιας, οποιασδηποτε, οποιδηποτε, οποιες, οποιεσδηποτε, οποιο, οποιοδηποτε, οποιοι, οποιον, οποιονδηποτε, οποιος, οποιοσδηποτε, οποιου, οποιουδηποτε, οποιους, οποιουσδηποτε, οποιων, οποιωνδηποτε, οποτε, οποτεδηποτε, οπου, οπουδηποτε, οπως, ορισμενα, ορισμενες, ορισμενων, ορισμενως, οσα, οσαδηποτε, οσες, οσεσδηποτε, οση, οσηδηποτε, οσην, οσηνδηποτε, οσης, οσησδηποτε, οσο, οσοδηποτε, οσοι, οσοιδηποτε, οσον, οσονδηποτε, οσος, οσοσδηποτε, οσου, οσουδηποτε, οσους, οσουσδηποτε, οσων, οσωνδηποτε, οταν, οτι, οτιδηποτε, οτου, ου, ουδε, ουτε, οχι, παλι, παντοτε, παντου, παντως, παρα, περα, περι, περιπου, περισσοτερο, περσι, περυσι, πια, πιθανον, πιο, πισω, πλαι, πλεον, πλην, ποια, ποιαν, ποιας, ποιες, ποιο, ποιοι, ποιον, ποιος, ποιου, ποιους, ποιων, πολυ, ποσες, ποση, ποσην, ποσης, ποσοι, ποσος, ποσους, ποτε, που, πουθε, πουθενα, πρεπει, πριν, προ, προκειμενου, προκειται, προπερσι, προς, προτου, προχθες, προχτες, πρωτυτερα, πως, σαν, σας, σε, σεις, σημερα, σιγα, σου, στα, στη, στην, στης, στις, στο, στον, στου, στους, στων, συγχρονως, συν, συναμα, συνεπως, συνηθως, συχνα, συχνας, συχνες, συχνη, συχνην, συχνης, συχνο, συχνοι, συχνον, συχνος, συχνου, συχνου, συχνους, συχνων, συχνως, σχεδον, σωστα, τα, ταδε, ταυτα, ταυτες, ταυτη, ταυτην, ταυτης, ταυτο,ταυτον, ταυτος, ταυτου, ταυτων, ταχα, ταχατε, τελικα, τελικως, τες, τετοια, τετοιαν, τετοιας, τετοιες, τετοιο, τετοιοι, τετοιον, τετοιος, τετοιου, τετοιους, τετοιων, τη, την, της, τι, τιποτα, τιποτε, τις, το, τοι, τον, τος, τοσα, τοσες, τοση, τοσην, τοσης, τοσο, τοσοι, τοσον, τοσος, τοσου, τοσους, τοσων, τοτε, του, τουλαχιστο, τουλαχιστον, τους, τουτα, τουτες, τουτη, τουτην, τουτης, τουτο, τουτοι, τουτοις, τουτον, τουτος, τουτου, τουτους, τουτων, τυχον, των, τωρα, υπ, υπερ, υπο, υποψη, υποψιν, υστερα, φετος, χαμηλα, χθες, χτες, χωρις, χωριστα, ψηλα, ω, ωραια, ως, ωσαν, ωσοτου, ωσπου, ωστε, ωστοσο, ωχ'\n",
    "\n",
    "\n",
    "stop_words_separated = stop_words.split(\",\")\n",
    "stop_words_separated = [w.strip() for w in stop_words_separated] # remove whitespaces\n",
    "\n",
    "# remove diacritics\n",
    "d = {ord('\\N{COMBINING ACUTE ACCENT}'):None}\n",
    "\n",
    "for word in stop_words_separated:\n",
    "    word = ud.normalize('NFD',word).translate(d)\n",
    "\n",
    "print('Stop words created.')"
   ]
  },
  {
   "cell_type": "code",
   "execution_count": 9,
   "id": "99eacdab",
   "metadata": {
    "execution": {
     "iopub.execute_input": "2024-01-25T17:29:30.248231Z",
     "iopub.status.busy": "2024-01-25T17:29:30.247690Z",
     "iopub.status.idle": "2024-01-25T17:31:34.957845Z",
     "shell.execute_reply": "2024-01-25T17:31:34.956616Z"
    },
    "papermill": {
     "duration": 124.838592,
     "end_time": "2024-01-25T17:31:34.983143",
     "exception": false,
     "start_time": "2024-01-25T17:29:30.144551",
     "status": "completed"
    },
    "tags": []
   },
   "outputs": [
    {
     "name": "stdout",
     "output_type": "stream",
     "text": [
      "0        απολυμανσηκοριοι απεντομωσηκοριος απολυμανσεις...\n",
      "1        εξι νεες επιστολες μακεδονια καινε νδ μητσοτακ...\n",
      "2         ισχυρο κκε δυναμη λαου βουλη καθημερινους αγωνες\n",
      "3                      μνημονιακοτατο μερα εκλογες τωρακκε\n",
      "4                         συγκλονιστικο ψυχασθενεια τσιπρα\n",
      "                               ...                        \n",
      "36625    κουλης μητσοτακης λεει ψεματαδεν αδειασε μπαμπ...\n",
      "36626    προσεξε σκισει καλσον χαλια νεα φωτογραφια ομο...\n",
      "36627    θεση κκε ασφαλεια πολιτων διαφορους ρουβικωνες...\n",
      "36628    μαρη κακομοιρα θυγατερα ναζιστη αντισημιτη ξεφ...\n",
      "36629                              ενταξει επεισες κκε 🤘❤️\n",
      "Name: Text, Length: 36630, dtype: object\n",
      "\n",
      "\n",
      "TEST SET BELOW\n",
      "0        κυριακος μητσοτακης ξερει μουσειο βεργινας μεσ...\n",
      "1        συνεντευξη υποψηφιας βουλευτη νεα δημοκρατια β...\n",
      "2        εκλογες μαθητες φοιτητες ψηφιζουμε τροπο αγωνι...\n",
      "3        γεννηματα κιναλ γινει δεκανικι ενδιαφερουν υπο...\n",
      "4        κυριακη εκλογων οκτωβρης ξημερωματα δευτερας ξ...\n",
      "                               ...                        \n",
      "10465    τσιπρα μπορουσα συγχωρησω παντα γερμανοτσολιας...\n",
      "10466    αλεξης τσιπρας αξιζει γυρισουμε βιντεοφωτογραφιες\n",
      "10467    ανθρωπους πιστευουν τσιπρας χασει εκλογες εξαι...\n",
      "10468    πεις γιανη απλο παρασιτο βδελυγμα ξερατο πειρα...\n",
      "10469    δυστυχως εξυπνοι μορφωμενοι ανθρωποι αρνουνται...\n",
      "Name: Text, Length: 10470, dtype: object\n",
      "\n",
      "\n",
      "VALID SET BELOW\n",
      "0       θελεις μιλησεις βοσκοτοπια αιγιαλους παραγραφε...\n",
      "1       τσιπρας ζητησαμε αντιπολιτευση συμμετεχει διαδ...\n",
      "2       σωστος ελληνας δημοκρατης ελληνας εξωτερικου ε...\n",
      "3       βλεπεις ενδιαφερουν μητσοτακηδες γιατι πηγε κο...\n",
      "4       συνεντευξη μητσοτακη αιρεση συνταξη αυξηση κατ...\n",
      "                              ...                        \n",
      "5227                                 γιατι ιδρυσαν συριζα\n",
      "5228    mαντεκαςkοινωνικη ισοπεδωση προκαλεσει επαναφο...\n",
      "5229    τσιπρα πηγε θεσσαλονικη ειπε γινει τελευταιες ...\n",
      "5230    ναυτικος τανκερ εβλεπε χρονια ωραιος πολιτικος...\n",
      "5231                                      βρουν κκε ρε συ\n",
      "Name: Text, Length: 5232, dtype: object\n",
      "Text cleanup complete.\n"
     ]
    }
   ],
   "source": [
    "# Data cleanup\n",
    "# Remove all useless characters from tweets (URLs, Hashtags, mentions (at signs), punctuations)\n",
    "# also removes mentioned accounts after hashtags and @ signs and special symbols.\n",
    "def clean_tweet(tweet):\n",
    "    '''\n",
    "    Function to clean a tweet text by removing the links, punctuations, hashtags, mentions symbols and every text after mentions and hashtags\n",
    "    using regex expressions. Also removes special symbols.\n",
    "    Parameters:\n",
    "       tweet (string): Tweet text to transform.\n",
    "    Returns:\n",
    "       tweet_cleaned (string): Tweet without links, punctuations, hashtags, ,mentions symbols and every text after mentions and hashtags. Also removes special symbols.\n",
    "    \"\"\"\n",
    "    '''\n",
    "    # convert the tweet text to lowercase letters\n",
    "    tweet_lower = tweet.lower()\n",
    "    # remove links, punctuations, hashtags, ,mentions and other symbols\n",
    "    tweet_cleaned = re.sub(u\"(http\\S+)|([“”!?.»«,:;()\\\"'%&-_|–€$΄#])|([#@]\\S+)\", \"\", tweet_lower)\n",
    "    \n",
    "    return tweet_cleaned\n",
    "\n",
    "# Apply function to all tweets (text column)\n",
    "df['Text'] = [clean_tweet(tweet) for tweet in df['Text']]\n",
    "test_df['Text'] = [clean_tweet(tweet) for tweet in test_df['Text']]\n",
    "valid_df['Text'] = [clean_tweet(tweet) for tweet in valid_df['Text']]\n",
    "\n",
    "def find_english_words(text):\n",
    "    return re.findall(r'\\b[a-zA-Z]+\\b', text)\n",
    "\n",
    "english_words = [find_english_words(text) for text in df['Text']]\n",
    "test_english_words = [find_english_words(text) for text in test_df['Text']]\n",
    "valid_english_words = [find_english_words(text) for text in valid_df['Text']]\n",
    "\n",
    "def lists_to_list_skip_empty(list_of_lists):\n",
    "    # Flatten the list of lists, skipping empty lists\n",
    "    flat_list = [item for sublist in list_of_lists if sublist for item in sublist]\n",
    "    return flat_list\n",
    "\n",
    "final_list = lists_to_list_skip_empty(english_words)\n",
    "final_list_no_dupes = list(set(final_list))\n",
    "\n",
    "test_final_list = lists_to_list_skip_empty(test_english_words)\n",
    "test_final_list_no_dupes = list(set(test_final_list))\n",
    "\n",
    "valid_final_list = lists_to_list_skip_empty(valid_english_words)\n",
    "valid_final_list_no_dupes = list(set(valid_final_list))\n",
    "\n",
    "stop_words_separated.extend(final_list_no_dupes) # add English words to stop words so they can be removed.\n",
    "stop_words_separated.extend(test_final_list_no_dupes)\n",
    "stop_words_separated.extend(valid_final_list_no_dupes)\n",
    "\n",
    "# remove diacritics from Text column\n",
    "text_no_diacritics = []\n",
    "test_no_diacritics = []\n",
    "valid_no_diacritics = []\n",
    "\n",
    "d = {ord('\\N{COMBINING ACUTE ACCENT}'):None}\n",
    "for tweet in df['Text']:\n",
    "    text1 = ud.normalize('NFD',tweet).translate(d)\n",
    "    text_no_diacritics.append(text1)\n",
    "    \n",
    "for tweet in test_df['Text']:\n",
    "    text2 = ud.normalize('NFD',tweet).translate(d)\n",
    "    test_no_diacritics.append(text2)\n",
    "\n",
    "for tweet in valid_df['Text']:\n",
    "    text3 = ud.normalize('NFD',tweet).translate(d)\n",
    "    valid_no_diacritics.append(text3)\n",
    "    \n",
    "df['Text'] = text_no_diacritics\n",
    "test_df['Text'] = test_no_diacritics\n",
    "valid_df['Text'] = valid_no_diacritics\n",
    "\n",
    "# Remove stop_words from text column\n",
    "df['Text'] = df['Text'].apply(lambda x: ' '.join([word for word in x.split() if word not in (stop_words_separated)]))\n",
    "test_df['Text'] = test_df['Text'].apply(lambda x: ' '.join([word for word in x.split() if word not in (stop_words_separated)]))\n",
    "valid_df['Text'] = valid_df['Text'].apply(lambda x: ' '.join([word for word in x.split() if word not in (stop_words_separated)]))\n",
    "\n",
    "print(df['Text']) # making sure the cleanup works.\n",
    "print('\\n')\n",
    "print('TEST SET BELOW')\n",
    "print(test_df['Text'])\n",
    "print('\\n')\n",
    "print('VALID SET BELOW')\n",
    "print(valid_df['Text'])\n",
    "\n",
    "# Using pandarallel for faster tokenization and lemmatization.\n",
    "# pandarallel.initialize(progress_bar=True)\n",
    "\n",
    "# I added comments to these columns as they took a considerable amount of time to be finished , and they're not usable\n",
    "# since they produce worse results.\n",
    "# df['Docs'] = df['Text'].parallel_apply(lambda x: nlp(x)) # add docs to dataframe in order to get tokens\n",
    "# df['Lemmas'] = df['Text'].parallel_apply(lambda row: \" \".join([w.lemma_ for w in nlp(row)])) # add lemmas to dataframe\n",
    "print(\"Text cleanup complete.\")"
   ]
  },
  {
   "cell_type": "code",
   "execution_count": 10,
   "id": "bc04e7cf",
   "metadata": {
    "execution": {
     "iopub.execute_input": "2024-01-25T17:31:35.030665Z",
     "iopub.status.busy": "2024-01-25T17:31:35.029264Z",
     "iopub.status.idle": "2024-01-25T17:31:41.738656Z",
     "shell.execute_reply": "2024-01-25T17:31:41.737628Z"
    },
    "papermill": {
     "duration": 6.740915,
     "end_time": "2024-01-25T17:31:41.746739",
     "exception": false,
     "start_time": "2024-01-25T17:31:35.005824",
     "status": "completed"
    },
    "tags": []
   },
   "outputs": [
    {
     "data": {
      "image/png": "[encoded data removed]",
      "text/plain": [
       "<Figure size 800x800 with 1 Axes>"
      ]
     },
     "metadata": {},
     "output_type": "display_data"
    }
   ],
   "source": [
    "# Creating some visualizations with tokens\n",
    "# Word cloud\n",
    "tweets = []\n",
    "for tweet in df['Text']:\n",
    "    #tokens.append(doc.text)\n",
    "    tweets.append(tweet)\n",
    "    \n",
    "\n",
    "\n",
    "# stop_words = stopwords.words('greek')\n",
    "for i in range(len(tweets)):\n",
    "        tweets[i] = tweets[i].lower()\n",
    "\n",
    "\n",
    "# remove Diacritics in Greek (tonous)\n",
    "d = {ord('\\N{COMBINING ACUTE ACCENT}'):None}\n",
    "tweets_string = \"\".join(tweets)\n",
    "tweets_without_accent = ud.normalize('NFD',tweets_string).translate(d)\n",
    "\n",
    "\n",
    "wordcloud = WordCloud(stopwords=stop_words_separated).generate(str(tweets_without_accent))\n",
    " \n",
    "# plot the WordCloud image                       \n",
    "plt.figure(figsize = (8, 8), facecolor = None)\n",
    "plt.imshow(wordcloud)\n",
    "plt.axis(\"off\")\n",
    "plt.tight_layout(pad = 0)\n",
    "\n",
    "plt.show()"
   ]
  },
  {
   "cell_type": "code",
   "execution_count": 11,
   "id": "f1f227d8",
   "metadata": {
    "execution": {
     "iopub.execute_input": "2024-01-25T17:31:41.820186Z",
     "iopub.status.busy": "2024-01-25T17:31:41.819707Z",
     "iopub.status.idle": "2024-01-25T17:31:47.688620Z",
     "shell.execute_reply": "2024-01-25T17:31:47.687014Z"
    },
    "papermill": {
     "duration": 5.896695,
     "end_time": "2024-01-25T17:31:47.691700",
     "exception": false,
     "start_time": "2024-01-25T17:31:41.795005",
     "status": "completed"
    },
    "tags": []
   },
   "outputs": [
    {
     "data": {
      "image/png": "[encoded data removed]",
      "text/plain": [
       "<Figure size 640x480 with 1 Axes>"
      ]
     },
     "metadata": {},
     "output_type": "display_data"
    }
   ],
   "source": [
    "# Tokens frequency diagram\n",
    "tokens = nltk.word_tokenize(tweets_without_accent)\n",
    "sns.set_style('darkgrid')\n",
    "nlp_words=nltk.FreqDist(tokens)\n",
    "nlp_words.plot(20);"
   ]
  },
  {
   "cell_type": "code",
   "execution_count": 12,
   "id": "725e54f3",
   "metadata": {
    "execution": {
     "iopub.execute_input": "2024-01-25T17:31:47.745956Z",
     "iopub.status.busy": "2024-01-25T17:31:47.745419Z",
     "iopub.status.idle": "2024-01-25T17:31:57.506415Z",
     "shell.execute_reply": "2024-01-25T17:31:57.505059Z"
    },
    "papermill": {
     "duration": 9.791849,
     "end_time": "2024-01-25T17:31:57.509620",
     "exception": false,
     "start_time": "2024-01-25T17:31:47.717771",
     "status": "completed"
    },
    "tags": []
   },
   "outputs": [
    {
     "name": "stderr",
     "output_type": "stream",
     "text": [
      "/tmp/ipykernel_19/79449557.py:55: UserWarning: Creating a tensor from a list of numpy.ndarrays is extremely slow. Please consider converting the list to a single numpy.ndarray with numpy.array() before converting to a tensor. (Triggered internally at ../torch/csrc/utils/tensor_new.cpp:245.)\n",
      "  X_train_tensor = torch.FloatTensor(tweet_embeddings_train)\n"
     ]
    },
    {
     "name": "stdout",
     "output_type": "stream",
     "text": [
      "X_train_tensor shape: torch.Size([36630, 100])\n",
      "y_train_tensor shape: torch.Size([36630, 3])\n",
      "X_test_tensor shape:  torch.Size([10470, 100])\n",
      "X_valid_tensor shape:  torch.Size([5232, 100])\n",
      "y_valid_tensor shape:  torch.Size([5232, 3])\n"
     ]
    }
   ],
   "source": [
    "# X = df['Lemmas'] # Lemma as feature, doesn't really increase performance of f1-score.\n",
    "# X = df['Tokens'] # same as above for tokens.\n",
    "X_train = df['Text'] # 40% f1-score , best feature as of yet\n",
    "X_test = test_df['Text']\n",
    "y_train = df['Sentiment'] # labels\n",
    "\n",
    "X_valid = valid_df['Text']\n",
    "y_valid = valid_df['Sentiment'] # these two will be used for metrics\n",
    "\n",
    "def simple_tokenizer(sentence):\n",
    "    tokens = sentence.split()  # Split the sentence into a list of words\n",
    "    return tokens\n",
    "\n",
    "# tokenize text column and perform below processes for all datasets.\n",
    "df['Tokens'] = df['Text'].apply(simple_tokenizer)\n",
    "test_df['Tokens'] = test_df['Text'].apply(simple_tokenizer)\n",
    "valid_df['Tokens'] = valid_df['Text'].apply(simple_tokenizer)\n",
    "\n",
    "# Train Word2Vec model\n",
    "sentences = df['Tokens'].tolist()\n",
    "test_sentences = test_df['Tokens'].tolist()\n",
    "valid_sentences = valid_df['Tokens'].tolist()\n",
    "\n",
    "word2vec_model = Word2Vec(sentences, vector_size=100, window=5, min_count=1, workers=4)\n",
    "\n",
    "# Creates embeddings for each tweet\n",
    "def get_tweet_embedding(tweet):\n",
    "    word_embeddings = [word2vec_model.wv[word] for word in tweet if word in word2vec_model.wv]\n",
    "    if not word_embeddings:\n",
    "        zeroes_list = [0] * 100\n",
    "        return zeroes_list\n",
    "            \n",
    "#         return None  # Handle the case where no words have embeddings\n",
    "    tweet_embedding = sum(word_embeddings) / len(word_embeddings)  # Simple average\n",
    "    return tweet_embedding\n",
    "\n",
    "# Convert tweet tokens to embeddings\n",
    "tweet_embeddings_train = [get_tweet_embedding(tweet) for tweet in sentences]\n",
    "tweet_embeddings_test = [get_tweet_embedding(tweet) for tweet in test_sentences]\n",
    "tweet_embeddings_valid = [get_tweet_embedding(tweet) for tweet in valid_sentences]\n",
    "\n",
    "\n",
    "# Convert labels to one-hot encoded tensors\n",
    "label_embeddings_train = pd.get_dummies(df['Sentiment']).values\n",
    "label_embeddings_valid = pd.get_dummies(valid_df['Sentiment']).values\n",
    "\n",
    "# Below part is used to correlate the numbers 0,1,2 to their respective labels (POSITIVE,NEUTRAL,NEGATIVE) for predictions\n",
    "label_encoded_train = pd.get_dummies(df['Sentiment'])\n",
    "label_encoded_valid = pd.get_dummies(valid_df['Sentiment'])\n",
    "\n",
    "label_mapping_train = {i: label for i, label in enumerate(label_encoded_train.columns)}\n",
    "label_mapping_valid = {i: label for i, label in enumerate(label_encoded_valid.columns)}\n",
    "\n",
    "# Convert to PyTorch tensors\n",
    "X_train_tensor = torch.FloatTensor(tweet_embeddings_train)\n",
    "y_train_tensor = torch.FloatTensor(label_embeddings_train)\n",
    "\n",
    "X_test_tensor = torch.FloatTensor(tweet_embeddings_test)\n",
    "\n",
    "X_valid_tensor = torch.FloatTensor(tweet_embeddings_valid)\n",
    "y_valid_tensor = torch.FloatTensor(label_embeddings_valid)\n",
    "\n",
    "\n",
    "print('X_train_tensor shape:', X_train_tensor.shape)\n",
    "print('y_train_tensor shape:', y_train_tensor.shape)\n",
    "\n",
    "print('X_test_tensor shape: ', X_test_tensor.shape)\n",
    "\n",
    "print('X_valid_tensor shape: ', X_valid_tensor.shape)\n",
    "print('y_valid_tensor shape: ', y_valid_tensor.shape)"
   ]
  },
  {
   "cell_type": "code",
   "execution_count": 13,
   "id": "551339e0",
   "metadata": {
    "execution": {
     "iopub.execute_input": "2024-01-25T17:31:57.565455Z",
     "iopub.status.busy": "2024-01-25T17:31:57.563594Z",
     "iopub.status.idle": "2024-01-25T17:31:57.590038Z",
     "shell.execute_reply": "2024-01-25T17:31:57.588772Z"
    },
    "papermill": {
     "duration": 0.057221,
     "end_time": "2024-01-25T17:31:57.593059",
     "exception": false,
     "start_time": "2024-01-25T17:31:57.535838",
     "status": "completed"
    },
    "tags": []
   },
   "outputs": [
    {
     "name": "stdout",
     "output_type": "stream",
     "text": [
      "Data loading complete.\n"
     ]
    }
   ],
   "source": [
    "X_train_tensor = X_train_tensor.unsqueeze(1)  # Adds a dimension at index 1\n",
    "X_valid_tensor = X_valid_tensor.unsqueeze(1)\n",
    "X_test_tensor = X_test_tensor.unsqueeze(1)\n",
    "\n",
    "#Initialise dataloaders\n",
    "train_dataset = torch.utils.data.TensorDataset(X_train_tensor, y_train_tensor) #class to represent the data as list of tensors. x=input_features, y=labels\n",
    "test_dataset = torch.utils.data.TensorDataset(X_test_tensor)\n",
    "valid_dataset = torch.utils.data.TensorDataset(X_valid_tensor, y_valid_tensor)\n",
    "\n",
    "train_dataloader = torch.utils.data.DataLoader(train_dataset, batch_size=64, shuffle=True)\n",
    "test_dataloader = torch.utils.data.DataLoader(test_dataset, batch_size=64)\n",
    "valid_dataloader = torch.utils.data.DataLoader(valid_dataset, batch_size=64, shuffle=True)\n",
    "\n",
    "print('Data loading complete.')"
   ]
  },
  {
   "cell_type": "markdown",
   "id": "bf6728ca",
   "metadata": {
    "papermill": {
     "duration": 0.026854,
     "end_time": "2024-01-25T17:31:57.646111",
     "exception": false,
     "start_time": "2024-01-25T17:31:57.619257",
     "status": "completed"
    },
    "tags": []
   },
   "source": [
    "## most similar word visualization"
   ]
  },
  {
   "cell_type": "code",
   "execution_count": 14,
   "id": "83c1bb1e",
   "metadata": {
    "execution": {
     "iopub.execute_input": "2024-01-25T17:31:57.702311Z",
     "iopub.status.busy": "2024-01-25T17:31:57.701862Z",
     "iopub.status.idle": "2024-01-25T17:31:57.730743Z",
     "shell.execute_reply": "2024-01-25T17:31:57.729459Z"
    },
    "papermill": {
     "duration": 0.06327,
     "end_time": "2024-01-25T17:31:57.735574",
     "exception": false,
     "start_time": "2024-01-25T17:31:57.672304",
     "status": "completed"
    },
    "tags": []
   },
   "outputs": [
    {
     "name": "stdout",
     "output_type": "stream",
     "text": [
      "Most semantically similar to word Mitsotakis:\n",
      "\n",
      "     word            similarity score\n",
      "===========================================\n",
      "     μητσοτακης…    0.9547027349472046\n",
      "     χωρων          0.9515827298164368\n",
      "     ζητησε         0.9509779810905457\n",
      "     διαφορετικος   0.9440712332725525\n",
      "     απελευθερωσε   0.9418005347251892\n",
      "     μακρυνιτσα     0.9397727847099304\n",
      "     συνοδος        0.9377662539482117\n",
      "     υπερηφανους    0.9341276288032532\n",
      "     αβραμοπουλος   0.9335430860519409\n",
      "     αποδειχθει     0.9329411387443542\n"
     ]
    }
   ],
   "source": [
    "# Picking some common words to show visualizations\n",
    "most_similar_mitsotakis = word2vec_model.wv.most_similar('μητσοτακης')\n",
    "\n",
    "print(f'Most semantically similar to word Mitsotakis:')\n",
    "print(f'\\n{\" \"*5}word{\" \"*10}  similarity score')\n",
    "print(f'{\"=\"*43}')\n",
    "for w in most_similar_mitsotakis:\n",
    "    print(f'{\" \"*5}{w[0]:15}{w[1]}')"
   ]
  },
  {
   "cell_type": "code",
   "execution_count": 15,
   "id": "4b9c70b0",
   "metadata": {
    "execution": {
     "iopub.execute_input": "2024-01-25T17:31:57.850594Z",
     "iopub.status.busy": "2024-01-25T17:31:57.850109Z",
     "iopub.status.idle": "2024-01-25T17:31:57.864289Z",
     "shell.execute_reply": "2024-01-25T17:31:57.862565Z"
    },
    "papermill": {
     "duration": 0.074928,
     "end_time": "2024-01-25T17:31:57.869344",
     "exception": false,
     "start_time": "2024-01-25T17:31:57.794416",
     "status": "completed"
    },
    "tags": []
   },
   "outputs": [
    {
     "name": "stdout",
     "output_type": "stream",
     "text": [
      "Most semantically similar to word Tsipras:\n",
      "\n",
      "     word            similarity score\n",
      "===========================================\n",
      "     ξεβρακωμα      0.9591887593269348\n",
      "     🔴              0.9571133852005005\n",
      "     συμβιβαστηκαμε 0.9513048529624939\n",
      "     σπαει          0.9492200613021851\n",
      "     μετανιωνω      0.9466826319694519\n",
      "     σκαιτσιπρας    0.9450240135192871\n",
      "     τσιπραςσυνταγμα0.944040834903717\n",
      "     πρωινες        0.9435499310493469\n",
      "     ανακοινωνει    0.9427955746650696\n",
      "     ζαγορα         0.9409149885177612\n"
     ]
    }
   ],
   "source": [
    "most_similar_tsipras = word2vec_model.wv.most_similar('τσιπρας')\n",
    "\n",
    "print(f'Most semantically similar to word Tsipras:')\n",
    "print(f'\\n{\" \"*5}word{\" \"*10}  similarity score')\n",
    "print(f'{\"=\"*43}')\n",
    "for w in most_similar_tsipras:\n",
    "    print(f'{\" \"*5}{w[0]:15}{w[1]}')"
   ]
  },
  {
   "cell_type": "markdown",
   "id": "b259b599",
   "metadata": {
    "papermill": {
     "duration": 0.054531,
     "end_time": "2024-01-25T17:31:57.981046",
     "exception": false,
     "start_time": "2024-01-25T17:31:57.926515",
     "status": "completed"
    },
    "tags": []
   },
   "source": [
    "## Linear substructure visualization"
   ]
  },
  {
   "cell_type": "code",
   "execution_count": 16,
   "id": "e0da396c",
   "metadata": {
    "execution": {
     "iopub.execute_input": "2024-01-25T17:31:58.040266Z",
     "iopub.status.busy": "2024-01-25T17:31:58.039859Z",
     "iopub.status.idle": "2024-01-25T17:31:59.025640Z",
     "shell.execute_reply": "2024-01-25T17:31:59.024061Z"
    },
    "papermill": {
     "duration": 1.017599,
     "end_time": "2024-01-25T17:31:59.029446",
     "exception": false,
     "start_time": "2024-01-25T17:31:58.011847",
     "status": "completed"
    },
    "tags": []
   },
   "outputs": [
    {
     "data": {
      "image/png": "[encoded data removed]",
      "text/plain": [
       "<Figure size 1100x900 with 1 Axes>"
      ]
     },
     "metadata": {},
     "output_type": "display_data"
    }
   ],
   "source": [
    "import warnings\n",
    "warnings.simplefilter(action='ignore', category=FutureWarning)\n",
    "from sklearn.manifold import TSNE\n",
    "\n",
    "sns.set_style(\"darkgrid\")\n",
    "sns.set_context(\"talk\",  font_scale=0.6)\n",
    "\n",
    "vocab = [\"μητσοτακης\", \"τσιπρας\", \"συριζα\", \"νδ\", \"κκε\", \"κιναλ\"]\n",
    "\n",
    "def glove_plot(model):\n",
    "    labels = []\n",
    "    wordvecs = []\n",
    "\n",
    "    for word in vocab:\n",
    "        wordvecs.append(model.wv[word])\n",
    "        labels.append(word)\n",
    "    \n",
    "    wordvecs_array = np.array(wordvecs)\n",
    "    tsne_model = TSNE(perplexity=3, n_components=2, init='pca', random_state=42) #T-distributed Stochastic Neighbor Embedding\n",
    "    coordinates = tsne_model.fit_transform(wordvecs_array) #The fit method is calculating the mean and variance of each of the features present in our data. The transform method is transforming all the features using the respective mean and variance.\n",
    "\n",
    "    x = []\n",
    "    y = []\n",
    "    for value in coordinates:\n",
    "        x.append(value[0])\n",
    "        y.append(value[1])\n",
    "\n",
    "\n",
    "    plt.figure(figsize=(11,9))\n",
    "    plt.title('Linear substructures of words with word2vec')\n",
    "    for i in range(len(x)):\n",
    "        plt.scatter(x[i],y[i])\n",
    "        plt.annotate(labels[i],\n",
    "                     xy=(x[i], y[i]),\n",
    "                     xytext=(2, 2),\n",
    "                     textcoords='offset points',\n",
    "                     ha='right',\n",
    "                     va='bottom')\n",
    "    plt.show()\n",
    "\n",
    "glove_plot(word2vec_model)"
   ]
  },
  {
   "cell_type": "markdown",
   "id": "38c71099",
   "metadata": {
    "papermill": {
     "duration": 0.026488,
     "end_time": "2024-01-25T17:31:59.084434",
     "exception": false,
     "start_time": "2024-01-25T17:31:59.057946",
     "status": "completed"
    },
    "tags": []
   },
   "source": [
    "## RNN creation (Stacked and bidirectional)"
   ]
  },
  {
   "cell_type": "code",
   "execution_count": 17,
   "id": "144f2008",
   "metadata": {
    "execution": {
     "iopub.execute_input": "2024-01-25T17:31:59.147216Z",
     "iopub.status.busy": "2024-01-25T17:31:59.146156Z",
     "iopub.status.idle": "2024-01-25T17:31:59.162737Z",
     "shell.execute_reply": "2024-01-25T17:31:59.161308Z"
    },
    "papermill": {
     "duration": 0.052484,
     "end_time": "2024-01-25T17:31:59.166811",
     "exception": false,
     "start_time": "2024-01-25T17:31:59.114327",
     "status": "completed"
    },
    "tags": []
   },
   "outputs": [],
   "source": [
    "# RNN stacked bi-directional model\n",
    "class RNN(nn.Module):\n",
    "    def __init__(self, cell_type, input_size, hidden_size, output_size, num_hidden_layers):\n",
    "        super(RNN, self).__init__()\n",
    "        \n",
    "        cells = {\n",
    "          \"RNN\" : nn.RNN,\n",
    "          \"LSTM\"    : nn.LSTM,\n",
    "          \"GRU\"     : nn.GRU\n",
    "        }\n",
    "\n",
    "        self.cell_type = cell_type\n",
    "\n",
    "        self.rnn = cells[cell_type](         # Pick the specific model\n",
    "            input_size = input_size,           # Number of features for each time step\n",
    "            hidden_size = hidden_size,         # rnn hidden units\n",
    "            batch_first = True, # input & output will have batch size as 1s dimension. e.g. (batch, time_step, input_size)\n",
    "            bidirectional = True, # making RNN bidirectional\n",
    "            num_layers = num_hidden_layers, # Making RNN stacked with additional layers\n",
    "            dropout = 0.2 # Using dropout\n",
    "        )\n",
    "        \n",
    "#         self.lstm = nn.LSTM(input_size, hidden_size, batch_first=True,bidirectional=True,num_layers=2,dropout=0.2)\n",
    "        \n",
    "        # Adding more hidden layers based on parameter\n",
    "        self.hidden_layers = nn.ModuleList()\n",
    "        for _ in range(num_hidden_layers):\n",
    "            self.hidden_layers.append(nn.Linear(hidden_size * 2, hidden_size * 2))\n",
    "        \n",
    "        self.fc = nn.Linear(hidden_size * 2, output_size)\n",
    "\n",
    "    def forward(self, x):\n",
    "        if self.cell_type == 'LSTM':\n",
    "            r_out, (h_n, h_c) = self.rnn(x)\n",
    "        else:\n",
    "            r_out, h_n = self.rnn(x)\n",
    "#         r_out, _ = self.lstm(x)\n",
    "        \n",
    "        # Pass through additional hidden layers with ReLU activation\n",
    "        for layer in self.hidden_layers:\n",
    "            r_out = F.relu(layer(r_out))\n",
    "        \n",
    "        output = self.fc(r_out[:, -1, :])  # Take the output from the last time step\n",
    "        return output"
   ]
  },
  {
   "cell_type": "markdown",
   "id": "59695b79",
   "metadata": {
    "papermill": {
     "duration": 0.030109,
     "end_time": "2024-01-25T17:31:59.225855",
     "exception": false,
     "start_time": "2024-01-25T17:31:59.195746",
     "status": "completed"
    },
    "tags": []
   },
   "source": [
    "## Training and evaluation"
   ]
  },
  {
   "cell_type": "code",
   "execution_count": 18,
   "id": "099c2b12",
   "metadata": {
    "execution": {
     "iopub.execute_input": "2024-01-25T17:31:59.285096Z",
     "iopub.status.busy": "2024-01-25T17:31:59.284524Z",
     "iopub.status.idle": "2024-01-25T17:32:05.990064Z",
     "shell.execute_reply": "2024-01-25T17:32:05.988799Z"
    },
    "papermill": {
     "duration": 6.738941,
     "end_time": "2024-01-25T17:32:05.993966",
     "exception": false,
     "start_time": "2024-01-25T17:31:59.255025",
     "status": "completed"
    },
    "tags": []
   },
   "outputs": [
    {
     "name": "stdout",
     "output_type": "stream",
     "text": [
      "Epoch   0 \t\t Training Loss: 1.09487 \t\t Validation Loss: 1.09088\n"
     ]
    },
    {
     "data": {
      "image/png": "[encoded data removed]",
      "text/plain": [
       "<Figure size 1200x500 with 1 Axes>"
      ]
     },
     "metadata": {},
     "output_type": "display_data"
    }
   ],
   "source": [
    "# Hyperparameters\n",
    "input_size = 100 \n",
    "hidden_size = 50  \n",
    "output_size = 3 \n",
    "learning_rate = 0.001\n",
    "epochs = 15\n",
    "num_hidden_layers = 2\n",
    "\n",
    "# Create the model, loss function, and optimizer\n",
    "cell_type = 'LSTM'\n",
    "# net = RNN(cell_type, input_size, hidden_size, output_size) # \n",
    "model = RNN(cell_type, input_size, hidden_size, output_size, num_hidden_layers)\n",
    "loss_func = nn.CrossEntropyLoss()\n",
    "optimizer = torch.optim.Adam(model.parameters(), lr=learning_rate)\n",
    "\n",
    "# Train NN for one epoch so we can get Learning curve for steps.\n",
    "\n",
    "for epoch in range(1):\n",
    "    batch_losses = []\n",
    "    for x_batch, y_batch in train_dataloader:\n",
    "        y_pred = model(x_batch)\n",
    "\n",
    "        loss = loss_func(y_pred, y_batch)\n",
    "        batch_losses.append(loss.item())\n",
    "        # print('y_pred=', y_pred[0])\n",
    "        #Delete previously stored gradients\n",
    "        optimizer.zero_grad()\n",
    "        #Perform backpropagation starting from the loss calculated in this epoch\n",
    "        \n",
    "        loss.backward()\n",
    "        #Update model's weights based on the gradients calculated during backprop\n",
    "        optimizer.step()\n",
    "    \n",
    "#     print(f\"Epoch {epoch:3}: Loss = {sum(batch_losses)/len(train_dataloader):.5f}\")\n",
    "    \n",
    "    model.eval()\n",
    "    with torch.no_grad():\n",
    "        valid_batch_losses = []\n",
    "        for x_batch, y_batch in valid_dataloader:\n",
    "            y_pred_valid = model(x_batch)\n",
    "            # Compute and print/validation loss or other metrics\n",
    "            valid_loss = loss_func(y_pred_valid, y_batch)\n",
    "            valid_batch_losses.append(valid_loss.item())\n",
    "    \n",
    "    # Check validation loss to make sure we don't get overfitting\n",
    "    print(f'Epoch {epoch:3} \\t\\t Training Loss: {sum(batch_losses)/len(train_dataloader):.5f} \\t\\t Validation Loss: {sum(valid_batch_losses) / len(valid_dataloader):.5f}')\n",
    "\n",
    "    \n",
    "# Plot results (Learning curve)\n",
    "plt.figure(figsize=(12,5))\n",
    "plt.plot(batch_losses)\n",
    "plt.title('Learning Curve')\n",
    "plt.xlabel('# of steps', fontsize=12)\n",
    "plt.ylabel('CE - Loss', fontsize=12)\n",
    "plt.show()"
   ]
  },
  {
   "cell_type": "code",
   "execution_count": 19,
   "id": "262d83c7",
   "metadata": {
    "execution": {
     "iopub.execute_input": "2024-01-25T17:32:06.063750Z",
     "iopub.status.busy": "2024-01-25T17:32:06.062647Z",
     "iopub.status.idle": "2024-01-25T17:37:56.061217Z",
     "shell.execute_reply": "2024-01-25T17:37:56.059230Z"
    },
    "papermill": {
     "duration": 350.03772,
     "end_time": "2024-01-25T17:37:56.064262",
     "exception": false,
     "start_time": "2024-01-25T17:32:06.026542",
     "status": "completed"
    },
    "tags": []
   },
   "outputs": [
    {
     "name": "stdout",
     "output_type": "stream",
     "text": [
      "Epoch   0 \t\t Training Loss: 1.09493 \t\t Validation Loss: 1.09273\n",
      "Epoch   1 \t\t Training Loss: 1.09113 \t\t Validation Loss: 1.08912\n",
      "Epoch   2 \t\t Training Loss: 1.08947 \t\t Validation Loss: 1.08883\n",
      "Epoch   3 \t\t Training Loss: 1.08946 \t\t Validation Loss: 1.08685\n",
      "Epoch   4 \t\t Training Loss: 1.08818 \t\t Validation Loss: 1.08741\n",
      "Epoch   5 \t\t Training Loss: 1.08617 \t\t Validation Loss: 1.08391\n",
      "Epoch   6 \t\t Training Loss: 1.08478 \t\t Validation Loss: 1.08344\n",
      "Epoch   7 \t\t Training Loss: 1.08344 \t\t Validation Loss: 1.08543\n",
      "Epoch   8 \t\t Training Loss: 1.08273 \t\t Validation Loss: 1.08245\n",
      "Epoch   9 \t\t Training Loss: 1.08216 \t\t Validation Loss: 1.07902\n",
      "Epoch  10 \t\t Training Loss: 1.08237 \t\t Validation Loss: 1.08022\n",
      "Epoch  11 \t\t Training Loss: 1.08098 \t\t Validation Loss: 1.07780\n",
      "Epoch  12 \t\t Training Loss: 1.08073 \t\t Validation Loss: 1.07930\n",
      "Epoch  13 \t\t Training Loss: 1.08017 \t\t Validation Loss: 1.07646\n",
      "Epoch  14 \t\t Training Loss: 1.07910 \t\t Validation Loss: 1.07527\n",
      "Epoch  15 \t\t Training Loss: 1.07882 \t\t Validation Loss: 1.07667\n",
      "Epoch  16 \t\t Training Loss: 1.07823 \t\t Validation Loss: 1.07533\n",
      "Epoch  17 \t\t Training Loss: 1.07840 \t\t Validation Loss: 1.07767\n",
      "Epoch  18 \t\t Training Loss: 1.07850 \t\t Validation Loss: 1.07526\n",
      "Epoch  19 \t\t Training Loss: 1.07715 \t\t Validation Loss: 1.07636\n",
      "Epoch  20 \t\t Training Loss: 1.07708 \t\t Validation Loss: 1.07457\n",
      "Epoch  21 \t\t Training Loss: 1.07716 \t\t Validation Loss: 1.07548\n",
      "Epoch  22 \t\t Training Loss: 1.07626 \t\t Validation Loss: 1.07617\n",
      "Epoch  23 \t\t Training Loss: 1.07620 \t\t Validation Loss: 1.07570\n",
      "Epoch  24 \t\t Training Loss: 1.07552 \t\t Validation Loss: 1.07339\n",
      "Epoch  25 \t\t Training Loss: 1.07501 \t\t Validation Loss: 1.07303\n",
      "Epoch  26 \t\t Training Loss: 1.07463 \t\t Validation Loss: 1.07746\n",
      "Epoch  27 \t\t Training Loss: 1.07420 \t\t Validation Loss: 1.07446\n",
      "Epoch  28 \t\t Training Loss: 1.07410 \t\t Validation Loss: 1.07490\n",
      "Epoch  29 \t\t Training Loss: 1.07418 \t\t Validation Loss: 1.07295\n",
      "Epoch  30 \t\t Training Loss: 1.07299 \t\t Validation Loss: 1.07614\n",
      "Epoch  31 \t\t Training Loss: 1.07320 \t\t Validation Loss: 1.07397\n",
      "Epoch  32 \t\t Training Loss: 1.07256 \t\t Validation Loss: 1.07822\n",
      "Epoch  33 \t\t Training Loss: 1.07169 \t\t Validation Loss: 1.07383\n",
      "Epoch  34 \t\t Training Loss: 1.07127 \t\t Validation Loss: 1.07554\n",
      "Epoch  35 \t\t Training Loss: 1.07070 \t\t Validation Loss: 1.07332\n",
      "Epoch  36 \t\t Training Loss: 1.07027 \t\t Validation Loss: 1.07442\n",
      "Epoch  37 \t\t Training Loss: 1.06995 \t\t Validation Loss: 1.07427\n",
      "Epoch  38 \t\t Training Loss: 1.06913 \t\t Validation Loss: 1.07622\n",
      "Epoch  39 \t\t Training Loss: 1.06870 \t\t Validation Loss: 1.07639\n",
      "Epoch  40 \t\t Training Loss: 1.06875 \t\t Validation Loss: 1.07581\n",
      "Epoch  41 \t\t Training Loss: 1.06761 \t\t Validation Loss: 1.07968\n",
      "Epoch  42 \t\t Training Loss: 1.06773 \t\t Validation Loss: 1.07382\n",
      "Epoch  43 \t\t Training Loss: 1.06708 \t\t Validation Loss: 1.07732\n",
      "Epoch  44 \t\t Training Loss: 1.06659 \t\t Validation Loss: 1.07632\n",
      "Epoch  45 \t\t Training Loss: 1.06594 \t\t Validation Loss: 1.07775\n",
      "Epoch  46 \t\t Training Loss: 1.06545 \t\t Validation Loss: 1.07695\n",
      "Epoch  47 \t\t Training Loss: 1.06441 \t\t Validation Loss: 1.07821\n",
      "Epoch  48 \t\t Training Loss: 1.06346 \t\t Validation Loss: 1.07716\n",
      "Epoch  49 \t\t Training Loss: 1.06320 \t\t Validation Loss: 1.07663\n",
      "Epoch  50 \t\t Training Loss: 1.06204 \t\t Validation Loss: 1.07977\n",
      "Epoch  51 \t\t Training Loss: 1.06195 \t\t Validation Loss: 1.07516\n",
      "Epoch  52 \t\t Training Loss: 1.06003 \t\t Validation Loss: 1.07414\n",
      "Epoch  53 \t\t Training Loss: 1.05951 \t\t Validation Loss: 1.07665\n",
      "Epoch  54 \t\t Training Loss: 1.05890 \t\t Validation Loss: 1.07843\n",
      "Epoch  55 \t\t Training Loss: 1.05781 \t\t Validation Loss: 1.07767\n",
      "Epoch  56 \t\t Training Loss: 1.05739 \t\t Validation Loss: 1.08088\n",
      "Epoch  57 \t\t Training Loss: 1.05589 \t\t Validation Loss: 1.07914\n",
      "Epoch  58 \t\t Training Loss: 1.05519 \t\t Validation Loss: 1.07869\n",
      "Epoch  59 \t\t Training Loss: 1.05409 \t\t Validation Loss: 1.08132\n",
      "\n",
      "\n",
      "================= LSTM NN SCORES =================\n",
      "              precision    recall  f1-score   support\n",
      "\n",
      "    NEGATIVE       0.39      0.52      0.44      1744\n",
      "     NEUTRAL       0.41      0.22      0.29      1744\n",
      "    POSITIVE       0.38      0.42      0.40      1744\n",
      "\n",
      "    accuracy                           0.39      5232\n",
      "   macro avg       0.39      0.39      0.38      5232\n",
      "weighted avg       0.39      0.39      0.38      5232\n",
      "\n",
      "accuracy:  0.3900993883792049\n",
      "f1:  0.3900993883792049\n",
      "total f1:  [0.44493392 0.29090909 0.40184632]\n"
     ]
    }
   ],
   "source": [
    "# LSTM run\n",
    "# Hyperparameters\n",
    "input_size = 100 \n",
    "hidden_size = 50  \n",
    "output_size = 3 \n",
    "learning_rate = 0.001\n",
    "num_hidden_layers = 2\n",
    "f1_scores = {} # here I will save all f1 scores and later on get the best NN's results\n",
    "valid_preds = {} # here I will save all valid predictions and later on get the best NN's results\n",
    "test_preds = {} # here I will save all test predictions and later on get the best NN's results\n",
    "\n",
    "\n",
    "# Create the model, loss function, and optimizer\n",
    "cell_type = 'LSTM'\n",
    "# net = RNN(cell_type, input_size, hidden_size, output_size) # \n",
    "model = RNN(cell_type,input_size, hidden_size, output_size, num_hidden_layers)\n",
    "loss_func = nn.CrossEntropyLoss()\n",
    "optimizer = torch.optim.Adam(model.parameters(), lr=learning_rate)\n",
    "\n",
    "# Best number for now: 60\n",
    "for epoch in range(60):\n",
    "    batch_losses = []\n",
    "    for x_batch, y_batch in train_dataloader:\n",
    "        y_pred = model(x_batch)\n",
    "\n",
    "        loss = loss_func(y_pred, y_batch)\n",
    "        batch_losses.append(loss.item())\n",
    "        # print('y_pred=', y_pred[0])\n",
    "        #Delete previously stored gradients\n",
    "        optimizer.zero_grad()\n",
    "        #Perform backpropagation starting from the loss calculated in this epoch\n",
    "        \n",
    "        loss.backward()\n",
    "        #Update model's weights based on the gradients calculated during backprop\n",
    "        optimizer.step()\n",
    "    \n",
    "#     print(f\"Epoch {epoch:3}: Loss = {sum(batch_losses)/len(train_dataloader):.5f}\")\n",
    "    \n",
    "    model.eval()\n",
    "    with torch.no_grad():\n",
    "        valid_batch_losses = []\n",
    "        for x_batch, y_batch in valid_dataloader:\n",
    "            y_pred_valid = model(x_batch)\n",
    "            # Compute and print/validation loss or other metrics\n",
    "            valid_loss = loss_func(y_pred_valid, y_batch)\n",
    "            valid_batch_losses.append(valid_loss.item())\n",
    "    \n",
    "    # Check validation loss to make sure we don't get overfitting\n",
    "    print(f'Epoch {epoch:3} \\t\\t Training Loss: {sum(batch_losses)/len(train_dataloader):.5f} \\t\\t Validation Loss: {sum(valid_batch_losses) / len(valid_dataloader):.5f}')\n",
    "\n",
    "\n",
    "# Test set predictions\n",
    "# Generate test predictions and evaluate test set\n",
    "model.eval()\n",
    "predictions_test = []\n",
    "\n",
    "# test results, labels for submission.csv\n",
    "with torch.no_grad():\n",
    "    for inputs in test_dataloader:\n",
    "        for tensor in inputs:\n",
    "            outputs = model(tensor)\n",
    "            _, predicted = torch.max(outputs, 1)\n",
    "\n",
    "            predictions_test.extend(predicted.tolist())\n",
    "    \n",
    "# convert 0,1,2 predictions to their original text form (POSITIVE, NEUTRAL , NEGATIVE)\n",
    "# these will also be put in the submission.csv\n",
    "original_label_predictions_test_lstm = [label_mapping_train[pred] for pred in predictions_test]\n",
    "\n",
    "# Generate valid predictions\n",
    "predictions_valid = []\n",
    "\n",
    "val_targets = []\n",
    "model.eval()\n",
    "# valid results for evaluation\n",
    "with torch.no_grad():\n",
    "    for x_batch, y_batch in valid_dataloader:\n",
    "        outputs = model(x_batch)\n",
    "        _, predicted = torch.max(outputs, 1)\n",
    "\n",
    "        predictions_valid.extend(predicted.tolist())\n",
    "        val_targets.extend(y_batch.tolist())\n",
    "    \n",
    "# convert indexes to respective labels and predictions to respective label (POSITIVE, NEGATIVE, NEUTRAL) and feed them to the metric functions \n",
    "original_label_predictions_valid_lstm  = [label_mapping_valid[pred] for pred in predictions_valid]\n",
    "val_targets_indices = [np.argmax(label) if np.sum(label) > 0 else -1 for label in val_targets]\n",
    "original_labels_valid = [label_mapping_valid[label] for label in val_targets_indices]\n",
    "\n",
    "print(\"\\n\")\n",
    "print(\"================= LSTM NN SCORES =================\")\n",
    "print(classification_report(original_labels_valid,original_label_predictions_valid_lstm))\n",
    "\n",
    "lstm_f1 = f1_score(original_labels_valid,original_label_predictions_valid_lstm,average='micro')\n",
    "f1_scores['lstm'] = lstm_f1\n",
    "valid_preds['lstm'] = original_label_predictions_valid_lstm\n",
    "test_preds['lstm'] = original_label_predictions_test_lstm\n",
    "print(\"accuracy: \",accuracy_score(original_labels_valid,original_label_predictions_valid_lstm))\n",
    "print(\"f1: \",f1_score(original_labels_valid,original_label_predictions_valid_lstm,average='micro'))\n",
    "print(\"total f1: \",f1_score(original_labels_valid,original_label_predictions_valid_lstm,average=None))"
   ]
  },
  {
   "cell_type": "code",
   "execution_count": 20,
   "id": "9c85df2e",
   "metadata": {
    "execution": {
     "iopub.execute_input": "2024-01-25T17:37:56.137763Z",
     "iopub.status.busy": "2024-01-25T17:37:56.137264Z",
     "iopub.status.idle": "2024-01-25T17:41:32.426703Z",
     "shell.execute_reply": "2024-01-25T17:41:32.425083Z"
    },
    "papermill": {
     "duration": 216.330819,
     "end_time": "2024-01-25T17:41:32.429917",
     "exception": false,
     "start_time": "2024-01-25T17:37:56.099098",
     "status": "completed"
    },
    "tags": []
   },
   "outputs": [
    {
     "name": "stdout",
     "output_type": "stream",
     "text": [
      "Epoch   0 \t\t Training Loss: 1.09429 \t\t Validation Loss: 1.09110\n",
      "Epoch   1 \t\t Training Loss: 1.09135 \t\t Validation Loss: 1.08788\n",
      "Epoch   2 \t\t Training Loss: 1.09025 \t\t Validation Loss: 1.09046\n",
      "Epoch   3 \t\t Training Loss: 1.08881 \t\t Validation Loss: 1.08538\n",
      "Epoch   4 \t\t Training Loss: 1.08697 \t\t Validation Loss: 1.08643\n",
      "Epoch   5 \t\t Training Loss: 1.08564 \t\t Validation Loss: 1.08210\n",
      "Epoch   6 \t\t Training Loss: 1.08437 \t\t Validation Loss: 1.08163\n",
      "Epoch   7 \t\t Training Loss: 1.08399 \t\t Validation Loss: 1.07866\n",
      "Epoch   8 \t\t Training Loss: 1.08336 \t\t Validation Loss: 1.07993\n",
      "Epoch   9 \t\t Training Loss: 1.08243 \t\t Validation Loss: 1.08151\n",
      "Epoch  10 \t\t Training Loss: 1.08292 \t\t Validation Loss: 1.08017\n",
      "Epoch  11 \t\t Training Loss: 1.08138 \t\t Validation Loss: 1.07911\n",
      "Epoch  12 \t\t Training Loss: 1.08171 \t\t Validation Loss: 1.08031\n",
      "Epoch  13 \t\t Training Loss: 1.08064 \t\t Validation Loss: 1.07853\n",
      "Epoch  14 \t\t Training Loss: 1.08065 \t\t Validation Loss: 1.07934\n",
      "Epoch  15 \t\t Training Loss: 1.07976 \t\t Validation Loss: 1.07703\n",
      "Epoch  16 \t\t Training Loss: 1.07948 \t\t Validation Loss: 1.07828\n",
      "Epoch  17 \t\t Training Loss: 1.07965 \t\t Validation Loss: 1.08053\n",
      "Epoch  18 \t\t Training Loss: 1.07926 \t\t Validation Loss: 1.07917\n",
      "Epoch  19 \t\t Training Loss: 1.07866 \t\t Validation Loss: 1.07731\n",
      "Epoch  20 \t\t Training Loss: 1.07820 \t\t Validation Loss: 1.07776\n",
      "Epoch  21 \t\t Training Loss: 1.07750 \t\t Validation Loss: 1.07783\n",
      "Epoch  22 \t\t Training Loss: 1.07743 \t\t Validation Loss: 1.07845\n",
      "Epoch  23 \t\t Training Loss: 1.07631 \t\t Validation Loss: 1.07809\n",
      "Epoch  24 \t\t Training Loss: 1.07647 \t\t Validation Loss: 1.07717\n",
      "Epoch  25 \t\t Training Loss: 1.07613 \t\t Validation Loss: 1.07703\n",
      "Epoch  26 \t\t Training Loss: 1.07560 \t\t Validation Loss: 1.07665\n",
      "Epoch  27 \t\t Training Loss: 1.07497 \t\t Validation Loss: 1.07803\n",
      "Epoch  28 \t\t Training Loss: 1.07511 \t\t Validation Loss: 1.07496\n",
      "Epoch  29 \t\t Training Loss: 1.07433 \t\t Validation Loss: 1.07685\n",
      "Epoch  30 \t\t Training Loss: 1.07371 \t\t Validation Loss: 1.07569\n",
      "Epoch  31 \t\t Training Loss: 1.07308 \t\t Validation Loss: 1.07621\n",
      "Epoch  32 \t\t Training Loss: 1.07344 \t\t Validation Loss: 1.07707\n",
      "Epoch  33 \t\t Training Loss: 1.07267 \t\t Validation Loss: 1.07892\n",
      "Epoch  34 \t\t Training Loss: 1.07213 \t\t Validation Loss: 1.07863\n",
      "Epoch  35 \t\t Training Loss: 1.07139 \t\t Validation Loss: 1.07942\n",
      "Epoch  36 \t\t Training Loss: 1.07121 \t\t Validation Loss: 1.07793\n",
      "Epoch  37 \t\t Training Loss: 1.07016 \t\t Validation Loss: 1.07911\n",
      "Epoch  38 \t\t Training Loss: 1.07001 \t\t Validation Loss: 1.07982\n",
      "Epoch  39 \t\t Training Loss: 1.06961 \t\t Validation Loss: 1.07780\n",
      "Epoch  40 \t\t Training Loss: 1.06844 \t\t Validation Loss: 1.08010\n",
      "Epoch  41 \t\t Training Loss: 1.06844 \t\t Validation Loss: 1.07682\n",
      "Epoch  42 \t\t Training Loss: 1.06769 \t\t Validation Loss: 1.08013\n",
      "Epoch  43 \t\t Training Loss: 1.06644 \t\t Validation Loss: 1.07770\n",
      "Epoch  44 \t\t Training Loss: 1.06597 \t\t Validation Loss: 1.07801\n",
      "Epoch  45 \t\t Training Loss: 1.06523 \t\t Validation Loss: 1.07647\n",
      "Epoch  46 \t\t Training Loss: 1.06498 \t\t Validation Loss: 1.07836\n",
      "Epoch  47 \t\t Training Loss: 1.06361 \t\t Validation Loss: 1.08074\n",
      "Epoch  48 \t\t Training Loss: 1.06413 \t\t Validation Loss: 1.08140\n",
      "Epoch  49 \t\t Training Loss: 1.06294 \t\t Validation Loss: 1.08056\n",
      "Epoch  50 \t\t Training Loss: 1.06120 \t\t Validation Loss: 1.08174\n",
      "Epoch  51 \t\t Training Loss: 1.06121 \t\t Validation Loss: 1.07992\n",
      "Epoch  52 \t\t Training Loss: 1.06004 \t\t Validation Loss: 1.08410\n",
      "Epoch  53 \t\t Training Loss: 1.05922 \t\t Validation Loss: 1.08119\n",
      "Epoch  54 \t\t Training Loss: 1.05794 \t\t Validation Loss: 1.08530\n",
      "Epoch  55 \t\t Training Loss: 1.05878 \t\t Validation Loss: 1.08138\n",
      "Epoch  56 \t\t Training Loss: 1.05619 \t\t Validation Loss: 1.08257\n",
      "Epoch  57 \t\t Training Loss: 1.05470 \t\t Validation Loss: 1.08267\n",
      "Epoch  58 \t\t Training Loss: 1.05430 \t\t Validation Loss: 1.08945\n",
      "Epoch  59 \t\t Training Loss: 1.05377 \t\t Validation Loss: 1.08202\n",
      "\n",
      "\n",
      "================= RNN SCORES =================\n",
      "              precision    recall  f1-score   support\n",
      "\n",
      "    NEGATIVE       0.39      0.52      0.44      1744\n",
      "     NEUTRAL       0.40      0.36      0.38      1744\n",
      "    POSITIVE       0.40      0.29      0.34      1744\n",
      "\n",
      "    accuracy                           0.39      5232\n",
      "   macro avg       0.39      0.39      0.39      5232\n",
      "weighted avg       0.39      0.39      0.39      5232\n",
      "\n",
      "accuracy:  0.3929663608562691\n",
      "f1:  0.3929663608562691\n",
      "total f1:  [0.44379562 0.38012571 0.33786923]\n"
     ]
    }
   ],
   "source": [
    "# RNN Run\n",
    "# Hyperparameters\n",
    "input_size = 100 \n",
    "hidden_size = 50  \n",
    "output_size = 3 \n",
    "learning_rate = 0.001\n",
    "epochs = 15\n",
    "num_hidden_layers = 2\n",
    "\n",
    "# Create the model, loss function, and optimizer\n",
    "cell_type = 'RNN'\n",
    "# net = RNN(cell_type, input_size, hidden_size, output_size) # \n",
    "rnn_model = RNN(cell_type,input_size, hidden_size, output_size, num_hidden_layers)\n",
    "loss_func = nn.CrossEntropyLoss()\n",
    "optimizer = torch.optim.Adam(rnn_model.parameters(), lr=learning_rate)\n",
    "\n",
    "\n",
    "for epoch in range(60):\n",
    "    batch_losses = []\n",
    "    for x_batch, y_batch in train_dataloader:\n",
    "        y_pred = rnn_model(x_batch)\n",
    "\n",
    "        loss = loss_func(y_pred, y_batch)\n",
    "        batch_losses.append(loss.item())\n",
    "        # print('y_pred=', y_pred[0])\n",
    "        #Delete previously stored gradients\n",
    "        optimizer.zero_grad()\n",
    "        #Perform backpropagation starting from the loss calculated in this epoch\n",
    "        \n",
    "        loss.backward()\n",
    "        #Update model's weights based on the gradients calculated during backprop\n",
    "        optimizer.step()\n",
    "    \n",
    "#     print(f\"Epoch {epoch:3}: Loss = {sum(batch_losses)/len(train_dataloader):.5f}\")\n",
    "    \n",
    "    rnn_model.eval()\n",
    "    with torch.no_grad():\n",
    "        valid_batch_losses = []\n",
    "        for x_batch, y_batch in valid_dataloader:\n",
    "            y_pred_valid = rnn_model(x_batch)\n",
    "            # Compute and print/validation loss or other metrics\n",
    "            valid_loss = loss_func(y_pred_valid, y_batch)\n",
    "            valid_batch_losses.append(valid_loss.item())\n",
    "    \n",
    "    # Check validation loss to make sure we don't get overfitting\n",
    "    print(f'Epoch {epoch:3} \\t\\t Training Loss: {sum(batch_losses)/len(train_dataloader):.5f} \\t\\t Validation Loss: {sum(valid_batch_losses) / len(valid_dataloader):.5f}')\n",
    "\n",
    "\n",
    "# Test set predictions\n",
    "# Generate test predictions and evaluate test set\n",
    "rnn_model.eval()\n",
    "predictions_test = []\n",
    "\n",
    "# test results, labels for submission.csv\n",
    "with torch.no_grad():\n",
    "    for inputs in test_dataloader:\n",
    "        for tensor in inputs:\n",
    "            outputs = rnn_model(tensor)\n",
    "            _, predicted = torch.max(outputs, 1)\n",
    "\n",
    "            predictions_test.extend(predicted.tolist())\n",
    "    \n",
    "# convert 0,1,2 predictions to their original text form (POSITIVE, NEUTRAL , NEGATIVE)\n",
    "# these will also be put in the submission.csv\n",
    "original_label_predictions_test_rnn = [label_mapping_train[pred] for pred in predictions_test]\n",
    "\n",
    "# Generate valid predictions\n",
    "predictions_valid = []\n",
    "\n",
    "val_targets = []\n",
    "rnn_model.eval()\n",
    "# valid results for evaluation\n",
    "with torch.no_grad():\n",
    "    for x_batch, y_batch in valid_dataloader:\n",
    "        outputs = rnn_model(x_batch)\n",
    "        _, predicted = torch.max(outputs, 1)\n",
    "\n",
    "        predictions_valid.extend(predicted.tolist())\n",
    "        val_targets.extend(y_batch.tolist())\n",
    "    \n",
    "# convert indexes to respective labels and predictions to respective label (POSITIVE, NEGATIVE, NEUTRAL) and feed them to the metric functions \n",
    "original_label_predictions_valid_rnn = [label_mapping_valid[pred] for pred in predictions_valid]\n",
    "val_targets_indices = [np.argmax(label) if np.sum(label) > 0 else -1 for label in val_targets]\n",
    "original_labels_valid = [label_mapping_valid[label] for label in val_targets_indices]\n",
    "\n",
    "print(\"\\n\")\n",
    "print(\"================= RNN SCORES =================\")\n",
    "print(classification_report(original_labels_valid,original_label_predictions_valid_rnn))\n",
    "\n",
    "rnn_f1 = f1_score(original_labels_valid,original_label_predictions_valid_rnn,average='micro')\n",
    "f1_scores['rnn'] = rnn_f1\n",
    "valid_preds['rnn'] = original_label_predictions_valid_rnn\n",
    "test_preds['rnn'] = original_label_predictions_test_rnn\n",
    "print(\"accuracy: \",accuracy_score(original_labels_valid,original_label_predictions_valid_rnn))\n",
    "print(\"f1: \",f1_score(original_labels_valid,original_label_predictions_valid_rnn,average='micro'))\n",
    "print(\"total f1: \",f1_score(original_labels_valid,original_label_predictions_valid_rnn,average=None))"
   ]
  },
  {
   "cell_type": "code",
   "execution_count": 21,
   "id": "332a9eb4",
   "metadata": {
    "execution": {
     "iopub.execute_input": "2024-01-25T17:41:32.517598Z",
     "iopub.status.busy": "2024-01-25T17:41:32.517111Z",
     "iopub.status.idle": "2024-01-25T17:46:17.847954Z",
     "shell.execute_reply": "2024-01-25T17:46:17.846613Z"
    },
    "papermill": {
     "duration": 285.379284,
     "end_time": "2024-01-25T17:46:17.851135",
     "exception": false,
     "start_time": "2024-01-25T17:41:32.471851",
     "status": "completed"
    },
    "tags": []
   },
   "outputs": [
    {
     "name": "stdout",
     "output_type": "stream",
     "text": [
      "Epoch   0 \t\t Training Loss: 1.09387 \t\t Validation Loss: 1.08924\n",
      "Epoch   1 \t\t Training Loss: 1.09081 \t\t Validation Loss: 1.08811\n",
      "Epoch   2 \t\t Training Loss: 1.08974 \t\t Validation Loss: 1.08806\n",
      "Epoch   3 \t\t Training Loss: 1.08807 \t\t Validation Loss: 1.08522\n",
      "Epoch   4 \t\t Training Loss: 1.08656 \t\t Validation Loss: 1.08603\n",
      "Epoch   5 \t\t Training Loss: 1.08487 \t\t Validation Loss: 1.08167\n",
      "Epoch   6 \t\t Training Loss: 1.08450 \t\t Validation Loss: 1.08119\n",
      "Epoch   7 \t\t Training Loss: 1.08326 \t\t Validation Loss: 1.08069\n",
      "Epoch   8 \t\t Training Loss: 1.08212 \t\t Validation Loss: 1.08035\n",
      "Epoch   9 \t\t Training Loss: 1.08223 \t\t Validation Loss: 1.08246\n",
      "Epoch  10 \t\t Training Loss: 1.08164 \t\t Validation Loss: 1.07905\n",
      "Epoch  11 \t\t Training Loss: 1.08124 \t\t Validation Loss: 1.07919\n",
      "Epoch  12 \t\t Training Loss: 1.08081 \t\t Validation Loss: 1.07963\n",
      "Epoch  13 \t\t Training Loss: 1.08050 \t\t Validation Loss: 1.07707\n",
      "Epoch  14 \t\t Training Loss: 1.08036 \t\t Validation Loss: 1.07745\n",
      "Epoch  15 \t\t Training Loss: 1.07945 \t\t Validation Loss: 1.07666\n",
      "Epoch  16 \t\t Training Loss: 1.07938 \t\t Validation Loss: 1.07771\n",
      "Epoch  17 \t\t Training Loss: 1.07851 \t\t Validation Loss: 1.07584\n",
      "Epoch  18 \t\t Training Loss: 1.07913 \t\t Validation Loss: 1.07535\n",
      "Epoch  19 \t\t Training Loss: 1.07789 \t\t Validation Loss: 1.07441\n",
      "Epoch  20 \t\t Training Loss: 1.07797 \t\t Validation Loss: 1.07617\n",
      "Epoch  21 \t\t Training Loss: 1.07710 \t\t Validation Loss: 1.07719\n",
      "Epoch  22 \t\t Training Loss: 1.07723 \t\t Validation Loss: 1.07855\n",
      "Epoch  23 \t\t Training Loss: 1.07664 \t\t Validation Loss: 1.07556\n",
      "Epoch  24 \t\t Training Loss: 1.07640 \t\t Validation Loss: 1.07530\n",
      "Epoch  25 \t\t Training Loss: 1.07555 \t\t Validation Loss: 1.07483\n",
      "Epoch  26 \t\t Training Loss: 1.07549 \t\t Validation Loss: 1.07358\n",
      "Epoch  27 \t\t Training Loss: 1.07518 \t\t Validation Loss: 1.07513\n",
      "Epoch  28 \t\t Training Loss: 1.07473 \t\t Validation Loss: 1.07368\n",
      "Epoch  29 \t\t Training Loss: 1.07369 \t\t Validation Loss: 1.07271\n",
      "Epoch  30 \t\t Training Loss: 1.07385 \t\t Validation Loss: 1.07603\n",
      "Epoch  31 \t\t Training Loss: 1.07355 \t\t Validation Loss: 1.07562\n",
      "Epoch  32 \t\t Training Loss: 1.07361 \t\t Validation Loss: 1.07509\n",
      "Epoch  33 \t\t Training Loss: 1.07254 \t\t Validation Loss: 1.07507\n",
      "Epoch  34 \t\t Training Loss: 1.07204 \t\t Validation Loss: 1.07752\n",
      "Epoch  35 \t\t Training Loss: 1.07178 \t\t Validation Loss: 1.07624\n",
      "Epoch  36 \t\t Training Loss: 1.07146 \t\t Validation Loss: 1.07391\n",
      "Epoch  37 \t\t Training Loss: 1.07036 \t\t Validation Loss: 1.07683\n",
      "Epoch  38 \t\t Training Loss: 1.07059 \t\t Validation Loss: 1.07264\n",
      "Epoch  39 \t\t Training Loss: 1.06983 \t\t Validation Loss: 1.07658\n",
      "Epoch  40 \t\t Training Loss: 1.06968 \t\t Validation Loss: 1.07454\n",
      "Epoch  41 \t\t Training Loss: 1.06851 \t\t Validation Loss: 1.07542\n",
      "Epoch  42 \t\t Training Loss: 1.06884 \t\t Validation Loss: 1.07529\n",
      "Epoch  43 \t\t Training Loss: 1.06774 \t\t Validation Loss: 1.07521\n",
      "Epoch  44 \t\t Training Loss: 1.06783 \t\t Validation Loss: 1.07458\n",
      "Epoch  45 \t\t Training Loss: 1.06614 \t\t Validation Loss: 1.07857\n",
      "Epoch  46 \t\t Training Loss: 1.06621 \t\t Validation Loss: 1.07716\n",
      "Epoch  47 \t\t Training Loss: 1.06644 \t\t Validation Loss: 1.07478\n",
      "Epoch  48 \t\t Training Loss: 1.06480 \t\t Validation Loss: 1.07791\n",
      "Epoch  49 \t\t Training Loss: 1.06410 \t\t Validation Loss: 1.07629\n",
      "Epoch  50 \t\t Training Loss: 1.06402 \t\t Validation Loss: 1.07636\n",
      "Epoch  51 \t\t Training Loss: 1.06329 \t\t Validation Loss: 1.07743\n",
      "Epoch  52 \t\t Training Loss: 1.06238 \t\t Validation Loss: 1.07799\n",
      "Epoch  53 \t\t Training Loss: 1.06140 \t\t Validation Loss: 1.07707\n",
      "Epoch  54 \t\t Training Loss: 1.06027 \t\t Validation Loss: 1.08135\n",
      "Epoch  55 \t\t Training Loss: 1.05875 \t\t Validation Loss: 1.08155\n",
      "Epoch  56 \t\t Training Loss: 1.05977 \t\t Validation Loss: 1.07950\n",
      "Epoch  57 \t\t Training Loss: 1.05816 \t\t Validation Loss: 1.08210\n",
      "Epoch  58 \t\t Training Loss: 1.05683 \t\t Validation Loss: 1.08064\n",
      "Epoch  59 \t\t Training Loss: 1.05650 \t\t Validation Loss: 1.08046\n",
      "\n",
      "\n",
      "================= GRU SCORES =================\n",
      "              precision    recall  f1-score   support\n",
      "\n",
      "    NEGATIVE       0.39      0.56      0.46      1744\n",
      "     NEUTRAL       0.41      0.36      0.38      1744\n",
      "    POSITIVE       0.41      0.28      0.34      1744\n",
      "\n",
      "    accuracy                           0.40      5232\n",
      "   macro avg       0.40      0.40      0.39      5232\n",
      "weighted avg       0.40      0.40      0.39      5232\n",
      "\n",
      "accuracy:  0.4013761467889908\n",
      "f1:  0.4013761467889908\n",
      "total f1:  [0.4592803  0.3847319  0.33684927]\n"
     ]
    }
   ],
   "source": [
    "# GRU Run\n",
    "# Hyperparameters\n",
    "input_size = 100 \n",
    "hidden_size = 50  \n",
    "output_size = 3 \n",
    "learning_rate = 0.001\n",
    "epochs = 15\n",
    "num_hidden_layers = 2\n",
    "\n",
    "# Create the model, loss function, and optimizer\n",
    "cell_type = 'GRU'\n",
    "# net = RNN(cell_type, input_size, hidden_size, output_size) # \n",
    "gru_model = RNN(cell_type,input_size, hidden_size, output_size, num_hidden_layers)\n",
    "loss_func = nn.CrossEntropyLoss()\n",
    "optimizer = torch.optim.Adam(gru_model.parameters(), lr=learning_rate)\n",
    "\n",
    "\n",
    "for epoch in range(60):\n",
    "    batch_losses = []\n",
    "    for x_batch, y_batch in train_dataloader:\n",
    "        y_pred = gru_model(x_batch)\n",
    "\n",
    "        loss = loss_func(y_pred, y_batch)\n",
    "        batch_losses.append(loss.item())\n",
    "        # print('y_pred=', y_pred[0])\n",
    "        #Delete previously stored gradients\n",
    "        optimizer.zero_grad()\n",
    "        #Perform backpropagation starting from the loss calculated in this epoch\n",
    "        \n",
    "        loss.backward()\n",
    "        #Update model's weights based on the gradients calculated during backprop\n",
    "        optimizer.step()\n",
    "    \n",
    "#     print(f\"Epoch {epoch:3}: Loss = {sum(batch_losses)/len(train_dataloader):.5f}\")\n",
    "    \n",
    "    gru_model.eval()\n",
    "    with torch.no_grad():\n",
    "        valid_batch_losses = []\n",
    "        for x_batch, y_batch in valid_dataloader:\n",
    "            y_pred_valid = gru_model(x_batch)\n",
    "            # Compute and print/validation loss or other metrics\n",
    "            valid_loss = loss_func(y_pred_valid, y_batch)\n",
    "            valid_batch_losses.append(valid_loss.item())\n",
    "    \n",
    "    # Check validation loss to make sure we don't get overfitting\n",
    "    print(f'Epoch {epoch:3} \\t\\t Training Loss: {sum(batch_losses)/len(train_dataloader):.5f} \\t\\t Validation Loss: {sum(valid_batch_losses) / len(valid_dataloader):.5f}')\n",
    "\n",
    "\n",
    "# Test set predictions\n",
    "# Generate test predictions and evaluate test set\n",
    "gru_model.eval()\n",
    "predictions_test = []\n",
    "\n",
    "# test results, labels for submission.csv\n",
    "with torch.no_grad():\n",
    "    for inputs in test_dataloader:\n",
    "        for tensor in inputs:\n",
    "            outputs = gru_model(tensor)\n",
    "            _, predicted = torch.max(outputs, 1)\n",
    "\n",
    "            predictions_test.extend(predicted.tolist())\n",
    "    \n",
    "# convert 0,1,2 predictions to their original text form (POSITIVE, NEUTRAL , NEGATIVE)\n",
    "# these will also be put in the submission.csv\n",
    "original_label_predictions_test_gru = [label_mapping_train[pred] for pred in predictions_test]\n",
    "\n",
    "# Generate valid predictions\n",
    "predictions_valid = []\n",
    "\n",
    "val_targets = []\n",
    "gru_model.eval()\n",
    "# valid results for evaluation\n",
    "with torch.no_grad():\n",
    "    for x_batch, y_batch in valid_dataloader:\n",
    "        outputs = gru_model(x_batch)\n",
    "        _, predicted = torch.max(outputs, 1)\n",
    "\n",
    "        predictions_valid.extend(predicted.tolist())\n",
    "        val_targets.extend(y_batch.tolist())\n",
    "    \n",
    "# convert indexes to respective labels and predictions to respective label (POSITIVE, NEGATIVE, NEUTRAL) and feed them to the metric functions \n",
    "original_label_predictions_valid = [label_mapping_valid[pred] for pred in predictions_valid]\n",
    "val_targets_indices = [np.argmax(label) if np.sum(label) > 0 else -1 for label in val_targets]\n",
    "original_labels_valid = [label_mapping_valid[label] for label in val_targets_indices]\n",
    "\n",
    "print(\"\\n\")\n",
    "print(\"================= GRU SCORES =================\")\n",
    "print(classification_report(original_labels_valid,original_label_predictions_valid))\n",
    "\n",
    "gru_accuracy = accuracy_score(original_labels_valid,original_label_predictions_valid)\n",
    "f1_scores['gru'] = gru_accuracy\n",
    "valid_preds['gru'] = original_label_predictions_valid\n",
    "test_preds['gru'] = original_label_predictions_test_gru\n",
    "print(\"accuracy: \",accuracy_score(original_labels_valid,original_label_predictions_valid))\n",
    "print(\"f1: \",f1_score(original_labels_valid,original_label_predictions_valid,average='micro'))\n",
    "print(\"total f1: \",f1_score(original_labels_valid,original_label_predictions_valid,average=None))"
   ]
  },
  {
   "cell_type": "markdown",
   "id": "b330681b",
   "metadata": {
    "papermill": {
     "duration": 0.047144,
     "end_time": "2024-01-25T17:46:17.946089",
     "exception": false,
     "start_time": "2024-01-25T17:46:17.898945",
     "status": "completed"
    },
    "tags": []
   },
   "source": [
    "## Testing skip connections LSTM"
   ]
  },
  {
   "cell_type": "code",
   "execution_count": 22,
   "id": "d2fb0e93",
   "metadata": {
    "execution": {
     "iopub.execute_input": "2024-01-25T17:46:18.050280Z",
     "iopub.status.busy": "2024-01-25T17:46:18.049840Z",
     "iopub.status.idle": "2024-01-25T17:46:18.064127Z",
     "shell.execute_reply": "2024-01-25T17:46:18.062240Z"
    },
    "papermill": {
     "duration": 0.072709,
     "end_time": "2024-01-25T17:46:18.067379",
     "exception": false,
     "start_time": "2024-01-25T17:46:17.994670",
     "status": "completed"
    },
    "tags": []
   },
   "outputs": [],
   "source": [
    "# RNN stacked bi-directional model\n",
    "class RNN_skip(nn.Module):\n",
    "    def __init__(self, cell_type, input_size, hidden_size, output_size, num_hidden_layers):\n",
    "        super(RNN_skip, self).__init__()\n",
    "        \n",
    "        cells = {\n",
    "          \"RNN\" : nn.RNN,\n",
    "          \"LSTM\"    : nn.LSTM,\n",
    "          \"GRU\"     : nn.GRU\n",
    "        }\n",
    "\n",
    "        self.cell_type = cell_type\n",
    "\n",
    "        self.rnn = cells[cell_type](         # Pick the specific model\n",
    "            input_size = input_size,           # Number of features for each time step\n",
    "            hidden_size = hidden_size,         # rnn hidden units\n",
    "            batch_first = True, # input & output will have batch size as 1s dimension. e.g. (batch, time_step, input_size)\n",
    "            bidirectional = True, # making RNN bidirectional\n",
    "            num_layers = num_hidden_layers, # Making RNN stacked with additional layers\n",
    "            dropout = 0.2 # Using dropout\n",
    "        )\n",
    "        \n",
    "#         self.lstm = nn.LSTM(input_size, hidden_size, batch_first=True,bidirectional=True,num_layers=2,dropout=0.2)\n",
    "        \n",
    "        # Adding more hidden layers based on parameter\n",
    "        self.hidden_layers = nn.ModuleList()\n",
    "        for _ in range(num_hidden_layers):\n",
    "            self.hidden_layers.append(nn.Linear(hidden_size * 2, hidden_size * 2))\n",
    "        \n",
    "        self.fc = nn.Linear(hidden_size * 2, output_size)\n",
    "\n",
    "    def forward(self, x):\n",
    "        if self.cell_type == 'LSTM':\n",
    "            r_out, (h_n, h_c) = self.rnn(x)\n",
    "        else:\n",
    "            r_out, h_n = self.rnn(x)\n",
    "#         r_out, _ = self.lstm(x)\n",
    "        \n",
    "        skip_connection = x\n",
    "        # Pass through additional hidden layers with ReLU activation\n",
    "        for layer in self.hidden_layers:\n",
    "            r_out = F.relu(layer(r_out))\n",
    "            # adding skip connections\n",
    "            r_out = r_out + skip_connection\n",
    "        \n",
    "        output = self.fc(r_out[:, -1, :])  # Take the output from the last time step\n",
    "        return output"
   ]
  },
  {
   "cell_type": "code",
   "execution_count": 23,
   "id": "e9e768ff",
   "metadata": {
    "execution": {
     "iopub.execute_input": "2024-01-25T17:46:18.163404Z",
     "iopub.status.busy": "2024-01-25T17:46:18.162501Z",
     "iopub.status.idle": "2024-01-25T17:52:40.341214Z",
     "shell.execute_reply": "2024-01-25T17:52:40.339529Z"
    },
    "papermill": {
     "duration": 382.23115,
     "end_time": "2024-01-25T17:52:40.344406",
     "exception": false,
     "start_time": "2024-01-25T17:46:18.113256",
     "status": "completed"
    },
    "tags": []
   },
   "outputs": [
    {
     "name": "stdout",
     "output_type": "stream",
     "text": [
      "Epoch   0 \t\t Training Loss: 1.09580 \t\t Validation Loss: 1.09023\n",
      "Epoch   1 \t\t Training Loss: 1.09163 \t\t Validation Loss: 1.09550\n",
      "Epoch   2 \t\t Training Loss: 1.08996 \t\t Validation Loss: 1.09010\n",
      "Epoch   3 \t\t Training Loss: 1.08817 \t\t Validation Loss: 1.08325\n",
      "Epoch   4 \t\t Training Loss: 1.08709 \t\t Validation Loss: 1.08521\n",
      "Epoch   5 \t\t Training Loss: 1.08538 \t\t Validation Loss: 1.08168\n",
      "Epoch   6 \t\t Training Loss: 1.08462 \t\t Validation Loss: 1.08013\n",
      "Epoch   7 \t\t Training Loss: 1.08441 \t\t Validation Loss: 1.08201\n",
      "Epoch   8 \t\t Training Loss: 1.08334 \t\t Validation Loss: 1.08208\n",
      "Epoch   9 \t\t Training Loss: 1.08285 \t\t Validation Loss: 1.07960\n",
      "Epoch  10 \t\t Training Loss: 1.08212 \t\t Validation Loss: 1.07775\n",
      "Epoch  11 \t\t Training Loss: 1.08200 \t\t Validation Loss: 1.07947\n",
      "Epoch  12 \t\t Training Loss: 1.08141 \t\t Validation Loss: 1.08264\n",
      "Epoch  13 \t\t Training Loss: 1.08097 \t\t Validation Loss: 1.07910\n",
      "Epoch  14 \t\t Training Loss: 1.08077 \t\t Validation Loss: 1.07894\n",
      "Epoch  15 \t\t Training Loss: 1.08016 \t\t Validation Loss: 1.07850\n",
      "Epoch  16 \t\t Training Loss: 1.07958 \t\t Validation Loss: 1.07762\n",
      "Epoch  17 \t\t Training Loss: 1.07955 \t\t Validation Loss: 1.08138\n",
      "Epoch  18 \t\t Training Loss: 1.07924 \t\t Validation Loss: 1.08224\n",
      "Epoch  19 \t\t Training Loss: 1.07908 \t\t Validation Loss: 1.07886\n",
      "Epoch  20 \t\t Training Loss: 1.07843 \t\t Validation Loss: 1.07620\n",
      "Epoch  21 \t\t Training Loss: 1.07752 \t\t Validation Loss: 1.08271\n",
      "Epoch  22 \t\t Training Loss: 1.07795 \t\t Validation Loss: 1.07661\n",
      "Epoch  23 \t\t Training Loss: 1.07773 \t\t Validation Loss: 1.07693\n",
      "Epoch  24 \t\t Training Loss: 1.07765 \t\t Validation Loss: 1.07722\n",
      "Epoch  25 \t\t Training Loss: 1.07714 \t\t Validation Loss: 1.07616\n",
      "Epoch  26 \t\t Training Loss: 1.07671 \t\t Validation Loss: 1.08248\n",
      "Epoch  27 \t\t Training Loss: 1.07643 \t\t Validation Loss: 1.07585\n",
      "Epoch  28 \t\t Training Loss: 1.07624 \t\t Validation Loss: 1.07735\n",
      "Epoch  29 \t\t Training Loss: 1.07533 \t\t Validation Loss: 1.07644\n",
      "Epoch  30 \t\t Training Loss: 1.07479 \t\t Validation Loss: 1.07507\n",
      "Epoch  31 \t\t Training Loss: 1.07522 \t\t Validation Loss: 1.07747\n",
      "Epoch  32 \t\t Training Loss: 1.07490 \t\t Validation Loss: 1.07806\n",
      "Epoch  33 \t\t Training Loss: 1.07444 \t\t Validation Loss: 1.07981\n",
      "Epoch  34 \t\t Training Loss: 1.07369 \t\t Validation Loss: 1.07897\n",
      "Epoch  35 \t\t Training Loss: 1.07326 \t\t Validation Loss: 1.07777\n",
      "Epoch  36 \t\t Training Loss: 1.07356 \t\t Validation Loss: 1.07708\n",
      "Epoch  37 \t\t Training Loss: 1.07309 \t\t Validation Loss: 1.07573\n",
      "Epoch  38 \t\t Training Loss: 1.07266 \t\t Validation Loss: 1.07670\n",
      "Epoch  39 \t\t Training Loss: 1.07239 \t\t Validation Loss: 1.07567\n",
      "Epoch  40 \t\t Training Loss: 1.07215 \t\t Validation Loss: 1.07523\n",
      "Epoch  41 \t\t Training Loss: 1.07173 \t\t Validation Loss: 1.07453\n",
      "Epoch  42 \t\t Training Loss: 1.07125 \t\t Validation Loss: 1.07748\n",
      "Epoch  43 \t\t Training Loss: 1.07061 \t\t Validation Loss: 1.07738\n",
      "Epoch  44 \t\t Training Loss: 1.07076 \t\t Validation Loss: 1.07482\n",
      "Epoch  45 \t\t Training Loss: 1.06986 \t\t Validation Loss: 1.07573\n",
      "Epoch  46 \t\t Training Loss: 1.06917 \t\t Validation Loss: 1.08025\n",
      "Epoch  47 \t\t Training Loss: 1.06997 \t\t Validation Loss: 1.07766\n",
      "Epoch  48 \t\t Training Loss: 1.06966 \t\t Validation Loss: 1.07828\n",
      "Epoch  49 \t\t Training Loss: 1.06858 \t\t Validation Loss: 1.07910\n",
      "Epoch  50 \t\t Training Loss: 1.06808 \t\t Validation Loss: 1.07782\n",
      "Epoch  51 \t\t Training Loss: 1.06822 \t\t Validation Loss: 1.08039\n",
      "Epoch  52 \t\t Training Loss: 1.06818 \t\t Validation Loss: 1.08143\n",
      "Epoch  53 \t\t Training Loss: 1.06717 \t\t Validation Loss: 1.07844\n",
      "Epoch  54 \t\t Training Loss: 1.06652 \t\t Validation Loss: 1.07579\n",
      "Epoch  55 \t\t Training Loss: 1.06627 \t\t Validation Loss: 1.08719\n",
      "Epoch  56 \t\t Training Loss: 1.06633 \t\t Validation Loss: 1.08168\n",
      "Epoch  57 \t\t Training Loss: 1.06566 \t\t Validation Loss: 1.08038\n",
      "Epoch  58 \t\t Training Loss: 1.06572 \t\t Validation Loss: 1.07941\n",
      "Epoch  59 \t\t Training Loss: 1.06475 \t\t Validation Loss: 1.08142\n",
      "\n",
      "\n",
      "================= LSTM (SKIP CONNECTIONS) NN SCORES =================\n",
      "              precision    recall  f1-score   support\n",
      "\n",
      "    NEGATIVE       0.40      0.42      0.41      1744\n",
      "     NEUTRAL       0.38      0.47      0.42      1744\n",
      "    POSITIVE       0.39      0.27      0.32      1744\n",
      "\n",
      "    accuracy                           0.39      5232\n",
      "   macro avg       0.39      0.39      0.38      5232\n",
      "weighted avg       0.39      0.39      0.38      5232\n",
      "\n",
      "accuracy:  0.38704128440366975\n",
      "f1:  0.38704128440366975\n",
      "total f1:  [0.40988614 0.41880559 0.31625683]\n"
     ]
    }
   ],
   "source": [
    "# LSTM run (Skip connections)\n",
    "# Hyperparameters\n",
    "input_size = 100 \n",
    "hidden_size = 50  \n",
    "output_size = 3 \n",
    "learning_rate = 0.001\n",
    "num_hidden_layers = 2\n",
    "\n",
    "# Create the model, loss function, and optimizer\n",
    "cell_type = 'LSTM'\n",
    "# net = RNN(cell_type, input_size, hidden_size, output_size) # \n",
    "skip_model = RNN_skip(cell_type,input_size, hidden_size, output_size, num_hidden_layers)\n",
    "loss_func = nn.CrossEntropyLoss()\n",
    "optimizer = torch.optim.Adam(skip_model.parameters(), lr=learning_rate)\n",
    "\n",
    "\n",
    "predictions_valid = []\n",
    "val_targets = []\n",
    "for epoch in range(60):\n",
    "    batch_losses = []\n",
    "    for x_batch, y_batch in train_dataloader:\n",
    "        y_pred = skip_model(x_batch)\n",
    "\n",
    "        loss = loss_func(y_pred, y_batch)\n",
    "        batch_losses.append(loss.item())\n",
    "        # print('y_pred=', y_pred[0])\n",
    "        #Delete previously stored gradients\n",
    "        optimizer.zero_grad()\n",
    "        #Perform backpropagation starting from the loss calculated in this epoch\n",
    "        \n",
    "        loss.backward()\n",
    "        #Update model's weights based on the gradients calculated during backprop\n",
    "        optimizer.step()\n",
    "    \n",
    "#     print(f\"Epoch {epoch:3}: Loss = {sum(batch_losses)/len(train_dataloader):.5f}\")\n",
    "    \n",
    "    skip_model.eval()\n",
    "    with torch.no_grad():\n",
    "        valid_batch_losses = []\n",
    "        for x_batch, y_batch in valid_dataloader:\n",
    "            y_pred_valid = skip_model(x_batch)\n",
    "            # Compute and print/validation loss or other metrics\n",
    "            valid_loss = loss_func(y_pred_valid, y_batch)\n",
    "            valid_batch_losses.append(valid_loss.item())\n",
    "    \n",
    "    # Check validation loss to make sure we don't get overfitting\n",
    "    print(f'Epoch {epoch:3} \\t\\t Training Loss: {sum(batch_losses)/len(train_dataloader):.5f} \\t\\t Validation Loss: {sum(valid_batch_losses) / len(valid_dataloader):.5f}')\n",
    "\n",
    "\n",
    "# Test set predictions\n",
    "# Generate test predictions and evaluate test set\n",
    "skip_model.eval()\n",
    "predictions_test = []\n",
    "\n",
    "# test results, labels for submission.csv\n",
    "with torch.no_grad():\n",
    "    for inputs in test_dataloader:\n",
    "        for tensor in inputs:\n",
    "            outputs = skip_model(tensor)\n",
    "            _, predicted = torch.max(outputs, 1)\n",
    "\n",
    "            predictions_test.extend(predicted.tolist())\n",
    "    \n",
    "# convert 0,1,2 predictions to their original text form (POSITIVE, NEUTRAL , NEGATIVE)\n",
    "# these will also be put in the submission.csv\n",
    "original_label_predictions_test_skip = [label_mapping_train[pred] for pred in predictions_test]\n",
    "\n",
    "# Generate valid predictions\n",
    "predictions_valid = []\n",
    "\n",
    "val_targets = []\n",
    "skip_model.eval()\n",
    "# valid results for evaluation\n",
    "with torch.no_grad():\n",
    "    for x_batch, y_batch in valid_dataloader:\n",
    "        outputs = skip_model(x_batch)\n",
    "        _, predicted = torch.max(outputs, 1)\n",
    "\n",
    "        predictions_valid.extend(predicted.tolist())\n",
    "        val_targets.extend(y_batch.tolist())\n",
    "    \n",
    "# convert indexes to respective labels and predictions to respective label (POSITIVE, NEGATIVE, NEUTRAL) and feed them to the metric functions \n",
    "original_label_predictions_valid = [label_mapping_valid[pred] for pred in predictions_valid]\n",
    "val_targets_indices = [np.argmax(label) if np.sum(label) > 0 else -1 for label in val_targets]\n",
    "original_labels_valid = [label_mapping_valid[label] for label in val_targets_indices]\n",
    "\n",
    "print(\"\\n\")\n",
    "print(\"================= LSTM (SKIP CONNECTIONS) NN SCORES =================\")\n",
    "print(classification_report(original_labels_valid,original_label_predictions_valid))\n",
    "\n",
    "skip_connections_f1 = f1_score(original_labels_valid,original_label_predictions_valid,average='micro')\n",
    "f1_scores['skip'] = skip_connections_f1\n",
    "valid_preds['skip'] = original_label_predictions_valid\n",
    "test_preds['skip'] = original_label_predictions_test_skip\n",
    "print(\"accuracy: \",accuracy_score(original_labels_valid,original_label_predictions_valid))\n",
    "print(\"f1: \",f1_score(original_labels_valid,original_label_predictions_valid,average='micro'))\n",
    "print(\"total f1: \",f1_score(original_labels_valid,original_label_predictions_valid,average=None))"
   ]
  },
  {
   "cell_type": "markdown",
   "id": "4e749335",
   "metadata": {
    "papermill": {
     "duration": 0.051524,
     "end_time": "2024-01-25T17:52:40.450607",
     "exception": false,
     "start_time": "2024-01-25T17:52:40.399083",
     "status": "completed"
    },
    "tags": []
   },
   "source": [
    "## Gradient clipping LSTM test"
   ]
  },
  {
   "cell_type": "code",
   "execution_count": 24,
   "id": "f1f7184b",
   "metadata": {
    "execution": {
     "iopub.execute_input": "2024-01-25T17:52:40.565029Z",
     "iopub.status.busy": "2024-01-25T17:52:40.564501Z",
     "iopub.status.idle": "2024-01-25T17:52:40.579444Z",
     "shell.execute_reply": "2024-01-25T17:52:40.578264Z"
    },
    "papermill": {
     "duration": 0.074686,
     "end_time": "2024-01-25T17:52:40.583014",
     "exception": false,
     "start_time": "2024-01-25T17:52:40.508328",
     "status": "completed"
    },
    "tags": []
   },
   "outputs": [],
   "source": [
    "class RNN_grad_clip(nn.Module):\n",
    "    def __init__(self, cell_type, input_size, hidden_size, output_size, num_hidden_layers, clip_value):\n",
    "        super(RNN_grad_clip, self).__init__()\n",
    "        \n",
    "        cells = {\n",
    "          \"RNN\" : nn.RNN,\n",
    "          \"LSTM\"    : nn.LSTM,\n",
    "          \"GRU\"     : nn.GRU\n",
    "        }\n",
    "\n",
    "        self.cell_type = cell_type\n",
    "\n",
    "        self.rnn = cells[cell_type](         # Pick the specific model\n",
    "            input_size = input_size,           # Number of features for each time step\n",
    "            hidden_size = hidden_size,         # rnn hidden units\n",
    "            batch_first = True, # input & output will have batch size as 1s dimension. e.g. (batch, time_step, input_size)\n",
    "            bidirectional = True, # making RNN bidirectional\n",
    "            num_layers = num_hidden_layers, # Making RNN stacked with additional layers\n",
    "            dropout = 0.2 # Using dropout\n",
    "        )\n",
    "        \n",
    "#         self.lstm = nn.LSTM(input_size, hidden_size, batch_first=True,bidirectional=True,num_layers=2,dropout=0.2)\n",
    "        \n",
    "        # Adding more hidden layers based on parameter\n",
    "        self.hidden_layers = nn.ModuleList()\n",
    "        for _ in range(num_hidden_layers):\n",
    "            self.hidden_layers.append(nn.Linear(hidden_size * 2, hidden_size * 2))\n",
    "        \n",
    "        self.fc = nn.Linear(hidden_size * 2, output_size)\n",
    "\n",
    "        self.clip_value = clip_value\n",
    "        \n",
    "    def forward(self, x):\n",
    "        if self.cell_type == 'LSTM':\n",
    "            r_out, (h_n, h_c) = self.rnn(x)\n",
    "        else:\n",
    "            r_out, h_n = self.rnn(x)\n",
    "#         r_out, _ = self.lstm(x)\n",
    "        \n",
    "        # Pass through additional hidden layers with ReLU activation\n",
    "        for layer in self.hidden_layers:\n",
    "            r_out = F.relu(layer(r_out))\n",
    "        \n",
    "        output = self.fc(r_out[:, -1, :])  # Take the output from the last time step\n",
    "        return output"
   ]
  },
  {
   "cell_type": "code",
   "execution_count": 25,
   "id": "a7c35ac0",
   "metadata": {
    "execution": {
     "iopub.execute_input": "2024-01-25T17:52:40.697082Z",
     "iopub.status.busy": "2024-01-25T17:52:40.696381Z",
     "iopub.status.idle": "2024-01-25T17:59:14.763540Z",
     "shell.execute_reply": "2024-01-25T17:59:14.761841Z"
    },
    "papermill": {
     "duration": 394.129433,
     "end_time": "2024-01-25T17:59:14.767652",
     "exception": false,
     "start_time": "2024-01-25T17:52:40.638219",
     "status": "completed"
    },
    "tags": []
   },
   "outputs": [
    {
     "name": "stdout",
     "output_type": "stream",
     "text": [
      "Epoch   0 \t\t Training Loss: 1.09524 \t\t Validation Loss: 1.09156\n",
      "Epoch   1 \t\t Training Loss: 1.09160 \t\t Validation Loss: 1.09016\n",
      "Epoch   2 \t\t Training Loss: 1.09016 \t\t Validation Loss: 1.08901\n",
      "Epoch   3 \t\t Training Loss: 1.08954 \t\t Validation Loss: 1.08967\n",
      "Epoch   4 \t\t Training Loss: 1.08759 \t\t Validation Loss: 1.08569\n",
      "Epoch   5 \t\t Training Loss: 1.08548 \t\t Validation Loss: 1.08342\n",
      "Epoch   6 \t\t Training Loss: 1.08455 \t\t Validation Loss: 1.08262\n",
      "Epoch   7 \t\t Training Loss: 1.08380 \t\t Validation Loss: 1.08209\n",
      "Epoch   8 \t\t Training Loss: 1.08294 \t\t Validation Loss: 1.07951\n",
      "Epoch   9 \t\t Training Loss: 1.08227 \t\t Validation Loss: 1.07922\n",
      "Epoch  10 \t\t Training Loss: 1.08174 \t\t Validation Loss: 1.07906\n",
      "Epoch  11 \t\t Training Loss: 1.08100 \t\t Validation Loss: 1.07924\n",
      "Epoch  12 \t\t Training Loss: 1.08071 \t\t Validation Loss: 1.08011\n",
      "Epoch  13 \t\t Training Loss: 1.08075 \t\t Validation Loss: 1.07860\n",
      "Epoch  14 \t\t Training Loss: 1.08013 \t\t Validation Loss: 1.07756\n",
      "Epoch  15 \t\t Training Loss: 1.07983 \t\t Validation Loss: 1.08071\n",
      "Epoch  16 \t\t Training Loss: 1.07933 \t\t Validation Loss: 1.07896\n",
      "Epoch  17 \t\t Training Loss: 1.07888 \t\t Validation Loss: 1.07798\n",
      "Epoch  18 \t\t Training Loss: 1.07880 \t\t Validation Loss: 1.07669\n",
      "Epoch  19 \t\t Training Loss: 1.07834 \t\t Validation Loss: 1.07586\n",
      "Epoch  20 \t\t Training Loss: 1.07790 \t\t Validation Loss: 1.07690\n",
      "Epoch  21 \t\t Training Loss: 1.07788 \t\t Validation Loss: 1.07454\n",
      "Epoch  22 \t\t Training Loss: 1.07752 \t\t Validation Loss: 1.08381\n",
      "Epoch  23 \t\t Training Loss: 1.07731 \t\t Validation Loss: 1.07735\n",
      "Epoch  24 \t\t Training Loss: 1.07659 \t\t Validation Loss: 1.07719\n",
      "Epoch  25 \t\t Training Loss: 1.07659 \t\t Validation Loss: 1.07606\n",
      "Epoch  26 \t\t Training Loss: 1.07587 \t\t Validation Loss: 1.07742\n",
      "Epoch  27 \t\t Training Loss: 1.07584 \t\t Validation Loss: 1.07925\n",
      "Epoch  28 \t\t Training Loss: 1.07545 \t\t Validation Loss: 1.07594\n",
      "Epoch  29 \t\t Training Loss: 1.07521 \t\t Validation Loss: 1.07475\n",
      "Epoch  30 \t\t Training Loss: 1.07469 \t\t Validation Loss: 1.07649\n",
      "Epoch  31 \t\t Training Loss: 1.07436 \t\t Validation Loss: 1.07515\n",
      "Epoch  32 \t\t Training Loss: 1.07422 \t\t Validation Loss: 1.07446\n",
      "Epoch  33 \t\t Training Loss: 1.07419 \t\t Validation Loss: 1.07556\n",
      "Epoch  34 \t\t Training Loss: 1.07346 \t\t Validation Loss: 1.07425\n",
      "Epoch  35 \t\t Training Loss: 1.07284 \t\t Validation Loss: 1.07673\n",
      "Epoch  36 \t\t Training Loss: 1.07249 \t\t Validation Loss: 1.07570\n",
      "Epoch  37 \t\t Training Loss: 1.07257 \t\t Validation Loss: 1.07663\n",
      "Epoch  38 \t\t Training Loss: 1.07208 \t\t Validation Loss: 1.07645\n",
      "Epoch  39 \t\t Training Loss: 1.07162 \t\t Validation Loss: 1.07612\n",
      "Epoch  40 \t\t Training Loss: 1.07197 \t\t Validation Loss: 1.07400\n",
      "Epoch  41 \t\t Training Loss: 1.07134 \t\t Validation Loss: 1.07533\n",
      "Epoch  42 \t\t Training Loss: 1.07104 \t\t Validation Loss: 1.07679\n",
      "Epoch  43 \t\t Training Loss: 1.07042 \t\t Validation Loss: 1.07756\n",
      "Epoch  44 \t\t Training Loss: 1.06979 \t\t Validation Loss: 1.07710\n",
      "Epoch  45 \t\t Training Loss: 1.06964 \t\t Validation Loss: 1.07509\n",
      "Epoch  46 \t\t Training Loss: 1.06936 \t\t Validation Loss: 1.07501\n",
      "Epoch  47 \t\t Training Loss: 1.06905 \t\t Validation Loss: 1.07299\n",
      "Epoch  48 \t\t Training Loss: 1.06785 \t\t Validation Loss: 1.07765\n",
      "Epoch  49 \t\t Training Loss: 1.06785 \t\t Validation Loss: 1.07374\n",
      "Epoch  50 \t\t Training Loss: 1.06728 \t\t Validation Loss: 1.07616\n",
      "Epoch  51 \t\t Training Loss: 1.06744 \t\t Validation Loss: 1.07541\n",
      "Epoch  52 \t\t Training Loss: 1.06629 \t\t Validation Loss: 1.07533\n",
      "Epoch  53 \t\t Training Loss: 1.06613 \t\t Validation Loss: 1.07492\n",
      "Epoch  54 \t\t Training Loss: 1.06562 \t\t Validation Loss: 1.07519\n",
      "Epoch  55 \t\t Training Loss: 1.06504 \t\t Validation Loss: 1.08205\n",
      "Epoch  56 \t\t Training Loss: 1.06452 \t\t Validation Loss: 1.07796\n",
      "Epoch  57 \t\t Training Loss: 1.06347 \t\t Validation Loss: 1.07599\n",
      "Epoch  58 \t\t Training Loss: 1.06283 \t\t Validation Loss: 1.07596\n",
      "Epoch  59 \t\t Training Loss: 1.06224 \t\t Validation Loss: 1.07913\n",
      "\n",
      "\n",
      "================= LSTM (GRADIENT CLIPPING) NN SCORES =================\n",
      "              precision    recall  f1-score   support\n",
      "\n",
      "    NEGATIVE       0.37      0.61      0.46      1744\n",
      "     NEUTRAL       0.44      0.22      0.30      1744\n",
      "    POSITIVE       0.40      0.35      0.37      1744\n",
      "\n",
      "    accuracy                           0.39      5232\n",
      "   macro avg       0.41      0.39      0.38      5232\n",
      "weighted avg       0.41      0.39      0.38      5232\n",
      "\n",
      "accuracy:  0.39239296636085624\n",
      "f1:  0.3923929663608562\n",
      "total f1:  [0.46194111 0.29640947 0.37166513]\n"
     ]
    }
   ],
   "source": [
    "# LSTM run (Gradient Clipping)\n",
    "# Hyperparameters\n",
    "input_size = 100 \n",
    "hidden_size = 50  \n",
    "output_size = 3 \n",
    "learning_rate = 0.001\n",
    "num_hidden_layers = 2\n",
    "clip_value= 1.0\n",
    "\n",
    "# Create the model, loss function, and optimizer\n",
    "cell_type = 'LSTM'\n",
    "# net = RNN(cell_type, input_size, hidden_size, output_size) # \n",
    "grad_clip_model = RNN_grad_clip(cell_type,input_size, hidden_size, output_size, num_hidden_layers, clip_value)\n",
    "loss_func = nn.CrossEntropyLoss()\n",
    "optimizer = torch.optim.Adam(grad_clip_model.parameters(), lr=learning_rate)\n",
    "\n",
    "\n",
    "predictions_valid = []\n",
    "val_targets = []\n",
    "for epoch in range(60):\n",
    "    batch_losses = []\n",
    "    for x_batch, y_batch in train_dataloader:\n",
    "        y_pred = grad_clip_model(x_batch)\n",
    "\n",
    "        loss = loss_func(y_pred, y_batch)\n",
    "        batch_losses.append(loss.item())\n",
    "        # print('y_pred=', y_pred[0])\n",
    "        #Delete previously stored gradients\n",
    "        optimizer.zero_grad()\n",
    "        #Perform backpropagation starting from the loss calculated in this epoch\n",
    "        \n",
    "        loss.backward()\n",
    "        \n",
    "        # Perform gradient clipping\n",
    "        clip_grad_norm_(grad_clip_model.parameters(), grad_clip_model.clip_value)\n",
    "        \n",
    "        #Update model's weights based on the gradients calculated during backprop\n",
    "        optimizer.step()\n",
    "    \n",
    "#     print(f\"Epoch {epoch:3}: Loss = {sum(batch_losses)/len(train_dataloader):.5f}\")\n",
    "    \n",
    "    grad_clip_model.eval()\n",
    "    with torch.no_grad():\n",
    "        valid_batch_losses = []\n",
    "        for x_batch, y_batch in valid_dataloader:\n",
    "            y_pred_valid = grad_clip_model(x_batch)\n",
    "            # Compute and print/validation loss or other metrics\n",
    "            valid_loss = loss_func(y_pred_valid, y_batch)\n",
    "            valid_batch_losses.append(valid_loss.item())\n",
    "    \n",
    "    # Check validation loss to make sure we don't get overfitting\n",
    "    print(f'Epoch {epoch:3} \\t\\t Training Loss: {sum(batch_losses)/len(train_dataloader):.5f} \\t\\t Validation Loss: {sum(valid_batch_losses) / len(valid_dataloader):.5f}')\n",
    "\n",
    "\n",
    "# Test set predictions\n",
    "# Generate test predictions and evaluate test set\n",
    "grad_clip_model.eval()\n",
    "predictions_test = []\n",
    "\n",
    "# test results, labels for submission.csv\n",
    "with torch.no_grad():\n",
    "    for inputs in test_dataloader:\n",
    "        for tensor in inputs:\n",
    "            outputs = grad_clip_model(tensor)\n",
    "            _, predicted = torch.max(outputs, 1)\n",
    "\n",
    "            predictions_test.extend(predicted.tolist())\n",
    "    \n",
    "# convert 0,1,2 predictions to their original text form (POSITIVE, NEUTRAL , NEGATIVE)\n",
    "# these will also be put in the submission.csv\n",
    "original_label_predictions_test_grad_clip = [label_mapping_train[pred] for pred in predictions_test]\n",
    "\n",
    "# Generate valid predictions\n",
    "predictions_valid = []\n",
    "\n",
    "val_targets = []\n",
    "grad_clip_model.eval()\n",
    "# valid results for evaluation\n",
    "with torch.no_grad():\n",
    "    for x_batch, y_batch in valid_dataloader:\n",
    "        outputs = grad_clip_model(x_batch)\n",
    "        _, predicted = torch.max(outputs, 1)\n",
    "\n",
    "        predictions_valid.extend(predicted.tolist())\n",
    "        val_targets.extend(y_batch.tolist())\n",
    "    \n",
    "# convert indexes to respective labels and predictions to respective label (POSITIVE, NEGATIVE, NEUTRAL) and feed them to the metric functions \n",
    "original_label_predictions_valid = [label_mapping_valid[pred] for pred in predictions_valid]\n",
    "val_targets_indices = [np.argmax(label) if np.sum(label) > 0 else -1 for label in val_targets]\n",
    "original_labels_valid = [label_mapping_valid[label] for label in val_targets_indices]\n",
    "\n",
    "print(\"\\n\")\n",
    "print(\"================= LSTM (GRADIENT CLIPPING) NN SCORES =================\")\n",
    "print(classification_report(original_labels_valid,original_label_predictions_valid))\n",
    "\n",
    "grad_clip_f1 = f1_score(original_labels_valid,original_label_predictions_valid,average='micro')\n",
    "f1_scores['grad_clip'] = grad_clip_f1\n",
    "valid_preds['grad_clip'] = original_label_predictions_valid\n",
    "test_preds['grad_clip'] = original_label_predictions_test_grad_clip\n",
    "print(\"accuracy: \",accuracy_score(original_labels_valid,original_label_predictions_valid))\n",
    "print(\"f1: \",f1_score(original_labels_valid,original_label_predictions_valid,average='micro'))\n",
    "print(\"total f1: \",f1_score(original_labels_valid,original_label_predictions_valid,average=None))"
   ]
  },
  {
   "cell_type": "markdown",
   "id": "94a4fd64",
   "metadata": {
    "papermill": {
     "duration": 0.060058,
     "end_time": "2024-01-25T17:59:14.892316",
     "exception": false,
     "start_time": "2024-01-25T17:59:14.832258",
     "status": "completed"
    },
    "tags": []
   },
   "source": [
    "## Attention mechanism (Bonus)"
   ]
  },
  {
   "cell_type": "code",
   "execution_count": 26,
   "id": "9c7f6f6b",
   "metadata": {
    "execution": {
     "iopub.execute_input": "2024-01-25T17:59:15.013204Z",
     "iopub.status.busy": "2024-01-25T17:59:15.012013Z",
     "iopub.status.idle": "2024-01-25T17:59:15.026891Z",
     "shell.execute_reply": "2024-01-25T17:59:15.025347Z"
    },
    "papermill": {
     "duration": 0.080033,
     "end_time": "2024-01-25T17:59:15.030047",
     "exception": false,
     "start_time": "2024-01-25T17:59:14.950014",
     "status": "completed"
    },
    "tags": []
   },
   "outputs": [],
   "source": [
    "class RNN_Attention(nn.Module):\n",
    "    def __init__(self, cell_type, input_size, hidden_size, output_size, num_hidden_layers, num_heads):\n",
    "        super(RNN_Attention, self).__init__()\n",
    "\n",
    "        cells = {\n",
    "            \"RNN\" : nn.RNN,\n",
    "            \"LSTM\"    : nn.LSTM,\n",
    "            \"GRU\"     : nn.GRU\n",
    "        }\n",
    "\n",
    "        self.cell_type = cell_type\n",
    "\n",
    "        self.rnn = cells[cell_type](         \n",
    "            input_size = input_size,           \n",
    "            hidden_size = hidden_size,         \n",
    "            batch_first = True, \n",
    "            bidirectional = True, \n",
    "            num_layers = num_hidden_layers, \n",
    "            dropout = 0.2 \n",
    "        )\n",
    "\n",
    "        self.multihead_attn = nn.MultiheadAttention(hidden_size*2, num_heads=num_heads, dropout=0.2) # Add multihead attention layer\n",
    "\n",
    "        self.hidden_layers = nn.ModuleList()\n",
    "        for _ in range(num_hidden_layers):\n",
    "            self.hidden_layers.append(nn.Linear(hidden_size * 2, hidden_size * 2))\n",
    "       \n",
    "        self.fc = nn.Linear(hidden_size * 2, output_size)\n",
    "\n",
    "    def forward(self, x):\n",
    "        if self.cell_type == 'LSTM':\n",
    "            r_out, (h_n, h_c) = self.rnn(x)\n",
    "        else:\n",
    "            r_out, h_n = self.rnn(x)\n",
    "       \n",
    "        r_out = r_out.permute(1, 0, 2) # Transpose the output for MultiheadAttention\n",
    "\n",
    "        r_out, _ = self.multihead_attn(r_out, r_out, r_out) # Pass the output through the attention layer\n",
    "\n",
    "        r_out = r_out.permute(1, 0, 2) # Transpose the output back to original\n",
    "\n",
    "        for layer in self.hidden_layers:\n",
    "            r_out = F.relu(layer(r_out))\n",
    "       \n",
    "        output = self.fc(r_out[:, -1, :])  # Take the output from the last time step\n",
    "        return output"
   ]
  },
  {
   "cell_type": "code",
   "execution_count": 27,
   "id": "bf0eb373",
   "metadata": {
    "execution": {
     "iopub.execute_input": "2024-01-25T17:59:15.152507Z",
     "iopub.status.busy": "2024-01-25T17:59:15.151696Z",
     "iopub.status.idle": "2024-01-25T18:06:37.361310Z",
     "shell.execute_reply": "2024-01-25T18:06:37.359084Z"
    },
    "papermill": {
     "duration": 442.2759,
     "end_time": "2024-01-25T18:06:37.364419",
     "exception": false,
     "start_time": "2024-01-25T17:59:15.088519",
     "status": "completed"
    },
    "tags": []
   },
   "outputs": [
    {
     "name": "stdout",
     "output_type": "stream",
     "text": [
      "Epoch   0 \t\t Training Loss: 1.09635 \t\t Validation Loss: 1.09406\n",
      "Epoch   1 \t\t Training Loss: 1.09288 \t\t Validation Loss: 1.09057\n",
      "Epoch   2 \t\t Training Loss: 1.09147 \t\t Validation Loss: 1.08930\n",
      "Epoch   3 \t\t Training Loss: 1.09066 \t\t Validation Loss: 1.08891\n",
      "Epoch   4 \t\t Training Loss: 1.08946 \t\t Validation Loss: 1.08817\n",
      "Epoch   5 \t\t Training Loss: 1.08862 \t\t Validation Loss: 1.08629\n",
      "Epoch   6 \t\t Training Loss: 1.08600 \t\t Validation Loss: 1.08452\n",
      "Epoch   7 \t\t Training Loss: 1.08560 \t\t Validation Loss: 1.08279\n",
      "Epoch   8 \t\t Training Loss: 1.08452 \t\t Validation Loss: 1.08102\n",
      "Epoch   9 \t\t Training Loss: 1.08401 \t\t Validation Loss: 1.08040\n",
      "Epoch  10 \t\t Training Loss: 1.08321 \t\t Validation Loss: 1.08191\n",
      "Epoch  11 \t\t Training Loss: 1.08255 \t\t Validation Loss: 1.08102\n",
      "Epoch  12 \t\t Training Loss: 1.08215 \t\t Validation Loss: 1.08079\n",
      "Epoch  13 \t\t Training Loss: 1.08152 \t\t Validation Loss: 1.07920\n",
      "Epoch  14 \t\t Training Loss: 1.08127 \t\t Validation Loss: 1.07805\n",
      "Epoch  15 \t\t Training Loss: 1.08099 \t\t Validation Loss: 1.08102\n",
      "Epoch  16 \t\t Training Loss: 1.08042 \t\t Validation Loss: 1.07907\n",
      "Epoch  17 \t\t Training Loss: 1.07985 \t\t Validation Loss: 1.07757\n",
      "Epoch  18 \t\t Training Loss: 1.07995 \t\t Validation Loss: 1.07923\n",
      "Epoch  19 \t\t Training Loss: 1.07990 \t\t Validation Loss: 1.07818\n",
      "Epoch  20 \t\t Training Loss: 1.07939 \t\t Validation Loss: 1.07754\n",
      "Epoch  21 \t\t Training Loss: 1.07959 \t\t Validation Loss: 1.07693\n",
      "Epoch  22 \t\t Training Loss: 1.07927 \t\t Validation Loss: 1.07701\n",
      "Epoch  23 \t\t Training Loss: 1.07890 \t\t Validation Loss: 1.07721\n",
      "Epoch  24 \t\t Training Loss: 1.07862 \t\t Validation Loss: 1.07970\n",
      "Epoch  25 \t\t Training Loss: 1.07834 \t\t Validation Loss: 1.07733\n",
      "Epoch  26 \t\t Training Loss: 1.07821 \t\t Validation Loss: 1.07712\n",
      "Epoch  27 \t\t Training Loss: 1.07808 \t\t Validation Loss: 1.07643\n",
      "Epoch  28 \t\t Training Loss: 1.07779 \t\t Validation Loss: 1.07571\n",
      "Epoch  29 \t\t Training Loss: 1.07721 \t\t Validation Loss: 1.07486\n",
      "Epoch  30 \t\t Training Loss: 1.07733 \t\t Validation Loss: 1.07464\n",
      "Epoch  31 \t\t Training Loss: 1.07632 \t\t Validation Loss: 1.07793\n",
      "Epoch  32 \t\t Training Loss: 1.07643 \t\t Validation Loss: 1.07510\n",
      "Epoch  33 \t\t Training Loss: 1.07645 \t\t Validation Loss: 1.07749\n",
      "Epoch  34 \t\t Training Loss: 1.07560 \t\t Validation Loss: 1.07745\n",
      "Epoch  35 \t\t Training Loss: 1.07573 \t\t Validation Loss: 1.07523\n",
      "Epoch  36 \t\t Training Loss: 1.07550 \t\t Validation Loss: 1.07706\n",
      "Epoch  37 \t\t Training Loss: 1.07492 \t\t Validation Loss: 1.07461\n",
      "Epoch  38 \t\t Training Loss: 1.07440 \t\t Validation Loss: 1.07630\n",
      "Epoch  39 \t\t Training Loss: 1.07416 \t\t Validation Loss: 1.07747\n",
      "Epoch  40 \t\t Training Loss: 1.07411 \t\t Validation Loss: 1.07755\n",
      "Epoch  41 \t\t Training Loss: 1.07418 \t\t Validation Loss: 1.07799\n",
      "Epoch  42 \t\t Training Loss: 1.07376 \t\t Validation Loss: 1.07555\n",
      "Epoch  43 \t\t Training Loss: 1.07343 \t\t Validation Loss: 1.07537\n",
      "Epoch  44 \t\t Training Loss: 1.07344 \t\t Validation Loss: 1.07592\n",
      "Epoch  45 \t\t Training Loss: 1.07234 \t\t Validation Loss: 1.07854\n",
      "Epoch  46 \t\t Training Loss: 1.07221 \t\t Validation Loss: 1.07920\n",
      "Epoch  47 \t\t Training Loss: 1.07276 \t\t Validation Loss: 1.07605\n",
      "Epoch  48 \t\t Training Loss: 1.07203 \t\t Validation Loss: 1.07495\n",
      "Epoch  49 \t\t Training Loss: 1.07154 \t\t Validation Loss: 1.07724\n",
      "Epoch  50 \t\t Training Loss: 1.07226 \t\t Validation Loss: 1.07518\n",
      "Epoch  51 \t\t Training Loss: 1.07156 \t\t Validation Loss: 1.07478\n",
      "Epoch  52 \t\t Training Loss: 1.07154 \t\t Validation Loss: 1.07498\n",
      "Epoch  53 \t\t Training Loss: 1.07098 \t\t Validation Loss: 1.07521\n",
      "Epoch  54 \t\t Training Loss: 1.07117 \t\t Validation Loss: 1.07833\n",
      "Epoch  55 \t\t Training Loss: 1.07025 \t\t Validation Loss: 1.07433\n",
      "Epoch  56 \t\t Training Loss: 1.07025 \t\t Validation Loss: 1.07658\n",
      "Epoch  57 \t\t Training Loss: 1.06979 \t\t Validation Loss: 1.07382\n",
      "Epoch  58 \t\t Training Loss: 1.07001 \t\t Validation Loss: 1.07588\n",
      "Epoch  59 \t\t Training Loss: 1.06877 \t\t Validation Loss: 1.07555\n",
      "\n",
      "\n",
      "================= LSTM (ATTENTION) NN SCORES =================\n",
      "              precision    recall  f1-score   support\n",
      "\n",
      "    NEGATIVE       0.38      0.62      0.48      1744\n",
      "     NEUTRAL       0.41      0.29      0.34      1744\n",
      "    POSITIVE       0.42      0.28      0.34      1744\n",
      "\n",
      "    accuracy                           0.40      5232\n",
      "   macro avg       0.40      0.40      0.38      5232\n",
      "weighted avg       0.40      0.40      0.38      5232\n",
      "\n",
      "accuracy:  0.39755351681957185\n",
      "f1:  0.39755351681957185\n",
      "total f1:  [0.47537754 0.33670715 0.33776868]\n"
     ]
    }
   ],
   "source": [
    "# LSTM run (Attention mechanism)\n",
    "# Hyperparameters\n",
    "input_size = 100 \n",
    "hidden_size = 50  \n",
    "output_size = 3 \n",
    "learning_rate = 0.001\n",
    "num_hidden_layers = 2\n",
    "num_heads = 4\n",
    "\n",
    "# Create the model, loss function, and optimizer\n",
    "cell_type = 'LSTM'\n",
    "# net = RNN(cell_type, input_size, hidden_size, output_size) # \n",
    "attention_model = RNN_Attention(cell_type,input_size, hidden_size, output_size, num_hidden_layers, num_heads)\n",
    "loss_func = nn.CrossEntropyLoss()\n",
    "optimizer = torch.optim.Adam(attention_model.parameters(), lr=learning_rate)\n",
    "\n",
    "\n",
    "predictions_valid = []\n",
    "val_targets = []\n",
    "for epoch in range(60):\n",
    "    batch_losses = []\n",
    "    for x_batch, y_batch in train_dataloader:\n",
    "#         print(\"batch\",x_batch.shape)\n",
    "        y_pred = attention_model(x_batch)\n",
    "        loss = loss_func(y_pred, y_batch)\n",
    "        batch_losses.append(loss.item())\n",
    "        # print('y_pred=', y_pred[0])\n",
    "        #Delete previously stored gradients\n",
    "        optimizer.zero_grad()\n",
    "        #Perform backpropagation starting from the loss calculated in this epoch\n",
    "        \n",
    "        loss.backward()\n",
    "        #Update model's weights based on the gradients calculated during backprop\n",
    "        optimizer.step()\n",
    "    \n",
    "#     print(f\"Epoch {epoch:3}: Loss = {sum(batch_losses)/len(train_dataloader):.5f}\")\n",
    "    \n",
    "    attention_model.eval()\n",
    "    with torch.no_grad():\n",
    "        valid_batch_losses = []\n",
    "        for x_batch, y_batch in valid_dataloader:\n",
    "            y_pred_valid = attention_model(x_batch)\n",
    "            # Compute and print/validation loss or other metrics\n",
    "            valid_loss = loss_func(y_pred_valid, y_batch)\n",
    "            valid_batch_losses.append(valid_loss.item())\n",
    "    \n",
    "    # Check validation loss to make sure we don't get overfitting\n",
    "    print(f'Epoch {epoch:3} \\t\\t Training Loss: {sum(batch_losses)/len(train_dataloader):.5f} \\t\\t Validation Loss: {sum(valid_batch_losses) / len(valid_dataloader):.5f}')\n",
    "\n",
    "\n",
    "# Test set predictions\n",
    "# Generate test predictions and evaluate test set\n",
    "attention_model.eval()\n",
    "predictions_test = []\n",
    "\n",
    "# test results, labels for submission.csv\n",
    "with torch.no_grad():\n",
    "    for inputs in test_dataloader:\n",
    "        for tensor in inputs:\n",
    "            outputs = attention_model(tensor)\n",
    "            _, predicted = torch.max(outputs, 1)\n",
    "\n",
    "            predictions_test.extend(predicted.tolist())\n",
    "    \n",
    "# convert 0,1,2 predictions to their original text form (POSITIVE, NEUTRAL , NEGATIVE)\n",
    "# these will also be put in the submission.csv\n",
    "original_label_predictions_test_attention = [label_mapping_train[pred] for pred in predictions_test]\n",
    "\n",
    "# Generate valid predictions\n",
    "predictions_valid = []\n",
    "\n",
    "val_targets = []\n",
    "attention_model.eval()\n",
    "# valid results for evaluation\n",
    "with torch.no_grad():\n",
    "    for x_batch, y_batch in valid_dataloader:\n",
    "        outputs = attention_model(x_batch)\n",
    "        _, predicted = torch.max(outputs, 1)\n",
    "\n",
    "        predictions_valid.extend(predicted.tolist())\n",
    "        val_targets.extend(y_batch.tolist())\n",
    "    \n",
    "# convert indexes to respective labels and predictions to respective label (POSITIVE, NEGATIVE, NEUTRAL) and feed them to the metric functions \n",
    "original_label_predictions_valid_attention = [label_mapping_valid[pred] for pred in predictions_valid]\n",
    "val_targets_indices = [np.argmax(label) if np.sum(label) > 0 else -1 for label in val_targets]\n",
    "original_labels_valid = [label_mapping_valid[label] for label in val_targets_indices]\n",
    "\n",
    "print(\"\\n\")\n",
    "print(\"================= LSTM (ATTENTION) NN SCORES =================\")\n",
    "print(classification_report(original_labels_valid,original_label_predictions_valid_attention))\n",
    "\n",
    "attention_f1 = accuracy_score(original_labels_valid,original_label_predictions_valid_attention)\n",
    "f1_scores['attention'] = attention_f1\n",
    "valid_preds['attention'] = original_label_predictions_valid_attention\n",
    "test_preds['attention'] = original_label_predictions_test_attention\n",
    "print(\"accuracy: \",accuracy_score(original_labels_valid,original_label_predictions_valid_attention))\n",
    "print(\"f1: \",f1_score(original_labels_valid,original_label_predictions_valid_attention,average='micro'))\n",
    "print(\"total f1: \",f1_score(original_labels_valid,original_label_predictions_valid_attention,average=None))"
   ]
  },
  {
   "cell_type": "markdown",
   "id": "20bd0f33",
   "metadata": {
    "papermill": {
     "duration": 0.070615,
     "end_time": "2024-01-25T18:06:37.504299",
     "exception": false,
     "start_time": "2024-01-25T18:06:37.433684",
     "status": "completed"
    },
    "tags": []
   },
   "source": [
    "## Confusion matrix"
   ]
  },
  {
   "cell_type": "code",
   "execution_count": 28,
   "id": "04e93b68",
   "metadata": {
    "execution": {
     "iopub.execute_input": "2024-01-25T18:06:37.644197Z",
     "iopub.status.busy": "2024-01-25T18:06:37.643621Z",
     "iopub.status.idle": "2024-01-25T18:06:37.653349Z",
     "shell.execute_reply": "2024-01-25T18:06:37.652040Z"
    },
    "papermill": {
     "duration": 0.083304,
     "end_time": "2024-01-25T18:06:37.656213",
     "exception": false,
     "start_time": "2024-01-25T18:06:37.572909",
     "status": "completed"
    },
    "tags": []
   },
   "outputs": [
    {
     "name": "stdout",
     "output_type": "stream",
     "text": [
      "gru best.\n"
     ]
    }
   ],
   "source": [
    "max_result_nn = max(f1_scores, key=f1_scores.get)\n",
    "final_valid_preds = []\n",
    "\n",
    "if max_result_nn == 'lstm':\n",
    "    final_valid_preds = valid_preds['lstm']\n",
    "    print('lstm best.')\n",
    "elif max_result_nn == 'rnn':\n",
    "    final_valid_preds = valid_preds['rnn']\n",
    "    print('rnn best.')\n",
    "elif max_result_nn == 'gru':\n",
    "    final_valid_preds = valid_preds['gru']\n",
    "    print('gru best.')\n",
    "elif max_result_nn == 'skip':\n",
    "    final_valid_preds = valid_preds['skip']\n",
    "    print('skip connections best.')\n",
    "elif max_result_nn == 'grad_clip':\n",
    "    final_valid_preds = valid_preds['grad_clip']\n",
    "    print('gradient clipping best.')\n",
    "elif max_result_nn == 'attention':\n",
    "    final_valid_preds = valid_preds['attention']\n",
    "    print('attention mechanism best.')"
   ]
  },
  {
   "cell_type": "code",
   "execution_count": 29,
   "id": "54ebb152",
   "metadata": {
    "execution": {
     "iopub.execute_input": "2024-01-25T18:06:37.796402Z",
     "iopub.status.busy": "2024-01-25T18:06:37.795542Z",
     "iopub.status.idle": "2024-01-25T18:06:37.859740Z",
     "shell.execute_reply": "2024-01-25T18:06:37.857939Z"
    },
    "papermill": {
     "duration": 0.138478,
     "end_time": "2024-01-25T18:06:37.863116",
     "exception": false,
     "start_time": "2024-01-25T18:06:37.724638",
     "status": "completed"
    },
    "tags": []
   },
   "outputs": [
    {
     "name": "stdout",
     "output_type": "stream",
     "text": [
      "[[811 527 406]\n",
      " [823 522 399]\n",
      " [846 508 390]]\n"
     ]
    }
   ],
   "source": [
    "conf_matrix = confusion_matrix(y_valid,final_valid_preds)\n",
    "print(confusion_matrix(y_valid,final_valid_preds))"
   ]
  },
  {
   "cell_type": "markdown",
   "id": "1a4d13b7",
   "metadata": {
    "papermill": {
     "duration": 0.068431,
     "end_time": "2024-01-25T18:06:37.999136",
     "exception": false,
     "start_time": "2024-01-25T18:06:37.930705",
     "status": "completed"
    },
    "tags": []
   },
   "source": [
    "## Learning and ROC curves"
   ]
  },
  {
   "cell_type": "code",
   "execution_count": 30,
   "id": "7c989f5d",
   "metadata": {
    "execution": {
     "iopub.execute_input": "2024-01-25T18:06:38.140590Z",
     "iopub.status.busy": "2024-01-25T18:06:38.140046Z",
     "iopub.status.idle": "2024-01-25T18:06:38.497600Z",
     "shell.execute_reply": "2024-01-25T18:06:38.496094Z"
    },
    "papermill": {
     "duration": 0.431585,
     "end_time": "2024-01-25T18:06:38.500858",
     "exception": false,
     "start_time": "2024-01-25T18:06:38.069273",
     "status": "completed"
    },
    "tags": []
   },
   "outputs": [
    {
     "data": {
      "image/png": "[encoded data removed]",
      "text/plain": [
       "<Figure size 640x480 with 1 Axes>"
      ]
     },
     "metadata": {},
     "output_type": "display_data"
    }
   ],
   "source": [
    "# ROC Curve\n",
    "FP = conf_matrix.sum(axis=0) - np.diag(conf_matrix) #false positive\n",
    "FN = conf_matrix.sum(axis=1) - np.diag(conf_matrix) # false negative\n",
    "TP = np.diag(conf_matrix) # true positive\n",
    "TN = conf_matrix.sum() - (FP + FN + TP) # True negative\n",
    "\n",
    "TPR = TP/(TP+FN) # true positive rate\n",
    "FPR = FP/(FP+TN) # false positive rate\n",
    "\n",
    "plt.plot(FPR,TPR,'b')\n",
    "plt.plot([0, 1], [0, 1],'r--')\n",
    "plt.xlim([0, 1])\n",
    "plt.ylim([0, 1])\n",
    "plt.xlabel('True Positive Rate')\n",
    "plt.ylabel('False Positive Rate')\n",
    "plt.title('ROC Curve')\n",
    "plt.show()"
   ]
  },
  {
   "cell_type": "markdown",
   "id": "0419ac82",
   "metadata": {
    "papermill": {
     "duration": 0.065569,
     "end_time": "2024-01-25T18:06:38.632963",
     "exception": false,
     "start_time": "2024-01-25T18:06:38.567394",
     "status": "completed"
    },
    "tags": []
   },
   "source": [
    "## Obtain predictions"
   ]
  },
  {
   "cell_type": "code",
   "execution_count": 31,
   "id": "fdfccb5e",
   "metadata": {
    "execution": {
     "iopub.execute_input": "2024-01-25T18:06:38.789579Z",
     "iopub.status.busy": "2024-01-25T18:06:38.788497Z",
     "iopub.status.idle": "2024-01-25T18:06:38.799250Z",
     "shell.execute_reply": "2024-01-25T18:06:38.797988Z"
    },
    "papermill": {
     "duration": 0.100576,
     "end_time": "2024-01-25T18:06:38.801977",
     "exception": false,
     "start_time": "2024-01-25T18:06:38.701401",
     "status": "completed"
    },
    "tags": []
   },
   "outputs": [
    {
     "name": "stdout",
     "output_type": "stream",
     "text": [
      "gru best.\n"
     ]
    }
   ],
   "source": [
    "final_test_preds = []\n",
    "\n",
    "if max_result_nn == 'lstm':\n",
    "    final_test_preds = test_preds['lstm']\n",
    "    print('lstm best.')\n",
    "elif max_result_nn == 'rnn':\n",
    "    final_test_preds = test_preds['rnn']\n",
    "    print('rnn best.')\n",
    "elif max_result_nn == 'gru':\n",
    "    final_test_preds = test_preds['gru']\n",
    "    print('gru best.')\n",
    "elif max_result_nn == 'skip':\n",
    "    final_test_preds = test_preds['skip']\n",
    "    print('skip connections best.')\n",
    "elif max_result_nn == 'grad_clip':\n",
    "    final_test_preds = test_preds['grad_clip']\n",
    "    print('gradient clipping best.')\n",
    "elif max_result_nn == 'attention':\n",
    "    final_test_preds = test_preds['attention']\n",
    "    print('attention mechanism best.')"
   ]
  },
  {
   "cell_type": "markdown",
   "id": "7145b04f",
   "metadata": {
    "papermill": {
     "duration": 0.076235,
     "end_time": "2024-01-25T18:06:38.951597",
     "exception": false,
     "start_time": "2024-01-25T18:06:38.875362",
     "status": "completed"
    },
    "tags": []
   },
   "source": [
    "## Output file"
   ]
  },
  {
   "cell_type": "code",
   "execution_count": 32,
   "id": "f3f7dc10",
   "metadata": {
    "execution": {
     "iopub.execute_input": "2024-01-25T18:06:39.099742Z",
     "iopub.status.busy": "2024-01-25T18:06:39.099176Z",
     "iopub.status.idle": "2024-01-25T18:06:39.134503Z",
     "shell.execute_reply": "2024-01-25T18:06:39.133452Z"
    },
    "papermill": {
     "duration": 0.111335,
     "end_time": "2024-01-25T18:06:39.137540",
     "exception": false,
     "start_time": "2024-01-25T18:06:39.026205",
     "status": "completed"
    },
    "tags": []
   },
   "outputs": [
    {
     "name": "stdout",
     "output_type": "stream",
     "text": [
      "CSV file writing complete.\n"
     ]
    }
   ],
   "source": [
    "import csv\n",
    "\n",
    "with open('submission.csv', 'w', newline='') as file:\n",
    "    writer = csv.writer(file)\n",
    "    \n",
    "    writer.writerow([\"Id\",\"Predicted\"])\n",
    "    for i in range(0,10470):\n",
    "        writer.writerow([i+1,final_test_preds[i]])  \n",
    "    \n",
    "    \n",
    "print(\"CSV file writing complete.\")"
   ]
  }
 ],
 "metadata": {
  "kaggle": {
   "accelerator": "none",
   "dataSources": [
    {
     "databundleVersionId": 7351814,
     "sourceId": 66593,
     "sourceType": "competition"
    }
   ],
   "dockerImageVersionId": 30626,
   "isGpuEnabled": false,
   "isInternetEnabled": true,
   "language": "python",
   "sourceType": "notebook"
  },
  "kernelspec": {
   "display_name": "Python 3",
   "language": "python",
   "name": "python3"
  },
  "language_info": {
   "codemirror_mode": {
    "name": "ipython",
    "version": 3
   },
   "file_extension": ".py",
   "mimetype": "text/x-python",
   "name": "python",
   "nbconvert_exporter": "python",
   "pygments_lexer": "ipython3",
   "version": "3.10.12"
  },
  "papermill": {
   "default_parameters": {},
   "duration": 2369.10906,
   "end_time": "2024-01-25T18:06:42.027631",
   "environment_variables": {},
   "exception": null,
   "input_path": "__notebook__.ipynb",
   "output_path": "__notebook__.ipynb",
   "parameters": {},
   "start_time": "2024-01-25T17:27:12.918571",
   "version": "2.4.0"
  }
 },
 "nbformat": 4,
 "nbformat_minor": 5
}
