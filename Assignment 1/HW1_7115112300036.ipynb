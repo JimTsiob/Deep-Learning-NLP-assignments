{
  "nbformat": 4,
  "nbformat_minor": 0,
  "metadata": {
    "colab": {
      "provenance": []
    },
    "kernelspec": {
      "name": "python3",
      "display_name": "Python 3"
    },
    "language_info": {
      "name": "python"
    }
  },
  "cells": [
    {
      "cell_type": "markdown",
      "source": [
        "## Library importing"
      ],
      "metadata": {
        "id": "LFpjkwtRR-N5"
      }
    },
    {
      "cell_type": "code",
      "execution_count": 38,
      "metadata": {
        "id": "3OF2wythPr76"
      },
      "outputs": [],
      "source": [
        "import pandas as pd\n",
        "import numpy as np\n",
        "from sklearn.linear_model import LogisticRegression\n",
        "from sklearn.metrics import f1_score\n",
        "from sklearn.model_selection import train_test_split\n",
        "from sklearn.feature_extraction.text import CountVectorizer\n",
        "from sklearn.linear_model import LogisticRegression\n",
        "from sklearn.metrics import confusion_matrix,classification_report,accuracy_score\n",
        "from matplotlib import pyplot as plt\n",
        "import seaborn as sns\n",
        "import re"
      ]
    },
    {
      "cell_type": "markdown",
      "source": [
        "##Data Pre-processing"
      ],
      "metadata": {
        "id": "5uz-AoBeRyyT"
      }
    },
    {
      "cell_type": "code",
      "source": [
        "df = pd.read_csv('/content/sample_data/train_set.csv')\n",
        "\n",
        "df.head()"
      ],
      "metadata": {
        "colab": {
          "base_uri": "https://localhost:8080/",
          "height": 206
        },
        "id": "cJzx0mkiRyQN",
        "outputId": "d48a7f32-e324-40f0-fb78-2b58cc1dc590"
      },
      "execution_count": 54,
      "outputs": [
        {
          "output_type": "execute_result",
          "data": {
            "text/plain": [
              "   New_ID                                               Text Sentiment   Party\n",
              "0   35027  #απολυμανση_κοριοι #απεντομωση_κοριος #απολυμα...   NEUTRAL  SYRIZA\n",
              "1    9531  Έξι νέες επιστολές για τη Μακεδονία «καίνε» τη...  NEGATIVE      ND\n",
              "2   14146  Ισχυρό ΚΚΕ, δύναμη του λαού στη Βουλή και στου...  POSITIVE     KKE\n",
              "3   28716  @five2nds @anthi7vas Μνημονιακότατο το #ΜεΡΑ25...   NEUTRAL     KKE\n",
              "4   32886  @ai_katerina Αυτό που είναι συγκλονιστικό είνα...   NEUTRAL  SYRIZA"
            ],
            "text/html": [
              "\n",
              "  <div id=\"df-fde4c940-6094-4b86-90e4-a613678ff161\" class=\"colab-df-container\">\n",
              "    <div>\n",
              "<style scoped>\n",
              "    .dataframe tbody tr th:only-of-type {\n",
              "        vertical-align: middle;\n",
              "    }\n",
              "\n",
              "    .dataframe tbody tr th {\n",
              "        vertical-align: top;\n",
              "    }\n",
              "\n",
              "    .dataframe thead th {\n",
              "        text-align: right;\n",
              "    }\n",
              "</style>\n",
              "<table border=\"1\" class=\"dataframe\">\n",
              "  <thead>\n",
              "    <tr style=\"text-align: right;\">\n",
              "      <th></th>\n",
              "      <th>New_ID</th>\n",
              "      <th>Text</th>\n",
              "      <th>Sentiment</th>\n",
              "      <th>Party</th>\n",
              "    </tr>\n",
              "  </thead>\n",
              "  <tbody>\n",
              "    <tr>\n",
              "      <th>0</th>\n",
              "      <td>35027</td>\n",
              "      <td>#απολυμανση_κοριοι #απεντομωση_κοριος #απολυμα...</td>\n",
              "      <td>NEUTRAL</td>\n",
              "      <td>SYRIZA</td>\n",
              "    </tr>\n",
              "    <tr>\n",
              "      <th>1</th>\n",
              "      <td>9531</td>\n",
              "      <td>Έξι νέες επιστολές για τη Μακεδονία «καίνε» τη...</td>\n",
              "      <td>NEGATIVE</td>\n",
              "      <td>ND</td>\n",
              "    </tr>\n",
              "    <tr>\n",
              "      <th>2</th>\n",
              "      <td>14146</td>\n",
              "      <td>Ισχυρό ΚΚΕ, δύναμη του λαού στη Βουλή και στου...</td>\n",
              "      <td>POSITIVE</td>\n",
              "      <td>KKE</td>\n",
              "    </tr>\n",
              "    <tr>\n",
              "      <th>3</th>\n",
              "      <td>28716</td>\n",
              "      <td>@five2nds @anthi7vas Μνημονιακότατο το #ΜεΡΑ25...</td>\n",
              "      <td>NEUTRAL</td>\n",
              "      <td>KKE</td>\n",
              "    </tr>\n",
              "    <tr>\n",
              "      <th>4</th>\n",
              "      <td>32886</td>\n",
              "      <td>@ai_katerina Αυτό που είναι συγκλονιστικό είνα...</td>\n",
              "      <td>NEUTRAL</td>\n",
              "      <td>SYRIZA</td>\n",
              "    </tr>\n",
              "  </tbody>\n",
              "</table>\n",
              "</div>\n",
              "    <div class=\"colab-df-buttons\">\n",
              "\n",
              "  <div class=\"colab-df-container\">\n",
              "    <button class=\"colab-df-convert\" onclick=\"convertToInteractive('df-fde4c940-6094-4b86-90e4-a613678ff161')\"\n",
              "            title=\"Convert this dataframe to an interactive table.\"\n",
              "            style=\"display:none;\">\n",
              "\n",
              "  <svg xmlns=\"http://www.w3.org/2000/svg\" height=\"24px\" viewBox=\"0 -960 960 960\">\n",
              "    <path d=\"M120-120v-720h720v720H120Zm60-500h600v-160H180v160Zm220 220h160v-160H400v160Zm0 220h160v-160H400v160ZM180-400h160v-160H180v160Zm440 0h160v-160H620v160ZM180-180h160v-160H180v160Zm440 0h160v-160H620v160Z\"/>\n",
              "  </svg>\n",
              "    </button>\n",
              "\n",
              "  <style>\n",
              "    .colab-df-container {\n",
              "      display:flex;\n",
              "      gap: 12px;\n",
              "    }\n",
              "\n",
              "    .colab-df-convert {\n",
              "      background-color: #E8F0FE;\n",
              "      border: none;\n",
              "      border-radius: 50%;\n",
              "      cursor: pointer;\n",
              "      display: none;\n",
              "      fill: #1967D2;\n",
              "      height: 32px;\n",
              "      padding: 0 0 0 0;\n",
              "      width: 32px;\n",
              "    }\n",
              "\n",
              "    .colab-df-convert:hover {\n",
              "      background-color: #E2EBFA;\n",
              "      box-shadow: 0px 1px 2px rgba(60, 64, 67, 0.3), 0px 1px 3px 1px rgba(60, 64, 67, 0.15);\n",
              "      fill: #174EA6;\n",
              "    }\n",
              "\n",
              "    .colab-df-buttons div {\n",
              "      margin-bottom: 4px;\n",
              "    }\n",
              "\n",
              "    [theme=dark] .colab-df-convert {\n",
              "      background-color: #3B4455;\n",
              "      fill: #D2E3FC;\n",
              "    }\n",
              "\n",
              "    [theme=dark] .colab-df-convert:hover {\n",
              "      background-color: #434B5C;\n",
              "      box-shadow: 0px 1px 3px 1px rgba(0, 0, 0, 0.15);\n",
              "      filter: drop-shadow(0px 1px 2px rgba(0, 0, 0, 0.3));\n",
              "      fill: #FFFFFF;\n",
              "    }\n",
              "  </style>\n",
              "\n",
              "    <script>\n",
              "      const buttonEl =\n",
              "        document.querySelector('#df-fde4c940-6094-4b86-90e4-a613678ff161 button.colab-df-convert');\n",
              "      buttonEl.style.display =\n",
              "        google.colab.kernel.accessAllowed ? 'block' : 'none';\n",
              "\n",
              "      async function convertToInteractive(key) {\n",
              "        const element = document.querySelector('#df-fde4c940-6094-4b86-90e4-a613678ff161');\n",
              "        const dataTable =\n",
              "          await google.colab.kernel.invokeFunction('convertToInteractive',\n",
              "                                                    [key], {});\n",
              "        if (!dataTable) return;\n",
              "\n",
              "        const docLinkHtml = 'Like what you see? Visit the ' +\n",
              "          '<a target=\"_blank\" href=https://colab.research.google.com/notebooks/data_table.ipynb>data table notebook</a>'\n",
              "          + ' to learn more about interactive tables.';\n",
              "        element.innerHTML = '';\n",
              "        dataTable['output_type'] = 'display_data';\n",
              "        await google.colab.output.renderOutput(dataTable, element);\n",
              "        const docLink = document.createElement('div');\n",
              "        docLink.innerHTML = docLinkHtml;\n",
              "        element.appendChild(docLink);\n",
              "      }\n",
              "    </script>\n",
              "  </div>\n",
              "\n",
              "\n",
              "<div id=\"df-9a480008-fd25-45be-9f9a-fcca2cb63f3a\">\n",
              "  <button class=\"colab-df-quickchart\" onclick=\"quickchart('df-9a480008-fd25-45be-9f9a-fcca2cb63f3a')\"\n",
              "            title=\"Suggest charts.\"\n",
              "            style=\"display:none;\">\n",
              "\n",
              "<svg xmlns=\"http://www.w3.org/2000/svg\" height=\"24px\"viewBox=\"0 0 24 24\"\n",
              "     width=\"24px\">\n",
              "    <g>\n",
              "        <path d=\"M19 3H5c-1.1 0-2 .9-2 2v14c0 1.1.9 2 2 2h14c1.1 0 2-.9 2-2V5c0-1.1-.9-2-2-2zM9 17H7v-7h2v7zm4 0h-2V7h2v10zm4 0h-2v-4h2v4z\"/>\n",
              "    </g>\n",
              "</svg>\n",
              "  </button>\n",
              "\n",
              "<style>\n",
              "  .colab-df-quickchart {\n",
              "      --bg-color: #E8F0FE;\n",
              "      --fill-color: #1967D2;\n",
              "      --hover-bg-color: #E2EBFA;\n",
              "      --hover-fill-color: #174EA6;\n",
              "      --disabled-fill-color: #AAA;\n",
              "      --disabled-bg-color: #DDD;\n",
              "  }\n",
              "\n",
              "  [theme=dark] .colab-df-quickchart {\n",
              "      --bg-color: #3B4455;\n",
              "      --fill-color: #D2E3FC;\n",
              "      --hover-bg-color: #434B5C;\n",
              "      --hover-fill-color: #FFFFFF;\n",
              "      --disabled-bg-color: #3B4455;\n",
              "      --disabled-fill-color: #666;\n",
              "  }\n",
              "\n",
              "  .colab-df-quickchart {\n",
              "    background-color: var(--bg-color);\n",
              "    border: none;\n",
              "    border-radius: 50%;\n",
              "    cursor: pointer;\n",
              "    display: none;\n",
              "    fill: var(--fill-color);\n",
              "    height: 32px;\n",
              "    padding: 0;\n",
              "    width: 32px;\n",
              "  }\n",
              "\n",
              "  .colab-df-quickchart:hover {\n",
              "    background-color: var(--hover-bg-color);\n",
              "    box-shadow: 0 1px 2px rgba(60, 64, 67, 0.3), 0 1px 3px 1px rgba(60, 64, 67, 0.15);\n",
              "    fill: var(--button-hover-fill-color);\n",
              "  }\n",
              "\n",
              "  .colab-df-quickchart-complete:disabled,\n",
              "  .colab-df-quickchart-complete:disabled:hover {\n",
              "    background-color: var(--disabled-bg-color);\n",
              "    fill: var(--disabled-fill-color);\n",
              "    box-shadow: none;\n",
              "  }\n",
              "\n",
              "  .colab-df-spinner {\n",
              "    border: 2px solid var(--fill-color);\n",
              "    border-color: transparent;\n",
              "    border-bottom-color: var(--fill-color);\n",
              "    animation:\n",
              "      spin 1s steps(1) infinite;\n",
              "  }\n",
              "\n",
              "  @keyframes spin {\n",
              "    0% {\n",
              "      border-color: transparent;\n",
              "      border-bottom-color: var(--fill-color);\n",
              "      border-left-color: var(--fill-color);\n",
              "    }\n",
              "    20% {\n",
              "      border-color: transparent;\n",
              "      border-left-color: var(--fill-color);\n",
              "      border-top-color: var(--fill-color);\n",
              "    }\n",
              "    30% {\n",
              "      border-color: transparent;\n",
              "      border-left-color: var(--fill-color);\n",
              "      border-top-color: var(--fill-color);\n",
              "      border-right-color: var(--fill-color);\n",
              "    }\n",
              "    40% {\n",
              "      border-color: transparent;\n",
              "      border-right-color: var(--fill-color);\n",
              "      border-top-color: var(--fill-color);\n",
              "    }\n",
              "    60% {\n",
              "      border-color: transparent;\n",
              "      border-right-color: var(--fill-color);\n",
              "    }\n",
              "    80% {\n",
              "      border-color: transparent;\n",
              "      border-right-color: var(--fill-color);\n",
              "      border-bottom-color: var(--fill-color);\n",
              "    }\n",
              "    90% {\n",
              "      border-color: transparent;\n",
              "      border-bottom-color: var(--fill-color);\n",
              "    }\n",
              "  }\n",
              "</style>\n",
              "\n",
              "  <script>\n",
              "    async function quickchart(key) {\n",
              "      const quickchartButtonEl =\n",
              "        document.querySelector('#' + key + ' button');\n",
              "      quickchartButtonEl.disabled = true;  // To prevent multiple clicks.\n",
              "      quickchartButtonEl.classList.add('colab-df-spinner');\n",
              "      try {\n",
              "        const charts = await google.colab.kernel.invokeFunction(\n",
              "            'suggestCharts', [key], {});\n",
              "      } catch (error) {\n",
              "        console.error('Error during call to suggestCharts:', error);\n",
              "      }\n",
              "      quickchartButtonEl.classList.remove('colab-df-spinner');\n",
              "      quickchartButtonEl.classList.add('colab-df-quickchart-complete');\n",
              "    }\n",
              "    (() => {\n",
              "      let quickchartButtonEl =\n",
              "        document.querySelector('#df-9a480008-fd25-45be-9f9a-fcca2cb63f3a button');\n",
              "      quickchartButtonEl.style.display =\n",
              "        google.colab.kernel.accessAllowed ? 'block' : 'none';\n",
              "    })();\n",
              "  </script>\n",
              "</div>\n",
              "    </div>\n",
              "  </div>\n"
            ]
          },
          "metadata": {},
          "execution_count": 54
        }
      ]
    },
    {
      "source": [
        "# Visualize our data (specifically the Sentiment column)\n",
        "# Data Distribution\n",
        "_df_2.groupby('Sentiment').size().plot(kind='barh', color=sns.palettes.mpl_palette('Dark2'))\n",
        "plt.gca().spines[['top', 'right',]].set_visible(False)"
      ],
      "cell_type": "code",
      "metadata": {
        "colab": {
          "base_uri": "https://localhost:8080/",
          "height": 430
        },
        "id": "asHxCqs2nBsq",
        "outputId": "bccb91e9-1504-4631-ba22-ce7fb78bc679"
      },
      "execution_count": 22,
      "outputs": [
        {
          "output_type": "display_data",
          "data": {
            "text/plain": [
              "<Figure size 640x480 with 1 Axes>"
            ],
            "image/png": "[encoded data removed]"
          },
          "metadata": {}
        }
      ]
    },
    {
      "cell_type": "code",
      "source": [
        "# Countplot for column Sentiment\n",
        "sns.countplot(x='Sentiment',data=df)"
      ],
      "metadata": {
        "colab": {
          "base_uri": "https://localhost:8080/",
          "height": 466
        },
        "id": "lp5xIuhqrVMI",
        "outputId": "cd3837ce-d783-4cca-8f19-28ab488793cd"
      },
      "execution_count": 25,
      "outputs": [
        {
          "output_type": "execute_result",
          "data": {
            "text/plain": [
              "<Axes: xlabel='Sentiment', ylabel='count'>"
            ]
          },
          "metadata": {},
          "execution_count": 25
        },
        {
          "output_type": "display_data",
          "data": {
            "text/plain": [
              "<Figure size 640x480 with 1 Axes>"
            ],
            "image/png": "[encoded data removed]"
          },
          "metadata": {}
        }
      ]
    },
    {
      "cell_type": "code",
      "source": [
        "# Check for null values\n",
        "df.isnull().sum()"
      ],
      "metadata": {
        "colab": {
          "base_uri": "https://localhost:8080/"
        },
        "id": "z1TLCPoHkEqg",
        "outputId": "d079c466-4882-48b4-c4b9-cf9ee6981970"
      },
      "execution_count": 14,
      "outputs": [
        {
          "output_type": "execute_result",
          "data": {
            "text/plain": [
              "New_ID       0\n",
              "Text         0\n",
              "Sentiment    0\n",
              "Party        0\n",
              "dtype: int64"
            ]
          },
          "metadata": {},
          "execution_count": 14
        }
      ]
    },
    {
      "cell_type": "code",
      "source": [
        "# Data cleanup\n",
        "# Remove all useless characters from tweets (URLs, Hashtags, mentions (at signs), punctuations)\n",
        "def clean_tweet(tweet):\n",
        "    '''\n",
        "    Function to clean a tweet text by removing the links, punctuations, hashtags, and mentions symbols\n",
        "    using regex expressions.\n",
        "    Parameters:\n",
        "       tweet (string): Tweet text to transform.\n",
        "    Returns:\n",
        "       tweet_cleaned (string): Tweet without links, punctuations, hashtags, and mentions symbols.\n",
        "    \"\"\"\n",
        "    '''\n",
        "    # convert the tweet text to lowercase letters\n",
        "    tweet_lower = tweet.lower()\n",
        "    # remove links, punctuations, hashtags, and mentions\n",
        "    tweet_cleaned = re.sub(u\"(http\\S+)|([“”!?])|([#@])\", \"\", tweet_lower)\n",
        "\n",
        "    return tweet_cleaned\n",
        "\n",
        "# Apply function to all tweets (text column)\n",
        "df['Text'] = [clean_tweet(tweet) for tweet in df['Text']]\n",
        "# df['Text'] = [tweet.split(\"@\")[0] for tweet in df['Text']]\n",
        "print('text', df['Text'])"
      ],
      "metadata": {
        "colab": {
          "base_uri": "https://localhost:8080/"
        },
        "id": "mx0S0d_BrzfC",
        "outputId": "109a8ea0-ff6c-436d-c4bd-8986ed51b25c"
      },
      "execution_count": 55,
      "outputs": [
        {
          "output_type": "stream",
          "name": "stdout",
          "text": [
            "text 0        απολυμανση_κοριοι απεντομωση_κοριος απολυμανσε...\n",
            "1        έξι νέες επιστολές για τη μακεδονία «καίνε» τη...\n",
            "2        ισχυρό κκε, δύναμη του λαού στη βουλή και στου...\n",
            "3        five2nds anthi7vas μνημονιακότατο το μερα25  ε...\n",
            "4        ai_katerina αυτό που είναι συγκλονιστικό είναι...\n",
            "                               ...                        \n",
            "36625    kourtakisjohn kmitsotakis ο κούλης ο μητσοτάκη...\n",
            "36626    enikos_gr nchatzinikolaou adonisgeorgiadi πρόσ...\n",
            "36627    η θέση του κκε για την ασφάλεια των πολιτών κα...\n",
            "36628    thanosplevris μαρη κακομοίρα θυγατέρα του ναζι...\n",
            "36629    gijjstalking spirosr76 εντάξει με έπεισες και ...\n",
            "Name: Text, Length: 36630, dtype: object\n"
          ]
        }
      ]
    },
    {
      "cell_type": "code",
      "source": [
        "X = df['Text'] # feature\n",
        "y = df['Sentiment'] # label\n",
        "\n",
        "print('X is:', X)\n",
        "\n",
        "# Apply cross validation for our model\n",
        "# 80% training data 20% test data is optimal for our case.\n",
        "X_train, X_test, y_train, y_test = train_test_split(X, y, test_size=0.2)\n",
        "\n",
        "# use Count Vectorizer to make text into vectors\n",
        "vectorizer = CountVectorizer()\n",
        "X_train = vectorizer.fit_transform(X_train)\n",
        "X_test = vectorizer.transform(X_test)\n",
        "\n",
        "#Stop words\n",
        "gr_stop_words = []"
      ],
      "metadata": {
        "colab": {
          "base_uri": "https://localhost:8080/"
        },
        "id": "MT3Qcyfbdbd9",
        "outputId": "57d094b9-cb73-471f-9089-bced306a34b0"
      },
      "execution_count": 56,
      "outputs": [
        {
          "output_type": "stream",
          "name": "stdout",
          "text": [
            "X is: 0        απολυμανση_κοριοι απεντομωση_κοριος απολυμανσε...\n",
            "1        έξι νέες επιστολές για τη μακεδονία «καίνε» τη...\n",
            "2        ισχυρό κκε, δύναμη του λαού στη βουλή και στου...\n",
            "3        five2nds anthi7vas μνημονιακότατο το μερα25  ε...\n",
            "4        ai_katerina αυτό που είναι συγκλονιστικό είναι...\n",
            "                               ...                        \n",
            "36625    kourtakisjohn kmitsotakis ο κούλης ο μητσοτάκη...\n",
            "36626    enikos_gr nchatzinikolaou adonisgeorgiadi πρόσ...\n",
            "36627    η θέση του κκε για την ασφάλεια των πολιτών κα...\n",
            "36628    thanosplevris μαρη κακομοίρα θυγατέρα του ναζι...\n",
            "36629    gijjstalking spirosr76 εντάξει με έπεισες και ...\n",
            "Name: Text, Length: 36630, dtype: object\n"
          ]
        }
      ]
    },
    {
      "cell_type": "markdown",
      "source": [
        "# Model training"
      ],
      "metadata": {
        "id": "vQRZhJxMjmiB"
      }
    },
    {
      "cell_type": "code",
      "source": [
        "# create and train our Logistic Regression model\n",
        "lr_model = LogisticRegression(solver='lbfgs', max_iter=1000)\n",
        "lr_model.fit(X_train, y_train)\n",
        "\n",
        "# add predictions to list.\n",
        "predictions = lr_model.predict(X_test)"
      ],
      "metadata": {
        "id": "EOMy9Cc5jpNl"
      },
      "execution_count": 57,
      "outputs": []
    },
    {
      "cell_type": "markdown",
      "source": [
        "# Model evaluation and plots"
      ],
      "metadata": {
        "id": "RBzYJqBamDK1"
      }
    },
    {
      "cell_type": "code",
      "source": [
        "print(classification_report(y_test,predictions))"
      ],
      "metadata": {
        "colab": {
          "base_uri": "https://localhost:8080/"
        },
        "id": "tcygOUiQmGNn",
        "outputId": "4182879b-be79-499d-8ace-2d4caa57b0dd"
      },
      "execution_count": 36,
      "outputs": [
        {
          "output_type": "stream",
          "name": "stdout",
          "text": [
            "              precision    recall  f1-score   support\n",
            "\n",
            "    NEGATIVE       0.38      0.39      0.38      2420\n",
            "     NEUTRAL       0.38      0.38      0.38      2472\n",
            "    POSITIVE       0.40      0.39      0.39      2434\n",
            "\n",
            "    accuracy                           0.38      7326\n",
            "   macro avg       0.38      0.38      0.38      7326\n",
            "weighted avg       0.38      0.38      0.38      7326\n",
            "\n"
          ]
        }
      ]
    },
    {
      "cell_type": "code",
      "source": [
        "print(accuracy_score(y_test,predictions))"
      ],
      "metadata": {
        "colab": {
          "base_uri": "https://localhost:8080/"
        },
        "id": "u57WeqqOxmBc",
        "outputId": "49761a4f-5162-4fdb-e83f-526d804d6c0a"
      },
      "execution_count": 39,
      "outputs": [
        {
          "output_type": "stream",
          "name": "stdout",
          "text": [
            "0.38465738465738464\n"
          ]
        }
      ]
    }
  ]
}